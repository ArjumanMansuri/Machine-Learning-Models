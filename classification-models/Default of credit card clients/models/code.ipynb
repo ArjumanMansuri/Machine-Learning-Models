{
 "cells": [
  {
   "cell_type": "code",
   "execution_count": 16,
   "metadata": {},
   "outputs": [
    {
     "name": "stdout",
     "output_type": "stream",
     "text": [
      "        0    1      2     3     4     5     6     7           8          9  \\\n",
      "0     1.0  1.0   22.0  22.0  22.0  19.0  18.0  14.0   49.895756  17.775994   \n",
      "1     1.0  1.0   24.0  24.0  22.0  18.0  16.0  13.0   57.709936  23.799994   \n",
      "2     1.0  1.0   62.0  60.0  59.0  54.0  47.0  33.0   55.831441  27.993933   \n",
      "3     1.0  1.0   55.0  53.0  53.0  50.0  43.0  31.0   40.467228  18.445954   \n",
      "4     1.0  1.0   44.0  44.0  44.0  41.0  39.0  27.0   18.026254   8.570709   \n",
      "5     1.0  1.0   44.0  43.0  41.0  41.0  37.0  29.0   28.356400   6.935636   \n",
      "6     1.0  0.0   29.0  29.0  29.0  27.0  25.0  16.0   15.448398   9.113819   \n",
      "7     1.0  1.0    6.0   6.0   6.0   6.0   2.0   1.0   20.679649   9.497786   \n",
      "8     1.0  1.0   22.0  21.0  18.0  15.0  13.0  10.0   66.691933  23.545543   \n",
      "9     1.0  1.0   79.0  75.0  73.0  71.0  64.0  47.0   22.141784  10.054384   \n",
      "10    1.0  1.0   45.0  45.0  45.0  43.0  40.0  32.0   84.358401  50.977459   \n",
      "11    1.0  0.0   25.0  25.0  25.0  23.0  22.0  18.0   22.480047  13.949995   \n",
      "12    1.0  1.0   70.0  69.0  65.0  63.0  63.0  50.0   10.560100   3.108358   \n",
      "13    1.0  1.0   48.0  43.0  39.0  32.0  27.0  18.0   23.012798   6.737583   \n",
      "14    1.0  1.0   94.0  93.0  92.0  89.0  86.0  77.0    8.610822   1.981319   \n",
      "15    1.0  1.0   20.0  18.0  16.0  15.0  13.0   9.0   65.113664  33.124797   \n",
      "16    1.0  1.0  105.0  95.0  81.0  66.0  46.0  32.0  123.053484  70.571010   \n",
      "17    1.0  1.0   25.0  25.0  24.0  23.0  22.0  19.0   17.034060   9.976938   \n",
      "18    1.0  1.0   64.0  64.0  63.0  58.0  55.0  40.0   19.673459   6.064866   \n",
      "19    1.0  0.0   46.0  41.0  39.0  32.0  23.0  15.0  115.533777  21.293312   \n",
      "20    1.0  1.0   37.0  37.0  37.0  34.0  31.0  23.0   61.357614  35.165912   \n",
      "21    1.0  1.0   19.0  17.0  15.0  12.0  12.0   7.0  179.703958  34.678202   \n",
      "22    1.0  0.0   37.0  34.0  31.0  30.0  28.0  24.0    8.818234   3.161544   \n",
      "23    1.0  1.0   10.0  10.0   9.0   9.0   9.0   6.0   72.938941  20.285362   \n",
      "24    1.0  1.0    5.0   5.0   5.0   5.0   4.0   3.0  133.054234   6.890885   \n",
      "25    1.0  1.0   40.0  38.0  33.0  25.0  20.0  12.0   73.082699  23.121256   \n",
      "26    1.0  1.0   55.0  53.0  51.0  47.0  39.0  26.0   71.337302  39.430203   \n",
      "27    1.0  1.0   99.0  98.0  68.0  53.0  42.0  27.0  298.068510  50.269654   \n",
      "28    1.0  1.0   45.0  45.0  45.0  43.0  37.0  24.0   35.173512  15.421144   \n",
      "29    1.0  1.0  103.0  89.0  83.0  71.0  60.0  38.0   11.025085   3.762343   \n",
      "...   ...  ...    ...   ...   ...   ...   ...   ...         ...        ...   \n",
      "1121  1.0  1.0   78.0  75.0  75.0  70.0  65.0  43.0   15.259422   8.751638   \n",
      "1122  1.0  1.0   30.0  30.0  29.0  27.0  23.0  17.0  140.399520  66.310840   \n",
      "1123  1.0  1.0    3.0   3.0   3.0   3.0   3.0   2.0   26.240091  14.503978   \n",
      "1124  1.0  1.0   25.0  24.0  24.0  23.0  18.0  14.0   83.135316  46.049413   \n",
      "1125  1.0  1.0   10.0  10.0  10.0  10.0   8.0   6.0   40.641723  19.202111   \n",
      "1126  1.0  1.0    4.0   4.0   4.0   4.0   4.0   3.0  118.036826  21.578380   \n",
      "1127  1.0  1.0   23.0  21.0  18.0  13.0   7.0   4.0   35.347026   9.431590   \n",
      "1128  1.0  1.0   21.0  21.0  21.0  20.0  20.0  16.0    5.121229   1.694872   \n",
      "1129  1.0  1.0   42.0  39.0  36.0  29.0  21.0  13.0   96.385981  24.281414   \n",
      "1130  1.0  1.0   37.0  36.0  33.0  24.0  18.0  10.0   37.686807   4.978201   \n",
      "1131  1.0  1.0   46.0  46.0  46.0  43.0  42.0  34.0   26.839906  16.254480   \n",
      "1132  1.0  1.0   86.0  84.0  83.0  82.0  80.0  63.0   24.226598   4.989495   \n",
      "1133  1.0  1.0   56.0  54.0  54.0  51.0  48.0  36.0    8.804178   1.918597   \n",
      "1134  1.0  1.0   77.0  71.0  69.0  61.0  39.0  25.0  159.904908  94.032005   \n",
      "1135  1.0  1.0   16.0  16.0  16.0  16.0  15.0   9.0  182.410841  51.850020   \n",
      "1136  1.0  1.0   65.0  60.0  48.0  31.0  24.0  13.0  159.723711  43.983882   \n",
      "1137  1.0  1.0   31.0  30.0  30.0  29.0  28.0  21.0   23.736589  12.865507   \n",
      "1138  1.0  1.0    3.0   3.0   3.0   3.0   1.0   1.0   22.266376   6.890557   \n",
      "1139  1.0  1.0   12.0  12.0  10.0   9.0   8.0   4.0   51.440209  26.643732   \n",
      "1140  1.0  1.0   31.0  31.0  31.0  27.0  22.0  17.0   22.404714  13.085926   \n",
      "1141  1.0  1.0   53.0  53.0  52.0  51.0  51.0  41.0    8.632010   3.852405   \n",
      "1142  1.0  1.0   53.0  53.0  51.0  47.0  44.0  32.0   25.283836   8.337976   \n",
      "1143  1.0  1.0   12.0  12.0  10.0   9.0   7.0   6.0  243.066702  26.650463   \n",
      "1144  1.0  1.0   35.0  34.0  33.0  33.0  33.0  26.0    2.579859   0.001552   \n",
      "1145  1.0  1.0   16.0  16.0  15.0  14.0  12.0   8.0  158.177307  84.865487   \n",
      "1146  1.0  1.0   34.0  34.0  34.0  33.0  31.0  24.0    6.071765   0.937472   \n",
      "1147  1.0  1.0   49.0  49.0  49.0  49.0  45.0  37.0   63.197145  27.377668   \n",
      "1148  1.0  0.0   49.0  48.0  48.0  45.0  43.0  33.0   30.461898  13.966980   \n",
      "1149  1.0  1.0   39.0  36.0  29.0  23.0  13.0   7.0   40.525739  12.604947   \n",
      "1150  1.0  1.0    7.0   7.0   7.0   7.0   7.0   5.0   69.423565   7.031843   \n",
      "\n",
      "             10         11         12        13        14        15        16  \\\n",
      "0      5.270920   0.771761   0.018632  0.006864  0.003923  0.003923  0.486903   \n",
      "1      3.325423   0.234185   0.003903  0.003903  0.003903  0.003903  0.520908   \n",
      "2     12.687485   4.852282   1.393889  0.373252  0.041817  0.007744  0.530904   \n",
      "3      9.118901   3.079428   0.840261  0.272434  0.007653  0.001531  0.483284   \n",
      "4      0.410381   0.000000   0.000000  0.000000  0.000000  0.000000  0.475935   \n",
      "5      2.305771   0.323724   0.000000  0.000000  0.000000  0.000000  0.502831   \n",
      "6      1.633493   0.000000   0.000000  0.000000  0.000000  0.000000  0.541743   \n",
      "7      1.223660   0.150382   0.000000  0.000000  0.000000  0.000000  0.576318   \n",
      "8      6.151117   0.496372   0.000000  0.000000  0.000000  0.000000  0.500073   \n",
      "9      0.874633   0.099780   0.023386  0.000000  0.000000  0.000000  0.560959   \n",
      "10    17.293722   1.974419   0.000000  0.000000  0.000000  0.000000  0.546008   \n",
      "11     0.436232   0.116119   0.000000  0.000000  0.000000  0.000000  0.551682   \n",
      "12     0.625511   0.287959   0.103985  0.004799  0.000000  0.000000  0.534396   \n",
      "13     2.403903   0.189235   0.011437  0.000000  0.000000  0.000000  0.501554   \n",
      "14     0.401183   0.066095   0.000000  0.000000  0.000000  0.000000  0.541277   \n",
      "15     8.785379   0.673542   0.051811  0.002933  0.000978  0.000978  0.569458   \n",
      "16    37.409891  19.937253  14.786668  6.114911  2.345740  1.002243  0.524461   \n",
      "17     1.067243   0.484829   0.467790  0.306697  0.188975  0.130114  0.552002   \n",
      "18     0.907342   0.080105   0.000000  0.000000  0.000000  0.000000  0.551182   \n",
      "19     9.665742   2.276676   0.329396  0.186000  0.118458  0.071698  0.540472   \n",
      "20     8.114027   1.204871   0.178499  0.010772  0.000000  0.000000  0.478189   \n",
      "21    13.018953   1.045157   0.023003  0.005001  0.002000  0.000000  0.470425   \n",
      "22     1.900918   1.524727   1.292870  0.165831  0.000000  0.000000  0.538223   \n",
      "23     9.793215   0.916265   0.040814  0.000000  0.000000  0.000000  0.528929   \n",
      "24     2.718365   0.169898   0.017940  0.011608  0.003166  0.001055  0.588627   \n",
      "25    13.093588   5.437382   3.845287  2.028783  0.518568  0.107150  0.527112   \n",
      "26    21.117569   3.956318   0.636703  0.032852  0.000000  0.000000  0.540769   \n",
      "27    33.693698  10.989180   6.124441  1.748958  0.358444  0.181282  0.556481   \n",
      "28     5.206171   1.491918   0.371425  0.017095  0.000000  0.000000  0.543355   \n",
      "29     0.015592   0.010914   0.003118  0.003118  0.001559  0.001559  0.488566   \n",
      "...         ...        ...        ...       ...       ...       ...       ...   \n",
      "1121   4.265453   0.185719   0.039580  0.004567  0.000000  0.000000  0.535677   \n",
      "1122  23.107818   3.045977   0.043178  0.003925  0.003925  0.003925  0.506181   \n",
      "1123   1.847966   0.107202   0.000000  0.000000  0.000000  0.000000  0.480484   \n",
      "1124  11.415154   1.663975   0.066478  0.009065  0.000000  0.000000  0.476429   \n",
      "1125   4.663533   0.399850   0.000000  0.000000  0.000000  0.000000  0.549111   \n",
      "1126   7.407548   0.725415   0.003959  0.003959  0.003959  0.003959  0.508743   \n",
      "1127   1.661299   0.247955   0.191132  0.169436  0.139475  0.001033  0.494143   \n",
      "1128   0.280699   0.000000   0.000000  0.000000  0.000000  0.000000  0.476500   \n",
      "1129   7.722666   0.641116   0.242004  0.100510  0.072211  0.017565  0.487241   \n",
      "1130   1.180336   0.184896   0.024986  0.007996  0.000000  0.000000  0.535271   \n",
      "1131   5.512953   0.316836   0.109734  0.000000  0.000000  0.000000  0.520977   \n",
      "1132   1.692755   0.165296   0.009183  0.003061  0.003061  0.000000  0.537999   \n",
      "1133   0.168133   0.000000   0.000000  0.000000  0.000000  0.000000  0.529728   \n",
      "1134  42.230588  16.562221   8.562842  5.137705  2.191362  1.327518  0.530547   \n",
      "1135  19.226295   3.303264   0.344026  0.085491  0.019570  0.013390  0.514502   \n",
      "1136  17.081478   1.644218   0.248323  0.087706  0.065515  0.051778  0.558896   \n",
      "1137   1.036667   0.072721   0.015473  0.000000  0.000000  0.000000  0.516223   \n",
      "1138   0.731205   0.063583   0.007179  0.001026  0.000000  0.000000  0.513383   \n",
      "1139   6.511260   0.312865   0.000000  0.000000  0.000000  0.000000  0.520232   \n",
      "1140   1.196279   0.100579   0.000000  0.000000  0.000000  0.000000  0.555720   \n",
      "1141   0.383992   0.290335   0.165460  0.109266  0.085852  0.071803  0.551013   \n",
      "1142   0.720774   0.036805   0.000000  0.000000  0.000000  0.000000  0.471802   \n",
      "1143  13.732893   0.099581   0.002075  0.001037  0.000000  0.000000  0.553246   \n",
      "1144   0.000000   0.000000   0.000000  0.000000  0.000000  0.000000  0.537551   \n",
      "1145  51.253664  11.283321   1.857293  0.019520  0.006832  0.001952  0.533177   \n",
      "1146   0.031145   0.003115   0.000000  0.000000  0.000000  0.000000  0.537470   \n",
      "1147   8.067688   0.979548   0.001552  0.000000  0.000000  0.000000  0.516733   \n",
      "1148   1.763305   0.137858   0.011221  0.000000  0.000000  0.000000  0.560632   \n",
      "1149   4.740919   1.077570   0.563518  0.326860  0.239568  0.174584  0.485972   \n",
      "1150   1.750548   0.046597   0.021180  0.008472  0.000000  0.000000  0.556192   \n",
      "\n",
      "            17   18 Class  \n",
      "0     0.100025  1.0  b'0'  \n",
      "1     0.144414  0.0  b'0'  \n",
      "2     0.128548  0.0  b'1'  \n",
      "3     0.114790  0.0  b'0'  \n",
      "4     0.123572  0.0  b'1'  \n",
      "5     0.126741  0.0  b'1'  \n",
      "6     0.139575  0.0  b'1'  \n",
      "7     0.071071  1.0  b'0'  \n",
      "8     0.116793  0.0  b'1'  \n",
      "9     0.109134  0.0  b'1'  \n",
      "10    0.112378  0.0  b'0'  \n",
      "11    0.139657  1.0  b'0'  \n",
      "12    0.089587  0.0  b'1'  \n",
      "13    0.138287  1.0  b'1'  \n",
      "14    0.124505  0.0  b'0'  \n",
      "15    0.089936  1.0  b'0'  \n",
      "16    0.134247  1.0  b'1'  \n",
      "17    0.108428  0.0  b'0'  \n",
      "18    0.098591  0.0  b'0'  \n",
      "19    0.104949  1.0  b'1'  \n",
      "20    0.110793  0.0  b'0'  \n",
      "21    0.094014  1.0  b'1'  \n",
      "22    0.098270  0.0  b'1'  \n",
      "23    0.108156  1.0  b'0'  \n",
      "24    0.109748  1.0  b'1'  \n",
      "25    0.105129  1.0  b'1'  \n",
      "26    0.117329  0.0  b'0'  \n",
      "27    0.117421  1.0  b'1'  \n",
      "28    0.118110  0.0  b'0'  \n",
      "29    0.134091  0.0  b'1'  \n",
      "...        ...  ...   ...  \n",
      "1121  0.118739  0.0  b'1'  \n",
      "1122  0.095187  1.0  b'0'  \n",
      "1123  0.113328  1.0  b'0'  \n",
      "1124  0.131950  0.0  b'1'  \n",
      "1125  0.120162  0.0  b'0'  \n",
      "1126  0.105893  1.0  b'0'  \n",
      "1127  0.099182  1.0  b'1'  \n",
      "1128  0.073226  1.0  b'1'  \n",
      "1129  0.084897  0.0  b'1'  \n",
      "1130  0.093947  0.0  b'1'  \n",
      "1131  0.095824  0.0  b'1'  \n",
      "1132  0.097953  0.0  b'1'  \n",
      "1133  0.100565  0.0  b'1'  \n",
      "1134  0.127006  1.0  b'1'  \n",
      "1135  0.104032  1.0  b'0'  \n",
      "1136  0.127860  1.0  b'1'  \n",
      "1137  0.120687  0.0  b'1'  \n",
      "1138  0.106655  0.0  b'1'  \n",
      "1139  0.100426  0.0  b'1'  \n",
      "1140  0.109722  0.0  b'1'  \n",
      "1141  0.087413  1.0  b'1'  \n",
      "1142  0.141088  0.0  b'0'  \n",
      "1143  0.084022  1.0  b'1'  \n",
      "1144  0.124181  0.0  b'0'  \n",
      "1145  0.104430  1.0  b'0'  \n",
      "1146  0.116795  0.0  b'0'  \n",
      "1147  0.124190  0.0  b'0'  \n",
      "1148  0.129843  0.0  b'0'  \n",
      "1149  0.106690  1.0  b'1'  \n",
      "1150  0.088957  0.0  b'0'  \n",
      "\n",
      "[1151 rows x 20 columns]\n",
      "(1151, 19)\n",
      "(1151,)\n"
     ]
    }
   ],
   "source": [
    "#importing the libraries\n",
    "import numpy as np\n",
    "import matplotlib.pyplot as plt\n",
    "import pandas as pd\n",
    "import sklearn\n",
    "from scipy.io import arff\n",
    "\n",
    "#Importing Diabetic Retinopathy Dataset\n",
    "dataset, meta = arff.loadarff('C:/Users/emnsrjm/Desktop/Courses/Machine Learning/Project/Project/Machine-Learning-Project/classification-models/Diabetic Retinopathy/data/messidor_features.arff')\n",
    "data = pd.DataFrame(dataset)\n",
    "X = data.iloc[:, :19].values\n",
    "Y = data.iloc[:, 19].values\n",
    "\n",
    "print(data)\n",
    "print(X.shape)\n",
    "print(Y.shape)"
   ]
  },
  {
   "cell_type": "code",
   "execution_count": 17,
   "metadata": {},
   "outputs": [
    {
     "data": {
      "text/plain": [
       "Dataset: dr\n",
       "\t0's type is numeric\n",
       "\t1's type is numeric\n",
       "\t2's type is numeric\n",
       "\t3's type is numeric\n",
       "\t4's type is numeric\n",
       "\t5's type is numeric\n",
       "\t6's type is numeric\n",
       "\t7's type is numeric\n",
       "\t8's type is numeric\n",
       "\t9's type is numeric\n",
       "\t10's type is numeric\n",
       "\t11's type is numeric\n",
       "\t12's type is numeric\n",
       "\t13's type is numeric\n",
       "\t14's type is numeric\n",
       "\t15's type is numeric\n",
       "\t16's type is numeric\n",
       "\t17's type is numeric\n",
       "\t18's type is numeric\n",
       "\tClass's type is nominal, range is ('0', '1')"
      ]
     },
     "execution_count": 17,
     "metadata": {},
     "output_type": "execute_result"
    }
   ],
   "source": [
    "meta"
   ]
  },
  {
   "cell_type": "code",
   "execution_count": 18,
   "metadata": {},
   "outputs": [
    {
     "name": "stdout",
     "output_type": "stream",
     "text": [
      "[0 0 1 ... 0 1 0]\n"
     ]
    }
   ],
   "source": [
    "from sklearn.preprocessing import LabelEncoder\n",
    "labelencoder = LabelEncoder()\n",
    "Y = labelencoder.fit_transform(Y)\n",
    "print(Y)"
   ]
  },
  {
   "cell_type": "code",
   "execution_count": 19,
   "metadata": {},
   "outputs": [],
   "source": [
    "#Feature Scaling\n",
    "from sklearn.preprocessing import StandardScaler\n",
    "sc = StandardScaler()\n",
    "X_encoded = sc.fit_transform(X)"
   ]
  },
  {
   "cell_type": "code",
   "execution_count": 20,
   "metadata": {},
   "outputs": [],
   "source": [
    "from sklearn.model_selection import train_test_split\n",
    "X_train, X_test, Y_train, Y_test = train_test_split(X_encoded, Y, test_size = 0.33, random_state = 0)"
   ]
  },
  {
   "cell_type": "code",
   "execution_count": 21,
   "metadata": {},
   "outputs": [
    {
     "name": "stdout",
     "output_type": "stream",
     "text": [
      "Accuracy for KNeighborsClassifier: 63.94736842105263\n",
      "Accuracy for SVC: 72.10526315789474\n",
      "Accuracy for DecisionTreeClassifier: 63.421052631578945\n",
      "Accuracy for RandomForestClassifier: 67.89473684210526\n",
      "Accuracy for AdaBoostClassifier: 64.73684210526316\n",
      "Accuracy for LogisticRegression: 73.42105263157895\n",
      "Accuracy for GaussianNB: 61.8421052631579\n"
     ]
    }
   ],
   "source": [
    "# Model Accuracy\n",
    "from sklearn.neighbors import KNeighborsClassifier\n",
    "from sklearn.svm import SVC\n",
    "from sklearn.tree import DecisionTreeClassifier\n",
    "from sklearn.ensemble import RandomForestClassifier\n",
    "from sklearn.ensemble import AdaBoostClassifier\n",
    "from sklearn.linear_model import LogisticRegression\n",
    "from sklearn.naive_bayes import GaussianNB\n",
    "\n",
    "names = ['KNeighborsClassifier', 'SVC', 'DecisionTreeClassifier', 'RandomForestClassifier','AdaBoostClassifier','LogisticRegression','GaussianNB']\n",
    "models = [KNeighborsClassifier(n_neighbors = 5, metric = 'minkowski', p = 2),\n",
    "          SVC(kernel = 'linear', random_state = 0),\n",
    "          DecisionTreeClassifier(criterion = 'entropy', random_state = 0),\n",
    "          RandomForestClassifier(n_estimators = 10, criterion = 'entropy', random_state = 0),\n",
    "          AdaBoostClassifier(n_estimators=10,learning_rate=1),\n",
    "          LogisticRegression(random_state = 0,solver='lbfgs',multi_class='ovr'),\n",
    "          GaussianNB()]\n",
    "\n",
    "accuracy= np.zeros(7)\n",
    "\n",
    "for counter, model in enumerate(models):\n",
    "    model.fit(X_train, Y_train)\n",
    "    Y_pred=model.predict(X_test)\n",
    "    accuracy[counter] = sklearn.metrics.accuracy_score(Y_test, Y_pred)*100\n",
    "    print(\"Accuracy for \" + names[counter] + \":\",accuracy[counter])"
   ]
  },
  {
   "cell_type": "code",
   "execution_count": 25,
   "metadata": {},
   "outputs": [
    {
     "data": {
      "text/plain": [
       "Text(0.5, 1.0, \"Diabetic Retinopathy dataset model's accuracy\")"
      ]
     },
     "execution_count": 25,
     "metadata": {},
     "output_type": "execute_result"
    },
    {
     "data": {
      "image/png": "[encoded data removed]",
      "text/plain": [
       "<Figure size 864x432 with 1 Axes>"
      ]
     },
     "metadata": {
      "needs_background": "light"
     },
     "output_type": "display_data"
    }
   ],
   "source": [
    "#Comparision graph between all models\n",
    "import seaborn as sns\n",
    "y_pos = np.arange(len(names))\n",
    "heights = [accuracy[0],accuracy[1],accuracy[2],accuracy[3],accuracy[4],accuracy[5],accuracy[6]]\n",
    "\n",
    "fig, ax=plt.subplots(1,1,figsize=(12,6))\n",
    "\n",
    "plt.xticks(rotation='90')\n",
    "sns.barplot(x=names, y=heights)\n",
    "plt.ylabel('accuracy score')\n",
    "plt.title('Diabetic Retinopathy dataset model\\'s accuracy')"
   ]
  },
  {
   "cell_type": "code",
   "execution_count": null,
   "metadata": {},
   "outputs": [],
   "source": []
  }
 ],
 "metadata": {
  "kernelspec": {
   "display_name": "Python 3",
   "language": "python",
   "name": "python3"
  },
  "language_info": {
   "codemirror_mode": {
    "name": "ipython",
    "version": 3
   },
   "file_extension": ".py",
   "mimetype": "text/x-python",
   "name": "python",
   "nbconvert_exporter": "python",
   "pygments_lexer": "ipython3",
   "version": "3.7.3"
  }
 },
 "nbformat": 4,
 "nbformat_minor": 2
}
