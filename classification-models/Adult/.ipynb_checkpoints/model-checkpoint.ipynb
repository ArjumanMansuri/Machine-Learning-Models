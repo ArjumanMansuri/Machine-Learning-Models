{
 "cells": [
  {
   "cell_type": "markdown",
   "metadata": {},
   "source": [
    "# Adult Dataset"
   ]
  },
  {
   "cell_type": "code",
   "execution_count": 10,
   "metadata": {
    "scrolled": true
   },
   "outputs": [],
   "source": [
    "#importing the libraries\n",
    "import numpy as np\n",
    "import matplotlib.pyplot as plt\n",
    "import pandas as pd\n",
    "import sklearn\n",
    "import scipy\n",
    "\n",
    "#Importing Adult training Dataset\n",
    "dataset_train = pd.read_csv('adult.data',header=None)\n",
    "data_train = pd.DataFrame(dataset_train)\n",
    "\n",
    "\n",
    "#Importing Adult test Dataset\n",
    "dataset_test = pd.read_csv('adult.test',skiprows=1)\n",
    "data_test = pd.DataFrame(dataset_test)\n"
   ]
  },
  {
   "cell_type": "code",
   "execution_count": 11,
   "metadata": {},
   "outputs": [
    {
     "name": "stdout",
     "output_type": "stream",
     "text": [
      "-> Contains Missing values                 False\n",
      "-> Total Number of Missing values:         0\n",
      "-> Number of Missing values by column:     25                    0\n",
      " Private              0\n",
      " 226802               0\n",
      " 11th                 0\n",
      " 7                    0\n",
      " Never-married        0\n",
      " Machine-op-inspct    0\n",
      " Own-child            0\n",
      " Black                0\n",
      " Male                 0\n",
      " 0                    0\n",
      " 0.1                  0\n",
      " 40                   0\n",
      " United-States        0\n",
      " <=50K.               0\n",
      "dtype: int64\n"
     ]
    }
   ],
   "source": [
    "# Check if dataset has null values\n",
    "result = data_test.isna()\n",
    "print(\"-> Contains Missing values                 \",end='')\n",
    "print(result.values.any())\n",
    "print(\"-> Total Number of Missing values:         \",end='')\n",
    "print(result.sum().sum())\n",
    "print(\"-> Number of Missing values by column:     \",end='')\n",
    "print(result.sum())"
   ]
  },
  {
   "cell_type": "code",
   "execution_count": 12,
   "metadata": {},
   "outputs": [
    {
     "name": "stderr",
     "output_type": "stream",
     "text": [
      "C:\\Users\\Manan\\Anaconda3\\lib\\site-packages\\ipykernel_launcher.py:4: FutureWarning: The 'get_values' method is deprecated and will be removed in a future version. Use '.to_numpy()' or '.array' instead.\n",
      "  after removing the cwd from sys.path.\n",
      "C:\\Users\\Manan\\Anaconda3\\lib\\site-packages\\ipykernel_launcher.py:4: FutureWarning: elementwise comparison failed; returning scalar instead, but in the future will perform elementwise comparison\n",
      "  after removing the cwd from sys.path.\n",
      "C:\\Users\\Manan\\Anaconda3\\lib\\site-packages\\ipykernel_launcher.py:10: FutureWarning: The 'get_values' method is deprecated and will be removed in a future version. Use '.to_numpy()' or '.array' instead.\n",
      "  # Remove the CWD from sys.path while we load stuff.\n",
      "C:\\Users\\Manan\\Anaconda3\\lib\\site-packages\\ipykernel_launcher.py:10: FutureWarning: elementwise comparison failed; returning scalar instead, but in the future will perform elementwise comparison\n",
      "  # Remove the CWD from sys.path while we load stuff.\n"
     ]
    }
   ],
   "source": [
    "# replacing '?' values with most frequent value of that column\n",
    "count_train = len(data_train.columns)\n",
    "for i in range(0,count_train):\n",
    "    present = ' ?' in data_train.iloc[:,i].get_values()\n",
    "    if present:\n",
    "        data_train.iloc[:,i] = data_train.iloc[:,i].replace(' ?',data_train.iloc[:,i].mode()[0])\n",
    "\n",
    "count_test = len(data_test.columns)\n",
    "for i in range(0,count_test):\n",
    "    present = ' ?' in data_test.iloc[:,i].get_values()\n",
    "    if present:\n",
    "        data_test.iloc[:,i] = data_test.iloc[:,i].replace(' ?',data_test.iloc[:,i].mode()[0])"
   ]
  },
  {
   "cell_type": "code",
   "execution_count": 13,
   "metadata": {
    "scrolled": true
   },
   "outputs": [
    {
     "name": "stdout",
     "output_type": "stream",
     "text": [
      "       0                  1       2            3   4                    5   \\\n",
      "0      39          State-gov   77516    Bachelors  13        Never-married   \n",
      "1      50   Self-emp-not-inc   83311    Bachelors  13   Married-civ-spouse   \n",
      "2      38            Private  215646      HS-grad   9             Divorced   \n",
      "3      53            Private  234721         11th   7   Married-civ-spouse   \n",
      "4      28            Private  338409    Bachelors  13   Married-civ-spouse   \n",
      "...    ..                ...     ...          ...  ..                  ...   \n",
      "32556  27            Private  257302   Assoc-acdm  12   Married-civ-spouse   \n",
      "32557  40            Private  154374      HS-grad   9   Married-civ-spouse   \n",
      "32558  58            Private  151910      HS-grad   9              Widowed   \n",
      "32559  22            Private  201490      HS-grad   9        Never-married   \n",
      "32560  52       Self-emp-inc  287927      HS-grad   9   Married-civ-spouse   \n",
      "\n",
      "                       6               7       8        9      10  11  12  \\\n",
      "0            Adm-clerical   Not-in-family   White     Male   2174   0  40   \n",
      "1         Exec-managerial         Husband   White     Male      0   0  13   \n",
      "2       Handlers-cleaners   Not-in-family   White     Male      0   0  40   \n",
      "3       Handlers-cleaners         Husband   Black     Male      0   0  40   \n",
      "4          Prof-specialty            Wife   Black   Female      0   0  40   \n",
      "...                   ...             ...     ...      ...    ...  ..  ..   \n",
      "32556        Tech-support            Wife   White   Female      0   0  38   \n",
      "32557   Machine-op-inspct         Husband   White     Male      0   0  40   \n",
      "32558        Adm-clerical       Unmarried   White   Female      0   0  40   \n",
      "32559        Adm-clerical       Own-child   White     Male      0   0  20   \n",
      "32560     Exec-managerial            Wife   White   Female  15024   0  40   \n",
      "\n",
      "                   13      14  \n",
      "0       United-States   <=50K  \n",
      "1       United-States   <=50K  \n",
      "2       United-States   <=50K  \n",
      "3       United-States   <=50K  \n",
      "4                Cuba   <=50K  \n",
      "...               ...     ...  \n",
      "32556   United-States   <=50K  \n",
      "32557   United-States    >50K  \n",
      "32558   United-States   <=50K  \n",
      "32559   United-States   <=50K  \n",
      "32560   United-States    >50K  \n",
      "\n",
      "[32561 rows x 15 columns]\n",
      "       25        Private   226802           11th   7        Never-married  \\\n",
      "0      38        Private    89814        HS-grad   9   Married-civ-spouse   \n",
      "1      28      Local-gov   336951     Assoc-acdm  12   Married-civ-spouse   \n",
      "2      44        Private   160323   Some-college  10   Married-civ-spouse   \n",
      "3      18        Private   103497   Some-college  10        Never-married   \n",
      "4      34        Private   198693           10th   6        Never-married   \n",
      "...    ..            ...      ...            ...  ..                  ...   \n",
      "16275  39        Private   215419      Bachelors  13             Divorced   \n",
      "16276  64        Private   321403        HS-grad   9              Widowed   \n",
      "16277  38        Private   374983      Bachelors  13   Married-civ-spouse   \n",
      "16278  44        Private    83891      Bachelors  13             Divorced   \n",
      "16279  35   Self-emp-inc   182148      Bachelors  13   Married-civ-spouse   \n",
      "\n",
      "        Machine-op-inspct        Own-child                Black     Male  \\\n",
      "0         Farming-fishing          Husband                White     Male   \n",
      "1         Protective-serv          Husband                White     Male   \n",
      "2       Machine-op-inspct          Husband                Black     Male   \n",
      "3          Prof-specialty        Own-child                White   Female   \n",
      "4           Other-service    Not-in-family                White     Male   \n",
      "...                   ...              ...                  ...      ...   \n",
      "16275      Prof-specialty    Not-in-family                White   Female   \n",
      "16276      Prof-specialty   Other-relative                Black     Male   \n",
      "16277      Prof-specialty          Husband                White     Male   \n",
      "16278        Adm-clerical        Own-child   Asian-Pac-Islander     Male   \n",
      "16279     Exec-managerial          Husband                White     Male   \n",
      "\n",
      "          0   0.1   40   United-States   <=50K.  \n",
      "0         0     0   50   United-States   <=50K.  \n",
      "1         0     0   40   United-States    >50K.  \n",
      "2      7688     0   40   United-States    >50K.  \n",
      "3         0     0   30   United-States   <=50K.  \n",
      "4         0     0   30   United-States   <=50K.  \n",
      "...     ...   ...  ...             ...      ...  \n",
      "16275     0     0   36   United-States   <=50K.  \n",
      "16276     0     0   40   United-States   <=50K.  \n",
      "16277     0     0   50   United-States   <=50K.  \n",
      "16278  5455     0   40   United-States   <=50K.  \n",
      "16279     0     0   60   United-States    >50K.  \n",
      "\n",
      "[16280 rows x 15 columns]\n",
      "(32561, 13)\n",
      "(32561,)\n"
     ]
    }
   ],
   "source": [
    "\n",
    "X = data_train.iloc[:, 1:14].values\n",
    "Y = data_train.iloc[:, 14].values\n",
    "\n",
    "\n",
    "X_test = data_test.iloc[:, 1:14].values\n",
    "Y_test = data_test.iloc[:, 14].values\n",
    "\n",
    "X_train = X\n",
    "Y_train = Y\n",
    "\n",
    "print(data_train)\n",
    "print(data_test)\n",
    "print(X.shape)\n",
    "print(Y.shape)\n",
    "\n",
    "#Setting up an array describing if a feature's data is discrete(D) or continuous(C)\n",
    "datatype = np.array(['D','C','D','C','D','D','D','D','D','C','C','C','D'])"
   ]
  },
  {
   "cell_type": "code",
   "execution_count": 14,
   "metadata": {
    "scrolled": true
   },
   "outputs": [
    {
     "name": "stdout",
     "output_type": "stream",
     "text": [
      "<class 'pandas.core.frame.DataFrame'>\n",
      "RangeIndex: 32561 entries, 0 to 32560\n",
      "Data columns (total 15 columns):\n",
      "0     32561 non-null int64\n",
      "1     32561 non-null object\n",
      "2     32561 non-null int64\n",
      "3     32561 non-null object\n",
      "4     32561 non-null int64\n",
      "5     32561 non-null object\n",
      "6     32561 non-null object\n",
      "7     32561 non-null object\n",
      "8     32561 non-null object\n",
      "9     32561 non-null object\n",
      "10    32561 non-null int64\n",
      "11    32561 non-null int64\n",
      "12    32561 non-null int64\n",
      "13    32561 non-null object\n",
      "14    32561 non-null object\n",
      "dtypes: int64(6), object(9)\n",
      "memory usage: 3.7+ MB\n",
      "<class 'pandas.core.frame.DataFrame'>\n",
      "RangeIndex: 16280 entries, 0 to 16279\n",
      "Data columns (total 15 columns):\n",
      "25                    16280 non-null int64\n",
      " Private              16280 non-null object\n",
      " 226802               16280 non-null int64\n",
      " 11th                 16280 non-null object\n",
      " 7                    16280 non-null int64\n",
      " Never-married        16280 non-null object\n",
      " Machine-op-inspct    16280 non-null object\n",
      " Own-child            16280 non-null object\n",
      " Black                16280 non-null object\n",
      " Male                 16280 non-null object\n",
      " 0                    16280 non-null int64\n",
      " 0.1                  16280 non-null int64\n",
      " 40                   16280 non-null int64\n",
      " United-States        16280 non-null object\n",
      " <=50K.               16280 non-null object\n",
      "dtypes: int64(6), object(9)\n",
      "memory usage: 1.9+ MB\n"
     ]
    }
   ],
   "source": [
    "dataset_train.info()\n",
    "dataset_test.info()"
   ]
  },
  {
   "cell_type": "code",
   "execution_count": 15,
   "metadata": {},
   "outputs": [],
   "source": [
    "# Preprocessing the discrete data\n",
    "from sklearn.preprocessing import LabelEncoder\n",
    "labelencoder = LabelEncoder()\n",
    "for i in range(0,13):\n",
    "    if datatype[i]=='D':\n",
    "        X_train[:,i]  = labelencoder.fit_transform(X_train[:,i])\n",
    "        X_test[:,i]  = labelencoder.fit_transform(X_test[:,i])\n",
    "Y_train = labelencoder.fit_transform(Y_train)\n",
    "Y_test = labelencoder.fit_transform(Y_test)"
   ]
  },
  {
   "cell_type": "code",
   "execution_count": 16,
   "metadata": {},
   "outputs": [],
   "source": [
    "#Feature Scaling\n",
    "from sklearn.preprocessing import StandardScaler\n",
    "sc = StandardScaler()\n",
    "X_train = sc.fit_transform(X_train)\n",
    "X_test = sc.transform(X_test)"
   ]
  },
  {
   "cell_type": "code",
   "execution_count": 17,
   "metadata": {},
   "outputs": [
    {
     "name": "stdout",
     "output_type": "stream",
     "text": [
      "f1_sc for KNeighborsClassifier: 0.836\n",
      "f1_sc for SVC: 0.85\n",
      "f1_sc for DecisionTreeClassifier: 0.855\n",
      "f1_sc for RandomForestClassifier: 0.841\n",
      "f1_sc for AdaBoostClassifier: 0.855\n",
      "f1_sc for LogisticRegression: 0.826\n",
      "f1_sc for GaussianNB: 0.802\n",
      "f1_sc for MLPClassifier: 0.847\n"
     ]
    },
    {
     "name": "stderr",
     "output_type": "stream",
     "text": [
      "C:\\Users\\Manan\\Anaconda3\\lib\\site-packages\\sklearn\\neural_network\\multilayer_perceptron.py:566: ConvergenceWarning: Stochastic Optimizer: Maximum iterations (100) reached and the optimization hasn't converged yet.\n",
      "  % self.max_iter, ConvergenceWarning)\n"
     ]
    }
   ],
   "source": [
    "# Model Accuracy\n",
    "from sklearn.neighbors import KNeighborsClassifier\n",
    "from sklearn.svm import SVC\n",
    "from sklearn.tree import DecisionTreeClassifier\n",
    "from sklearn.ensemble import RandomForestClassifier\n",
    "from sklearn.ensemble import AdaBoostClassifier\n",
    "from sklearn.linear_model import LogisticRegression\n",
    "from sklearn.naive_bayes import GaussianNB\n",
    "from sklearn.neural_network import MLPClassifier\n",
    "from sklearn.model_selection import GridSearchCV\n",
    "from sklearn.model_selection import RandomizedSearchCV\n",
    "from sklearn.metrics import f1_score\n",
    "\n",
    "names = ['KNeighborsClassifier','SVC', 'DecisionTreeClassifier', 'RandomForestClassifier','AdaBoostClassifier','LogisticRegression','GaussianNB','MLPClassifier']\n",
    "models = [KNeighborsClassifier(),\n",
    "          SVC(),\n",
    "          DecisionTreeClassifier(),\n",
    "          RandomForestClassifier(),\n",
    "          AdaBoostClassifier(),\n",
    "          LogisticRegression(),\n",
    "          GaussianNB(),\n",
    "          MLPClassifier()]\n",
    "\n",
    "param_distributions = {\n",
    "    'KNeighborsClassifier': {'n_neighbors': [5,11], 'metric':['minkowski','euclidean']},\n",
    "    'SVC': {'kernel':['rbf']},\n",
    "    'DecisionTreeClassifier': {'criterion':['gini','entropy'], 'max_depth': [10,20,30,50]},\n",
    "    'RandomForestClassifier': {'n_estimators': [16, 32]},\n",
    "    'AdaBoostClassifier': {'n_estimators': [16, 32], 'learning_rate':[0.8,1]},\n",
    "    'LogisticRegression': {'max_iter':[100,130,140],'C': np.logspace(-1, 1, 3), 'solver':['lbfgs','sag', 'saga']},\n",
    "    'GaussianNB': {},\n",
    "    'MLPClassifier': {'hidden_layer_sizes': [(100,),(30,20)],'activation':['tanh', 'relu'], 'max_iter': [100,200]}\n",
    "}\n",
    "\n",
    "accuracy= np.zeros(8)\n",
    "for counter, model in enumerate(models):\n",
    "    np.random.seed(0);\n",
    "    gridcv = GridSearchCV(model, param_distributions[names[counter]], n_jobs=2, cv=3)\n",
    "    gridcv.fit(X_train, Y_train)\n",
    "    Y_pred = gridcv.best_estimator_.predict(X_test)\n",
    "    accuracy[counter] = round(f1_score(Y_test, Y_pred, average='micro'),3)\n",
    "    print(\"f1_sc for \" + names[counter] + \":\",accuracy[counter])"
   ]
  },
  {
   "cell_type": "code",
   "execution_count": 18,
   "metadata": {},
   "outputs": [
    {
     "data": {
      "text/plain": [
       "Text(0.5, 1.0, 'Adult dataset models accuracy')"
      ]
     },
     "execution_count": 18,
     "metadata": {},
     "output_type": "execute_result"
    },
    {
     "data": {
      "image/png": "[encoded data removed]",
      "text/plain": [
       "<Figure size 864x432 with 1 Axes>"
      ]
     },
     "metadata": {
      "needs_background": "light"
     },
     "output_type": "display_data"
    }
   ],
   "source": [
    "#Comparision graph between all models\n",
    "import seaborn as sns\n",
    "y_pos = np.arange(len(names))\n",
    "heights = [accuracy[0],accuracy[1],accuracy[2],accuracy[3],accuracy[4],accuracy[5],accuracy[6], accuracy[7]]\n",
    "\n",
    "fig, ax=plt.subplots(1,1,figsize=(12,6))\n",
    "\n",
    "plt.xticks(rotation='90')\n",
    "sns.barplot(x=names, y=heights)\n",
    "plt.ylabel('accuracy score')\n",
    "plt.title('Adult dataset models accuracy')"
   ]
  },
  {
   "cell_type": "code",
   "execution_count": null,
   "metadata": {},
   "outputs": [],
   "source": []
  }
 ],
 "metadata": {
  "kernelspec": {
   "display_name": "Python 3",
   "language": "python",
   "name": "python3"
  },
  "language_info": {
   "codemirror_mode": {
    "name": "ipython",
    "version": 3
   },
   "file_extension": ".py",
   "mimetype": "text/x-python",
   "name": "python",
   "nbconvert_exporter": "python",
   "pygments_lexer": "ipython3",
   "version": "3.7.4"
  }
 },
 "nbformat": 4,
 "nbformat_minor": 2
}
