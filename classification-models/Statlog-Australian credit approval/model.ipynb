{
 "cells": [
  {
   "cell_type": "markdown",
   "metadata": {},
   "source": [
    "### Statlog-Australian Credit Approval"
   ]
  },
  {
   "cell_type": "code",
   "execution_count": 2,
   "metadata": {},
   "outputs": [
    {
     "name": "stdout",
     "output_type": "stream",
     "text": [
      "     1  22.08   11.46  2   4  4.1  1.585  0  0.1  0.2  1.1  2.1  100  1213  \\\n",
      "0    0  22.67   7.000  2   8    4  0.165  0    0    0    0    2  160     1   \n",
      "1    0  29.58   1.750  1   4    4  1.250  0    0    0    1    2  280     1   \n",
      "2    0  21.67  11.500  1   5    3  0.000  1    1   11    1    2    0     1   \n",
      "3    1  20.17   8.170  2   6    4  1.960  1    1   14    0    2   60   159   \n",
      "4    0  15.83   0.585  2   8    8  1.500  1    1    2    0    2  100     1   \n",
      "..  ..    ...     ... ..  ..  ...    ... ..  ...  ...  ...  ...  ...   ...   \n",
      "684  1  31.57  10.500  2  14    4  6.500  1    0    0    0    2    0     1   \n",
      "685  1  20.67   0.415  2   8    4  0.125  0    0    0    0    2    0    45   \n",
      "686  0  18.83   9.540  2   6    4  0.085  1    0    0    0    2  100     1   \n",
      "687  0  27.42  14.500  2  14    8  3.085  1    1    1    0    2  120    12   \n",
      "688  1  41.00   0.040  2  10    4  0.040  0    1    1    0    1  560     1   \n",
      "\n",
      "     0.3  \n",
      "0      0  \n",
      "1      0  \n",
      "2      1  \n",
      "3      1  \n",
      "4      1  \n",
      "..   ...  \n",
      "684    1  \n",
      "685    0  \n",
      "686    1  \n",
      "687    1  \n",
      "688    1  \n",
      "\n",
      "[689 rows x 15 columns]\n",
      "(689, 14)\n",
      "(689,)\n"
     ]
    }
   ],
   "source": [
    "#importing the libraries\n",
    "import numpy as np\n",
    "import matplotlib.pyplot as plt\n",
    "import pandas as pd\n",
    "import sklearn\n",
    "import seaborn as sns\n",
    "\n",
    "#Importing Statlog-Australian credit approval Dataset\n",
    "dataset = pd.read_csv('australian.dat',sep='\\s+')\n",
    "data = pd.DataFrame(dataset)\n",
    "\n",
    "X = data.iloc[:, 0:14].values\n",
    "Y = data.iloc[:, -1].values\n",
    "print(data)\n",
    "print(X.shape)\n",
    "print(Y.shape)"
   ]
  },
  {
   "cell_type": "code",
   "execution_count": 3,
   "metadata": {},
   "outputs": [
    {
     "name": "stdout",
     "output_type": "stream",
     "text": [
      "<class 'pandas.core.frame.DataFrame'>\n",
      "RangeIndex: 689 entries, 0 to 688\n",
      "Data columns (total 15 columns):\n",
      "1        689 non-null int64\n",
      "22.08    689 non-null float64\n",
      "11.46    689 non-null float64\n",
      "2        689 non-null int64\n",
      "4        689 non-null int64\n",
      "4.1      689 non-null int64\n",
      "1.585    689 non-null float64\n",
      "0        689 non-null int64\n",
      "0.1      689 non-null int64\n",
      "0.2      689 non-null int64\n",
      "1.1      689 non-null int64\n",
      "2.1      689 non-null int64\n",
      "100      689 non-null int64\n",
      "1213     689 non-null int64\n",
      "0.3      689 non-null int64\n",
      "dtypes: float64(3), int64(12)\n",
      "memory usage: 80.9 KB\n"
     ]
    }
   ],
   "source": [
    "# to check missing values\n",
    "dataset.info()"
   ]
  },
  {
   "cell_type": "code",
   "execution_count": 4,
   "metadata": {},
   "outputs": [],
   "source": [
    "from sklearn.model_selection import train_test_split\n",
    "X_train, X_test, Y_train, Y_test = train_test_split(X, Y, test_size = 0.33, random_state = 0)"
   ]
  },
  {
   "cell_type": "code",
   "execution_count": 5,
   "metadata": {},
   "outputs": [],
   "source": [
    "#Feature Scaling\n",
    "from sklearn.preprocessing import StandardScaler\n",
    "sc = StandardScaler().fit(X_train)\n",
    "X_train = sc.transform(X_train)\n",
    "X_test = sc.transform(X_test)"
   ]
  },
  {
   "cell_type": "code",
   "execution_count": 6,
   "metadata": {},
   "outputs": [
    {
     "name": "stdout",
     "output_type": "stream",
     "text": [
      "f1_score for KNeighborsClassifier: 0.846\n",
      "f1_score for SVC: 0.842\n"
     ]
    },
    {
     "name": "stderr",
     "output_type": "stream",
     "text": [
      "C:\\Users\\Manan\\Anaconda3\\lib\\site-packages\\sklearn\\model_selection\\_search.py:814: DeprecationWarning: The default of the `iid` parameter will change from True to False in version 0.22 and will be removed in 0.24. This will change numeric results when test-set sizes are unequal.\n",
      "  DeprecationWarning)\n"
     ]
    },
    {
     "name": "stdout",
     "output_type": "stream",
     "text": [
      "f1_score for DecisionTreeClassifier: 0.864\n",
      "f1_score for RandomForestClassifier: 0.855\n",
      "f1_score for AdaBoostClassifier: 0.864\n"
     ]
    },
    {
     "name": "stderr",
     "output_type": "stream",
     "text": [
      "C:\\Users\\Manan\\Anaconda3\\lib\\site-packages\\sklearn\\linear_model\\logistic.py:432: FutureWarning: Default solver will be changed to 'lbfgs' in 0.22. Specify a solver to silence this warning.\n",
      "  FutureWarning)\n"
     ]
    },
    {
     "name": "stdout",
     "output_type": "stream",
     "text": [
      "f1_score for LogisticRegression: 0.855\n",
      "f1_score for GaussianNB: 0.785\n",
      "f1_score for MLPClassifier: 0.833\n"
     ]
    },
    {
     "name": "stderr",
     "output_type": "stream",
     "text": [
      "C:\\Users\\Manan\\Anaconda3\\lib\\site-packages\\sklearn\\neural_network\\multilayer_perceptron.py:566: ConvergenceWarning: Stochastic Optimizer: Maximum iterations (200) reached and the optimization hasn't converged yet.\n",
      "  % self.max_iter, ConvergenceWarning)\n"
     ]
    }
   ],
   "source": [
    "# Model Accuracy\n",
    "from sklearn.neighbors import KNeighborsClassifier\n",
    "from sklearn.svm import SVC\n",
    "from sklearn.tree import DecisionTreeClassifier\n",
    "from sklearn.ensemble import RandomForestClassifier\n",
    "from sklearn.ensemble import AdaBoostClassifier\n",
    "from sklearn.linear_model import LogisticRegression\n",
    "from sklearn.naive_bayes import GaussianNB\n",
    "from sklearn.neural_network import MLPClassifier\n",
    "from sklearn.model_selection import GridSearchCV\n",
    "from sklearn.model_selection import RandomizedSearchCV\n",
    "from sklearn.metrics import f1_score\n",
    "\n",
    "names = ['KNeighborsClassifier','SVC', 'DecisionTreeClassifier', 'RandomForestClassifier','AdaBoostClassifier','LogisticRegression','GaussianNB','MLPClassifier']\n",
    "models = [KNeighborsClassifier(),\n",
    "          SVC(),\n",
    "          DecisionTreeClassifier(),\n",
    "          RandomForestClassifier(),\n",
    "          AdaBoostClassifier(),\n",
    "          LogisticRegression(),\n",
    "          GaussianNB(),\n",
    "          MLPClassifier()]\n",
    "\n",
    "param_distributions = {\n",
    "    'KNeighborsClassifier': {'n_neighbors': [5,10,20], 'metric':['minkowski','euclidean']},\n",
    "    'SVC': {'kernel':['rbf', 'linear'], 'C': np.logspace(-1, 1, 3), 'gamma':np.logspace(0, 2, 3)},\n",
    "    'DecisionTreeClassifier': {'criterion':['gini','entropy'], 'max_depth': range(1,20,4)},\n",
    "    'RandomForestClassifier': {'n_estimators': [16, 32, 40]},\n",
    "    'AdaBoostClassifier': {'n_estimators': [50, 100, 200], 'learning_rate':[0.01,0.5,0.8]},\n",
    "    'LogisticRegression': {'max_iter':[100,130,140],'C': np.logspace(-2, 2, 5)},\n",
    "    'GaussianNB': {},\n",
    "    'MLPClassifier': {'hidden_layer_sizes': [(10,),(100,),(30,20)],'activation':['tanh', 'relu'], 'max_iter': [100,200]}\n",
    "}\n",
    "\n",
    "accuracy= np.zeros(8)\n",
    "for counter, model in enumerate(models):\n",
    "    gridcv = GridSearchCV(model, param_distributions[names[counter]], n_jobs=2, cv=3)\n",
    "    gridcv.fit(X_train, Y_train)\n",
    "    Y_pred = gridcv.best_estimator_.predict(X_test)\n",
    "    accuracy[counter] = round(f1_score(Y_test, Y_pred, average='micro'),3)\n",
    "    print(\"f1_score for \" + names[counter] + \":\",accuracy[counter])"
   ]
  },
  {
   "cell_type": "code",
   "execution_count": 8,
   "metadata": {},
   "outputs": [
    {
     "data": {
      "text/plain": [
       "Text(0.5, 1.0, 'Statlog-Australian credit approval dataset models accuracy')"
      ]
     },
     "execution_count": 8,
     "metadata": {},
     "output_type": "execute_result"
    },
    {
     "data": {
      "image/png": "[encoded data removed]",
      "text/plain": [
       "<Figure size 864x432 with 1 Axes>"
      ]
     },
     "metadata": {
      "needs_background": "light"
     },
     "output_type": "display_data"
    }
   ],
   "source": [
    "#Comparision graph between all models\n",
    "y_pos = np.arange(len(names))\n",
    "heights = [accuracy[0],accuracy[1],accuracy[2],accuracy[3],accuracy[4],accuracy[5],accuracy[6],accuracy[7]]\n",
    "\n",
    "fig, ax=plt.subplots(1,1,figsize=(12,6))\n",
    "\n",
    "plt.xticks(rotation='90')\n",
    "sns.barplot(x=names, y=heights)\n",
    "plt.ylabel('f1 score')\n",
    "plt.title('Statlog-Australian credit approval dataset models accuracy')"
   ]
  },
  {
   "cell_type": "code",
   "execution_count": null,
   "metadata": {},
   "outputs": [],
   "source": []
  }
 ],
 "metadata": {
  "kernelspec": {
   "display_name": "Python 3",
   "language": "python",
   "name": "python3"
  },
  "language_info": {
   "codemirror_mode": {
    "name": "ipython",
    "version": 3
   },
   "file_extension": ".py",
   "mimetype": "text/x-python",
   "name": "python",
   "nbconvert_exporter": "python",
   "pygments_lexer": "ipython3",
   "version": "3.7.4"
  }
 },
 "nbformat": 4,
 "nbformat_minor": 2
}
