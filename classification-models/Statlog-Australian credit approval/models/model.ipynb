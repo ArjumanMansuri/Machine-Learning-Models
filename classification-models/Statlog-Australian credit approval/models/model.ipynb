{
 "cells": [
  {
   "cell_type": "markdown",
   "metadata": {},
   "source": [
    "### Statlog-Australian Credit Approval"
   ]
  },
  {
   "cell_type": "code",
   "execution_count": 1,
   "metadata": {},
   "outputs": [
    {
     "name": "stdout",
     "output_type": "stream",
     "text": [
      "     1  22.08   11.46  2   4  4.1  1.585  0  0.1  0.2  1.1  2.1  100  1213  \\\n",
      "0    0  22.67   7.000  2   8    4  0.165  0    0    0    0    2  160     1   \n",
      "1    0  29.58   1.750  1   4    4  1.250  0    0    0    1    2  280     1   \n",
      "2    0  21.67  11.500  1   5    3  0.000  1    1   11    1    2    0     1   \n",
      "3    1  20.17   8.170  2   6    4  1.960  1    1   14    0    2   60   159   \n",
      "4    0  15.83   0.585  2   8    8  1.500  1    1    2    0    2  100     1   \n",
      "..  ..    ...     ... ..  ..  ...    ... ..  ...  ...  ...  ...  ...   ...   \n",
      "684  1  31.57  10.500  2  14    4  6.500  1    0    0    0    2    0     1   \n",
      "685  1  20.67   0.415  2   8    4  0.125  0    0    0    0    2    0    45   \n",
      "686  0  18.83   9.540  2   6    4  0.085  1    0    0    0    2  100     1   \n",
      "687  0  27.42  14.500  2  14    8  3.085  1    1    1    0    2  120    12   \n",
      "688  1  41.00   0.040  2  10    4  0.040  0    1    1    0    1  560     1   \n",
      "\n",
      "     0.3  \n",
      "0      0  \n",
      "1      0  \n",
      "2      1  \n",
      "3      1  \n",
      "4      1  \n",
      "..   ...  \n",
      "684    1  \n",
      "685    0  \n",
      "686    1  \n",
      "687    1  \n",
      "688    1  \n",
      "\n",
      "[689 rows x 15 columns]\n",
      "(689, 14)\n",
      "(689,)\n"
     ]
    }
   ],
   "source": [
    "#importing the libraries\n",
    "import numpy as np\n",
    "import matplotlib.pyplot as plt\n",
    "import pandas as pd\n",
    "import sklearn\n",
    "import seaborn as sns\n",
    "\n",
    "#Importing Statlog-Australian credit approval Dataset\n",
    "dataset = pd.read_csv('C:/Users/Manan/Desktop/Fall 2019/Machine Learning COMP6321/Project/Machine-Learning-Project/classification-models/Statlog-Australian credit approval/data/australian.dat',sep='\\s+')\n",
    "data = pd.DataFrame(dataset)\n",
    "\n",
    "X = data.iloc[:, 0:14].values\n",
    "Y = data.iloc[:, -1].values\n",
    "print(data)\n",
    "print(X.shape)\n",
    "print(Y.shape)"
   ]
  },
  {
   "cell_type": "code",
   "execution_count": 15,
   "metadata": {},
   "outputs": [
    {
     "name": "stdout",
     "output_type": "stream",
     "text": [
      "<class 'pandas.core.frame.DataFrame'>\n",
      "RangeIndex: 689 entries, 0 to 688\n",
      "Data columns (total 15 columns):\n",
      "1        689 non-null int64\n",
      "22.08    689 non-null float64\n",
      "11.46    689 non-null float64\n",
      "2        689 non-null int64\n",
      "4        689 non-null int64\n",
      "4.1      689 non-null int64\n",
      "1.585    689 non-null float64\n",
      "0        689 non-null int64\n",
      "0.1      689 non-null int64\n",
      "0.2      689 non-null int64\n",
      "1.1      689 non-null int64\n",
      "2.1      689 non-null int64\n",
      "100      689 non-null int64\n",
      "1213     689 non-null int64\n",
      "0.3      689 non-null int64\n",
      "dtypes: float64(3), int64(12)\n",
      "memory usage: 80.9 KB\n"
     ]
    }
   ],
   "source": [
    "# to check missing values\n",
    "dataset.info()"
   ]
  },
  {
   "cell_type": "code",
   "execution_count": 3,
   "metadata": {},
   "outputs": [],
   "source": [
    "from sklearn.model_selection import train_test_split\n",
    "X_train, X_test, Y_train, Y_test = train_test_split(X, Y, test_size = 0.33, random_state = 0)"
   ]
  },
  {
   "cell_type": "code",
   "execution_count": 4,
   "metadata": {},
   "outputs": [],
   "source": [
    "#Feature Scaling\n",
    "from sklearn.preprocessing import StandardScaler\n",
    "sc = StandardScaler().fit(X_train)\n",
    "X_train = sc.transform(X_train)\n",
    "X_test = sc.transform(X_test)"
   ]
  },
  {
   "cell_type": "code",
   "execution_count": 5,
   "metadata": {},
   "outputs": [
    {
     "name": "stdout",
     "output_type": "stream",
     "text": [
      "Accuracy for KNeighborsClassifier: 82.45614035087719\n",
      "Accuracy for SVC: 84.21052631578947\n",
      "Accuracy for DecisionTreeClassifier: 79.3859649122807\n",
      "Accuracy for RandomForestClassifier: 85.96491228070175\n",
      "Accuracy for AdaBoostClassifier: 85.96491228070175\n",
      "Accuracy for LogisticRegression: 84.64912280701753\n",
      "Accuracy for GaussianNB: 78.50877192982456\n",
      "Accuracy for MLPClassifier: 82.89473684210526\n"
     ]
    },
    {
     "name": "stderr",
     "output_type": "stream",
     "text": [
      "C:\\Users\\Manan\\Anaconda3\\lib\\site-packages\\sklearn\\neural_network\\multilayer_perceptron.py:566: ConvergenceWarning: Stochastic Optimizer: Maximum iterations (100) reached and the optimization hasn't converged yet.\n",
      "  % self.max_iter, ConvergenceWarning)\n"
     ]
    }
   ],
   "source": [
    "# Model Accuracy\n",
    "from sklearn.neighbors import KNeighborsClassifier\n",
    "from sklearn.svm import SVC\n",
    "from sklearn.tree import DecisionTreeClassifier\n",
    "from sklearn.ensemble import RandomForestClassifier\n",
    "from sklearn.ensemble import AdaBoostClassifier\n",
    "from sklearn.linear_model import LogisticRegression\n",
    "from sklearn.naive_bayes import GaussianNB\n",
    "from sklearn.neural_network import MLPClassifier\n",
    "\n",
    "names = ['KNeighborsClassifier', 'SVC', 'DecisionTreeClassifier', 'RandomForestClassifier','AdaBoostClassifier','LogisticRegression','GaussianNB','MLPClassifier']\n",
    "models = [KNeighborsClassifier(n_neighbors = 5, metric = 'minkowski', p = 2),\n",
    "          SVC(kernel = 'linear', random_state = 0),\n",
    "          DecisionTreeClassifier(criterion = 'entropy', random_state = 0),\n",
    "          RandomForestClassifier(n_estimators = 10, criterion = 'entropy', random_state = 0),\n",
    "          AdaBoostClassifier(n_estimators=10,learning_rate=1),\n",
    "          LogisticRegression(random_state = 0,solver='lbfgs',multi_class='ovr'),\n",
    "          GaussianNB(),\n",
    "          MLPClassifier(hidden_layer_sizes=(5,),activation='relu',max_iter=100)]\n",
    "\n",
    "accuracy= np.zeros(8)\n",
    "\n",
    "for counter, model in enumerate(models):\n",
    "    model.fit(X_train, Y_train)\n",
    "    Y_pred=model.predict(X_test)\n",
    "    accuracy[counter] = sklearn.metrics.accuracy_score(Y_test, Y_pred)*100\n",
    "    print(\"Accuracy for \" + names[counter] + \":\",accuracy[counter])"
   ]
  },
  {
   "cell_type": "code",
   "execution_count": 6,
   "metadata": {},
   "outputs": [
    {
     "data": {
      "text/plain": [
       "Text(0.5, 1.0, 'Statlog-Australian credit approval dataset models accuracy')"
      ]
     },
     "execution_count": 6,
     "metadata": {},
     "output_type": "execute_result"
    },
    {
     "data": {
      "image/png": "[encoded data removed]",
      "text/plain": [
       "<Figure size 864x432 with 1 Axes>"
      ]
     },
     "metadata": {
      "needs_background": "light"
     },
     "output_type": "display_data"
    }
   ],
   "source": [
    "#Comparision graph between all models\n",
    "y_pos = np.arange(len(names))\n",
    "heights = [accuracy[0],accuracy[1],accuracy[2],accuracy[3],accuracy[4],accuracy[5],accuracy[6],accuracy[7]]\n",
    "\n",
    "fig, ax=plt.subplots(1,1,figsize=(12,6))\n",
    "\n",
    "plt.xticks(rotation='90')\n",
    "sns.barplot(x=names, y=heights)\n",
    "plt.ylabel('accuracy score')\n",
    "plt.title('Statlog-Australian credit approval dataset models accuracy')"
   ]
  },
  {
   "cell_type": "code",
   "execution_count": null,
   "metadata": {},
   "outputs": [],
   "source": []
  }
 ],
 "metadata": {
  "kernelspec": {
   "display_name": "Python 3",
   "language": "python",
   "name": "python3"
  },
  "language_info": {
   "codemirror_mode": {
    "name": "ipython",
    "version": 3
   },
   "file_extension": ".py",
   "mimetype": "text/x-python",
   "name": "python",
   "nbconvert_exporter": "python",
   "pygments_lexer": "ipython3",
   "version": "3.7.4"
  }
 },
 "nbformat": 4,
 "nbformat_minor": 2
}
