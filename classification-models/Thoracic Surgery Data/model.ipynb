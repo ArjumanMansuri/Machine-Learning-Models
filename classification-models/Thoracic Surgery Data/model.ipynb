{
 "cells": [
  {
   "cell_type": "markdown",
   "metadata": {},
   "source": [
    "# Classification on Thoracic Surgery Dataset\n",
    "### 1.Importing Thoracic Surgery Dataset"
   ]
  },
  {
   "cell_type": "code",
   "execution_count": 1,
   "metadata": {},
   "outputs": [
    {
     "name": "stdout",
     "output_type": "stream",
     "text": [
      "         DGN  PRE4  PRE5     PRE6  PRE7  PRE8  PRE9 PRE10 PRE11    PRE14  \\\n",
      "0    b'DGN2'  2.88  2.16  b'PRZ1'  b'F'  b'F'  b'F'  b'T'  b'T'  b'OC14'   \n",
      "1    b'DGN3'  3.40  1.88  b'PRZ0'  b'F'  b'F'  b'F'  b'F'  b'F'  b'OC12'   \n",
      "2    b'DGN3'  2.76  2.08  b'PRZ1'  b'F'  b'F'  b'F'  b'T'  b'F'  b'OC11'   \n",
      "3    b'DGN3'  3.68  3.04  b'PRZ0'  b'F'  b'F'  b'F'  b'F'  b'F'  b'OC11'   \n",
      "4    b'DGN3'  2.44  0.96  b'PRZ2'  b'F'  b'T'  b'F'  b'T'  b'T'  b'OC11'   \n",
      "..       ...   ...   ...      ...   ...   ...   ...   ...   ...      ...   \n",
      "465  b'DGN2'  3.88  2.12  b'PRZ1'  b'F'  b'F'  b'F'  b'T'  b'F'  b'OC13'   \n",
      "466  b'DGN3'  3.76  3.12  b'PRZ0'  b'F'  b'F'  b'F'  b'F'  b'F'  b'OC11'   \n",
      "467  b'DGN3'  3.04  2.08  b'PRZ1'  b'F'  b'F'  b'F'  b'T'  b'F'  b'OC13'   \n",
      "468  b'DGN3'  1.96  1.68  b'PRZ1'  b'F'  b'F'  b'F'  b'T'  b'T'  b'OC12'   \n",
      "469  b'DGN3'  4.72  3.56  b'PRZ0'  b'F'  b'F'  b'F'  b'F'  b'F'  b'OC12'   \n",
      "\n",
      "    PRE17 PRE19 PRE25 PRE30 PRE32   AGE Risk1Yr  \n",
      "0    b'F'  b'F'  b'F'  b'T'  b'F'  60.0    b'F'  \n",
      "1    b'F'  b'F'  b'F'  b'T'  b'F'  51.0    b'F'  \n",
      "2    b'F'  b'F'  b'F'  b'T'  b'F'  59.0    b'F'  \n",
      "3    b'F'  b'F'  b'F'  b'F'  b'F'  54.0    b'F'  \n",
      "4    b'F'  b'F'  b'F'  b'T'  b'F'  73.0    b'T'  \n",
      "..    ...   ...   ...   ...   ...   ...     ...  \n",
      "465  b'F'  b'F'  b'F'  b'T'  b'F'  63.0    b'F'  \n",
      "466  b'F'  b'F'  b'F'  b'T'  b'F'  61.0    b'F'  \n",
      "467  b'F'  b'F'  b'F'  b'F'  b'F'  52.0    b'F'  \n",
      "468  b'F'  b'F'  b'F'  b'T'  b'F'  79.0    b'F'  \n",
      "469  b'F'  b'F'  b'F'  b'T'  b'F'  51.0    b'F'  \n",
      "\n",
      "[470 rows x 17 columns]\n"
     ]
    }
   ],
   "source": [
    "#importing the libraries\n",
    "import numpy as np\n",
    "import matplotlib.pyplot as plt\n",
    "import pandas as pd\n",
    "import sklearn\n",
    "from scipy.io import arff\n",
    "import seaborn as sns\n",
    "\n",
    "#Importing Thoracic Surgery Dataset\n",
    "dataset = arff.loadarff('ThoraricSurgery.arff')\n",
    "data = pd.DataFrame(dataset[0])\n",
    "print(data)\n",
    "#X = DGN2,2.88,2.16,PRZ1,F,F,F,T,T,OC14,F,F,F,T,F,60\n",
    "datatype = np.array(['D','C','C','D','D','D','D','D','D','D','D','D','D','D','D','C'])\n",
    "X = data.iloc[:, :16].values\n",
    "Y = data.iloc[:, 16].values"
   ]
  },
  {
   "cell_type": "markdown",
   "metadata": {},
   "source": [
    "### 2. Preprocessing the discrete data"
   ]
  },
  {
   "cell_type": "code",
   "execution_count": 2,
   "metadata": {},
   "outputs": [],
   "source": [
    "# Preprocessing the discrete data\n",
    "from sklearn.preprocessing import LabelEncoder\n",
    "labelencoder = LabelEncoder()\n",
    "for i in range(0,16):\n",
    "    if datatype[i]=='D':\n",
    "        X[:,i]  = labelencoder.fit_transform(X[:,i])\n",
    "\n",
    "Y = labelencoder.fit_transform(Y)"
   ]
  },
  {
   "cell_type": "markdown",
   "metadata": {},
   "source": [
    "### 3. Splitting encoded dataset into Training and Test set"
   ]
  },
  {
   "cell_type": "code",
   "execution_count": 3,
   "metadata": {},
   "outputs": [],
   "source": [
    "from sklearn.model_selection import train_test_split\n",
    "X_train, X_test, Y_train, Y_test = train_test_split(X, Y, test_size = 0.3, random_state = 1111)"
   ]
  },
  {
   "cell_type": "markdown",
   "metadata": {},
   "source": [
    "### 4. Feature Scaling"
   ]
  },
  {
   "cell_type": "code",
   "execution_count": 4,
   "metadata": {},
   "outputs": [],
   "source": [
    "#Feature Scaling\n",
    "from sklearn.preprocessing import StandardScaler\n",
    "sc = StandardScaler()\n",
    "X_train = sc.fit_transform(X_train)\n",
    "X_test = sc.fit_transform(X_test)"
   ]
  },
  {
   "cell_type": "markdown",
   "metadata": {},
   "source": [
    "### 5. Model Selection"
   ]
  },
  {
   "cell_type": "code",
   "execution_count": 11,
   "metadata": {},
   "outputs": [
    {
     "name": "stderr",
     "output_type": "stream",
     "text": [
      "C:\\Users\\Manan\\Anaconda3\\lib\\site-packages\\sklearn\\model_selection\\_search.py:266: UserWarning: The total space of parameters 10 is smaller than n_iter=100. Running 10 iterations. For exhaustive searches, use GridSearchCV.\n",
      "  % (grid_size, self.n_iter, grid_size), UserWarning)\n"
     ]
    },
    {
     "name": "stdout",
     "output_type": "stream",
     "text": [
      "f1_score for KNeighborsClassifier: 0.844\n"
     ]
    },
    {
     "name": "stderr",
     "output_type": "stream",
     "text": [
      "C:\\Users\\Manan\\Anaconda3\\lib\\site-packages\\sklearn\\model_selection\\_search.py:266: UserWarning: The total space of parameters 32 is smaller than n_iter=100. Running 32 iterations. For exhaustive searches, use GridSearchCV.\n",
      "  % (grid_size, self.n_iter, grid_size), UserWarning)\n"
     ]
    },
    {
     "name": "stdout",
     "output_type": "stream",
     "text": [
      "f1_score for SVC: 0.844\n"
     ]
    },
    {
     "name": "stderr",
     "output_type": "stream",
     "text": [
      "C:\\Users\\Manan\\Anaconda3\\lib\\site-packages\\sklearn\\model_selection\\_search.py:266: UserWarning: The total space of parameters 8 is smaller than n_iter=100. Running 8 iterations. For exhaustive searches, use GridSearchCV.\n",
      "  % (grid_size, self.n_iter, grid_size), UserWarning)\n"
     ]
    },
    {
     "name": "stdout",
     "output_type": "stream",
     "text": [
      "f1_score for DecisionTreeClassifier: 0.709\n"
     ]
    },
    {
     "name": "stderr",
     "output_type": "stream",
     "text": [
      "C:\\Users\\Manan\\Anaconda3\\lib\\site-packages\\sklearn\\model_selection\\_search.py:266: UserWarning: The total space of parameters 7 is smaller than n_iter=100. Running 7 iterations. For exhaustive searches, use GridSearchCV.\n",
      "  % (grid_size, self.n_iter, grid_size), UserWarning)\n"
     ]
    },
    {
     "name": "stdout",
     "output_type": "stream",
     "text": [
      "f1_score for RandomForestClassifier: 0.858\n"
     ]
    },
    {
     "name": "stderr",
     "output_type": "stream",
     "text": [
      "C:\\Users\\Manan\\Anaconda3\\lib\\site-packages\\sklearn\\model_selection\\_search.py:266: UserWarning: The total space of parameters 50 is smaller than n_iter=100. Running 50 iterations. For exhaustive searches, use GridSearchCV.\n",
      "  % (grid_size, self.n_iter, grid_size), UserWarning)\n"
     ]
    },
    {
     "name": "stdout",
     "output_type": "stream",
     "text": [
      "f1_score for AdaBoostClassifier: 0.702\n"
     ]
    },
    {
     "name": "stderr",
     "output_type": "stream",
     "text": [
      "C:\\Users\\Manan\\Anaconda3\\lib\\site-packages\\sklearn\\model_selection\\_search.py:266: UserWarning: The total space of parameters 24 is smaller than n_iter=100. Running 24 iterations. For exhaustive searches, use GridSearchCV.\n",
      "  % (grid_size, self.n_iter, grid_size), UserWarning)\n"
     ]
    },
    {
     "name": "stdout",
     "output_type": "stream",
     "text": [
      "f1_score for LogisticRegression: 0.844\n"
     ]
    },
    {
     "name": "stderr",
     "output_type": "stream",
     "text": [
      "C:\\Users\\Manan\\Anaconda3\\lib\\site-packages\\sklearn\\model_selection\\_search.py:266: UserWarning: The total space of parameters 1 is smaller than n_iter=100. Running 1 iterations. For exhaustive searches, use GridSearchCV.\n",
      "  % (grid_size, self.n_iter, grid_size), UserWarning)\n"
     ]
    },
    {
     "name": "stdout",
     "output_type": "stream",
     "text": [
      "f1_score for GaussianNB: 0.844\n"
     ]
    },
    {
     "name": "stderr",
     "output_type": "stream",
     "text": [
      "C:\\Users\\Manan\\Anaconda3\\lib\\site-packages\\sklearn\\model_selection\\_search.py:266: UserWarning: The total space of parameters 6 is smaller than n_iter=100. Running 6 iterations. For exhaustive searches, use GridSearchCV.\n",
      "  % (grid_size, self.n_iter, grid_size), UserWarning)\n"
     ]
    },
    {
     "name": "stdout",
     "output_type": "stream",
     "text": [
      "f1_score for MLPClassifier: 0.844\n"
     ]
    },
    {
     "name": "stderr",
     "output_type": "stream",
     "text": [
      "C:\\Users\\Manan\\Anaconda3\\lib\\site-packages\\sklearn\\neural_network\\multilayer_perceptron.py:566: ConvergenceWarning: Stochastic Optimizer: Maximum iterations (200) reached and the optimization hasn't converged yet.\n",
      "  % self.max_iter, ConvergenceWarning)\n"
     ]
    }
   ],
   "source": [
    "# Model Accuracy\n",
    "from sklearn.neighbors import KNeighborsClassifier\n",
    "from sklearn.svm import SVC\n",
    "from sklearn.tree import DecisionTreeClassifier\n",
    "from sklearn.ensemble import RandomForestClassifier\n",
    "from sklearn.ensemble import AdaBoostClassifier\n",
    "from sklearn.linear_model import LogisticRegression\n",
    "from sklearn.naive_bayes import GaussianNB\n",
    "from sklearn.neural_network import MLPClassifier\n",
    "from sklearn.model_selection import GridSearchCV\n",
    "from sklearn.model_selection import RandomizedSearchCV\n",
    "from sklearn.metrics import f1_score\n",
    "\n",
    "names = ['KNeighborsClassifier','SVC', 'DecisionTreeClassifier', 'RandomForestClassifier','AdaBoostClassifier','LogisticRegression','GaussianNB','MLPClassifier']\n",
    "models = [KNeighborsClassifier(),\n",
    "          SVC(),\n",
    "          DecisionTreeClassifier(),\n",
    "          RandomForestClassifier(),\n",
    "          AdaBoostClassifier(base_estimator = DecisionTreeClassifier(max_depth=50)),\n",
    "          LogisticRegression(),\n",
    "          GaussianNB(),\n",
    "          MLPClassifier()]\n",
    "\n",
    "param_distributions = {\n",
    "    'KNeighborsClassifier': {'n_neighbors': [5,10,20,30,50], 'metric':['minkowski','euclidean']},\n",
    "    'SVC': {'kernel':['rbf', 'linear'], 'C': [0.1, 1, 10, 100], 'gamma': [0.1, 1, 10, 100]},\n",
    "    'DecisionTreeClassifier': {'criterion':['gini','entropy'], 'max_depth': [10,20,30,50]},\n",
    "    'RandomForestClassifier': {'n_estimators': [10, 50, 100, 200, 300, 400, 800]},\n",
    "    'AdaBoostClassifier': {'n_estimators': [50,100, 200, 500, 600], 'learning_rate':[0.001,0.01,0.1,0.5,0.8],'base_estimator__criterion' : ['gini', 'entropy']},\n",
    "    'LogisticRegression': {'max_iter':[100,130,140],'C': [0.1, 1, 10, 100], 'solver':['saga','liblinear']},\n",
    "    'GaussianNB': {},\n",
    "    'MLPClassifier': {'hidden_layer_sizes': [(10,),(100,),(30,20)],'activation':['tanh', 'relu']}\n",
    "}\n",
    "\n",
    "accuracy= np.zeros(8)\n",
    "for counter, model in enumerate(models):\n",
    "    np.random.seed(0);\n",
    "    randcv = RandomizedSearchCV(model, param_distributions[names[counter]], n_jobs=2, cv=3, n_iter=100)\n",
    "    randcv.fit(X_train, Y_train)\n",
    "    Y_pred = randcv.best_estimator_.predict(X_test)\n",
    "    accuracy[counter] = round(f1_score(Y_test, Y_pred, average='micro'),3)\n",
    "    print(\"f1_score for \" + names[counter] + \":\",accuracy[counter])"
   ]
  },
  {
   "cell_type": "code",
   "execution_count": 12,
   "metadata": {},
   "outputs": [
    {
     "data": {
      "text/plain": [
       "Text(0.5, 1.0, 'Thoracic Surgery Dataset dataset models accuracy')"
      ]
     },
     "execution_count": 12,
     "metadata": {},
     "output_type": "execute_result"
    },
    {
     "data": {
      "image/png": "[encoded data removed]",
      "text/plain": [
       "<Figure size 864x432 with 1 Axes>"
      ]
     },
     "metadata": {
      "needs_background": "light"
     },
     "output_type": "display_data"
    }
   ],
   "source": [
    "#Comparision graph between all models\n",
    "y_pos = np.arange(len(names))\n",
    "heights = [accuracy[0],accuracy[1],accuracy[2],accuracy[3],accuracy[4],accuracy[5],accuracy[6],accuracy[7]]\n",
    "\n",
    "fig, ax=plt.subplots(1,1,figsize=(12,6))\n",
    "\n",
    "plt.xticks(rotation='90')\n",
    "sns.barplot(x=names, y=heights)\n",
    "plt.ylabel('f1 score')\n",
    "plt.title('Thoracic Surgery Dataset dataset models accuracy')"
   ]
  },
  {
   "cell_type": "code",
   "execution_count": null,
   "metadata": {},
   "outputs": [],
   "source": []
  }
 ],
 "metadata": {
  "kernelspec": {
   "display_name": "Python 3",
   "language": "python",
   "name": "python3"
  },
  "language_info": {
   "codemirror_mode": {
    "name": "ipython",
    "version": 3
   },
   "file_extension": ".py",
   "mimetype": "text/x-python",
   "name": "python",
   "nbconvert_exporter": "python",
   "pygments_lexer": "ipython3",
   "version": "3.7.4"
  }
 },
 "nbformat": 4,
 "nbformat_minor": 2
}
