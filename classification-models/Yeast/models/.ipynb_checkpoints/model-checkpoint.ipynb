{
 "cells": [
  {
   "cell_type": "markdown",
   "metadata": {},
   "source": [
    "### Yeast Dataset"
   ]
  },
  {
   "cell_type": "code",
   "execution_count": 1,
   "metadata": {},
   "outputs": [
    {
     "name": "stdout",
     "output_type": "stream",
     "text": [
      "      ADT1_YEAST  0.58  0.61  0.47  0.13  0.50  0.00  0.48  0.22  MIT\n",
      "0     ADT2_YEAST  0.43  0.67  0.48  0.27   0.5   0.0  0.53  0.22  MIT\n",
      "1     ADT3_YEAST  0.64  0.62  0.49  0.15   0.5   0.0  0.53  0.22  MIT\n",
      "2     AAR2_YEAST  0.58  0.44  0.57  0.13   0.5   0.0  0.54  0.22  NUC\n",
      "3     AATM_YEAST  0.42  0.44  0.48  0.54   0.5   0.0  0.48  0.22  MIT\n",
      "4     AATC_YEAST  0.51  0.40  0.56  0.17   0.5   0.5  0.49  0.22  CYT\n",
      "...          ...   ...   ...   ...   ...   ...   ...   ...   ...  ...\n",
      "1478  YUR1_YEAST  0.81  0.62  0.43  0.17   0.5   0.0  0.53  0.22  ME2\n",
      "1479  ZIP1_YEAST  0.47  0.43  0.61  0.40   0.5   0.0  0.48  0.47  NUC\n",
      "1480  ZNRP_YEAST  0.67  0.57  0.36  0.19   0.5   0.0  0.56  0.22  ME2\n",
      "1481  ZUO1_YEAST  0.43  0.40  0.60  0.16   0.5   0.0  0.53  0.39  NUC\n",
      "1482  G6PD_YEAST  0.65  0.54  0.54  0.13   0.5   0.0  0.53  0.22  CYT\n",
      "\n",
      "[1483 rows x 10 columns]\n",
      "(1483, 9)\n",
      "(1483,)\n"
     ]
    }
   ],
   "source": [
    "#importing the libraries\n",
    "import numpy as np\n",
    "import matplotlib.pyplot as plt\n",
    "import pandas as pd\n",
    "import sklearn\n",
    "import seaborn as sns\n",
    "\n",
    "#Importing Yeast Dataset\n",
    "dataset = pd.read_csv('C:/Users/Manan/Desktop/Fall 2019/Machine Learning COMP6321/Project/Machine-Learning-Project/classification-models/Yeast/data/yeast.data',sep='\\s+')\n",
    "data = pd.DataFrame(dataset)\n",
    "\n",
    "X = data.iloc[:, 0:9].values\n",
    "Y = data.iloc[:, -1].values\n",
    "print(data)\n",
    "print(X.shape)\n",
    "print(Y.shape)"
   ]
  },
  {
   "cell_type": "code",
   "execution_count": 2,
   "metadata": {},
   "outputs": [
    {
     "name": "stdout",
     "output_type": "stream",
     "text": [
      "<class 'pandas.core.frame.DataFrame'>\n",
      "RangeIndex: 1483 entries, 0 to 1482\n",
      "Data columns (total 10 columns):\n",
      "ADT1_YEAST    1483 non-null object\n",
      "0.58          1483 non-null float64\n",
      "0.61          1483 non-null float64\n",
      "0.47          1483 non-null float64\n",
      "0.13          1483 non-null float64\n",
      "0.50          1483 non-null float64\n",
      "0.00          1483 non-null float64\n",
      "0.48          1483 non-null float64\n",
      "0.22          1483 non-null float64\n",
      "MIT           1483 non-null object\n",
      "dtypes: float64(8), object(2)\n",
      "memory usage: 116.0+ KB\n"
     ]
    }
   ],
   "source": [
    "dataset.info()"
   ]
  },
  {
   "cell_type": "code",
   "execution_count": 3,
   "metadata": {},
   "outputs": [
    {
     "name": "stdout",
     "output_type": "stream",
     "text": [
      "[[32 0.43 0.67 ... 0.0 0.53 0.22]\n",
      " [33 0.64 0.62 ... 0.0 0.53 0.22]\n",
      " [2 0.58 0.44 ... 0.0 0.54 0.22]\n",
      " ...\n",
      " [1459 0.67 0.57 ... 0.0 0.56 0.22]\n",
      " [1460 0.43 0.4 ... 0.0 0.53 0.39]\n",
      " [354 0.65 0.54 ... 0.0 0.53 0.22]]\n",
      "[6 6 7 ... 4 7 0]\n"
     ]
    }
   ],
   "source": [
    "from sklearn.preprocessing import LabelEncoder\n",
    "labelencoder = LabelEncoder()\n",
    "X[:,0] = labelencoder.fit_transform(X[:,0])\n",
    "Y = labelencoder.fit_transform(Y)\n",
    "print(X)\n",
    "print(Y)"
   ]
  },
  {
   "cell_type": "code",
   "execution_count": 4,
   "metadata": {},
   "outputs": [],
   "source": [
    "from sklearn.model_selection import train_test_split\n",
    "X_train, X_test, Y_train, Y_test = train_test_split(X, Y, test_size = 0.33, random_state = 0)"
   ]
  },
  {
   "cell_type": "code",
   "execution_count": 5,
   "metadata": {},
   "outputs": [],
   "source": [
    "#Feature Scaling\n",
    "from sklearn.preprocessing import StandardScaler\n",
    "sc = StandardScaler().fit(X_train)\n",
    "X_train = sc.transform(X_train)\n",
    "X_test = sc.transform(X_test)"
   ]
  },
  {
   "cell_type": "code",
   "execution_count": 17,
   "metadata": {},
   "outputs": [
    {
     "name": "stdout",
     "output_type": "stream",
     "text": [
      "Accuracy for KNeighborsClassifier: 56.53061224489796\n",
      "Accuracy for SVC: 57.55102040816327\n",
      "Accuracy for DecisionTreeClassifier: 48.57142857142857\n",
      "Accuracy for RandomForestClassifier: 60.40816326530612\n",
      "Accuracy for AdaBoostClassifier: 41.83673469387755\n",
      "Accuracy for LogisticRegression: 58.97959183673469\n",
      "Accuracy for GaussianNB: 11.224489795918368\n",
      "Accuracy for MLPClassifier: 59.795918367346935\n"
     ]
    },
    {
     "name": "stderr",
     "output_type": "stream",
     "text": [
      "C:\\Users\\Manan\\Anaconda3\\lib\\site-packages\\sklearn\\neural_network\\multilayer_perceptron.py:566: ConvergenceWarning: Stochastic Optimizer: Maximum iterations (100) reached and the optimization hasn't converged yet.\n",
      "  % self.max_iter, ConvergenceWarning)\n"
     ]
    }
   ],
   "source": [
    "# Model Accuracy\n",
    "from sklearn.neighbors import KNeighborsClassifier\n",
    "from sklearn.svm import SVC\n",
    "from sklearn.tree import DecisionTreeClassifier\n",
    "from sklearn.ensemble import RandomForestClassifier\n",
    "from sklearn.ensemble import AdaBoostClassifier\n",
    "from sklearn.linear_model import LogisticRegression\n",
    "from sklearn.naive_bayes import GaussianNB\n",
    "from sklearn.neural_network import MLPClassifier\n",
    "\n",
    "names = ['KNeighborsClassifier', 'SVC', 'DecisionTreeClassifier', 'RandomForestClassifier','AdaBoostClassifier','LogisticRegression','GaussianNB','MLPClassifier']\n",
    "models = [KNeighborsClassifier(n_neighbors = 5, metric = 'minkowski', p = 2),\n",
    "          SVC(kernel = 'linear', random_state = 0),\n",
    "          DecisionTreeClassifier(criterion = 'entropy', random_state = 0),\n",
    "          RandomForestClassifier(n_estimators = 10, criterion = 'entropy', random_state = 0),\n",
    "          AdaBoostClassifier(n_estimators=10,learning_rate=1),\n",
    "          LogisticRegression(random_state = 0,solver='lbfgs',multi_class='ovr'),\n",
    "          GaussianNB(),\n",
    "          MLPClassifier(hidden_layer_sizes=(30,20),activation='relu',max_iter=100)]\n",
    "\n",
    "accuracy= np.zeros(8)\n",
    "\n",
    "for counter, model in enumerate(models):\n",
    "    model.fit(X_train, Y_train)\n",
    "    Y_pred=model.predict(X_test)\n",
    "    accuracy[counter] = sklearn.metrics.accuracy_score(Y_test, Y_pred)*100\n",
    "    print(\"Accuracy for \" + names[counter] + \":\",accuracy[counter])"
   ]
  },
  {
   "cell_type": "code",
   "execution_count": 18,
   "metadata": {},
   "outputs": [
    {
     "data": {
      "text/plain": [
       "Text(0.5, 1.0, 'Statlog-German credit dataset models accuracy')"
      ]
     },
     "execution_count": 18,
     "metadata": {},
     "output_type": "execute_result"
    },
    {
     "data": {
      "image/png": "[encoded data removed]",
      "text/plain": [
       "<Figure size 864x432 with 1 Axes>"
      ]
     },
     "metadata": {
      "needs_background": "light"
     },
     "output_type": "display_data"
    }
   ],
   "source": [
    "#Comparision graph between all models\n",
    "y_pos = np.arange(len(names))\n",
    "heights = [accuracy[0],accuracy[1],accuracy[2],accuracy[3],accuracy[4],accuracy[5],accuracy[6],accuracy[7]]\n",
    "\n",
    "fig, ax=plt.subplots(1,1,figsize=(12,6))\n",
    "\n",
    "plt.xticks(rotation='90')\n",
    "sns.barplot(x=names, y=heights)\n",
    "plt.ylabel('accuracy score')\n",
    "plt.title('Statlog-German credit dataset models accuracy')"
   ]
  },
  {
   "cell_type": "code",
   "execution_count": null,
   "metadata": {},
   "outputs": [],
   "source": []
  }
 ],
 "metadata": {
  "kernelspec": {
   "display_name": "Python 3",
   "language": "python",
   "name": "python3"
  },
  "language_info": {
   "codemirror_mode": {
    "name": "ipython",
    "version": 3
   },
   "file_extension": ".py",
   "mimetype": "text/x-python",
   "name": "python",
   "nbconvert_exporter": "python",
   "pygments_lexer": "ipython3",
   "version": "3.7.4"
  }
 },
 "nbformat": 4,
 "nbformat_minor": 2
}
