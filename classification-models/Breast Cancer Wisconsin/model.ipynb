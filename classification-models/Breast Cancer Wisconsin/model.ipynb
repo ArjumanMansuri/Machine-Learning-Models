{
 "cells": [
  {
   "cell_type": "markdown",
   "metadata": {},
   "source": [
    "# Breast Cancer Dataset"
   ]
  },
  {
   "cell_type": "code",
   "execution_count": 1,
   "metadata": {},
   "outputs": [],
   "source": [
    "# Questions:\n",
    "#- 3 datasets present. 1st one is with less features\n",
    "#- what about test set"
   ]
  },
  {
   "cell_type": "code",
   "execution_count": 2,
   "metadata": {},
   "outputs": [
    {
     "name": "stdout",
     "output_type": "stream",
     "text": [
      "          0   1   2   3   4   5   6   7   8   9   10\n",
      "0    1000025   5   1   1   1   2   1   3   1   1   2\n",
      "1    1002945   5   4   4   5   7  10   3   2   1   2\n",
      "2    1015425   3   1   1   1   2   2   3   1   1   2\n",
      "3    1016277   6   8   8   1   3   4   3   7   1   2\n",
      "4    1017023   4   1   1   3   2   1   3   1   1   2\n",
      "..       ...  ..  ..  ..  ..  ..  ..  ..  ..  ..  ..\n",
      "694   776715   3   1   1   1   3   2   1   1   1   2\n",
      "695   841769   2   1   1   1   2   1   1   1   1   2\n",
      "696   888820   5  10  10   3   7   3   8  10   2   4\n",
      "697   897471   4   8   6   4   3   4  10   6   1   4\n",
      "698   897471   4   8   8   5   4   5  10   4   1   4\n",
      "\n",
      "[699 rows x 11 columns]\n",
      "           0  1      2      3       4       5        6        7        8   \\\n",
      "0      842302  M  17.99  10.38  122.80  1001.0  0.11840  0.27760  0.30010   \n",
      "1      842517  M  20.57  17.77  132.90  1326.0  0.08474  0.07864  0.08690   \n",
      "2    84300903  M  19.69  21.25  130.00  1203.0  0.10960  0.15990  0.19740   \n",
      "3    84348301  M  11.42  20.38   77.58   386.1  0.14250  0.28390  0.24140   \n",
      "4    84358402  M  20.29  14.34  135.10  1297.0  0.10030  0.13280  0.19800   \n",
      "..        ... ..    ...    ...     ...     ...      ...      ...      ...   \n",
      "564    926424  M  21.56  22.39  142.00  1479.0  0.11100  0.11590  0.24390   \n",
      "565    926682  M  20.13  28.25  131.20  1261.0  0.09780  0.10340  0.14400   \n",
      "566    926954  M  16.60  28.08  108.30   858.1  0.08455  0.10230  0.09251   \n",
      "567    927241  M  20.60  29.33  140.10  1265.0  0.11780  0.27700  0.35140   \n",
      "568     92751  B   7.76  24.54   47.92   181.0  0.05263  0.04362  0.00000   \n",
      "\n",
      "          9   ...      22     23      24      25       26       27      28  \\\n",
      "0    0.14710  ...  25.380  17.33  184.60  2019.0  0.16220  0.66560  0.7119   \n",
      "1    0.07017  ...  24.990  23.41  158.80  1956.0  0.12380  0.18660  0.2416   \n",
      "2    0.12790  ...  23.570  25.53  152.50  1709.0  0.14440  0.42450  0.4504   \n",
      "3    0.10520  ...  14.910  26.50   98.87   567.7  0.20980  0.86630  0.6869   \n",
      "4    0.10430  ...  22.540  16.67  152.20  1575.0  0.13740  0.20500  0.4000   \n",
      "..       ...  ...     ...    ...     ...     ...      ...      ...     ...   \n",
      "564  0.13890  ...  25.450  26.40  166.10  2027.0  0.14100  0.21130  0.4107   \n",
      "565  0.09791  ...  23.690  38.25  155.00  1731.0  0.11660  0.19220  0.3215   \n",
      "566  0.05302  ...  18.980  34.12  126.70  1124.0  0.11390  0.30940  0.3403   \n",
      "567  0.15200  ...  25.740  39.42  184.60  1821.0  0.16500  0.86810  0.9387   \n",
      "568  0.00000  ...   9.456  30.37   59.16   268.6  0.08996  0.06444  0.0000   \n",
      "\n",
      "         29      30       31  \n",
      "0    0.2654  0.4601  0.11890  \n",
      "1    0.1860  0.2750  0.08902  \n",
      "2    0.2430  0.3613  0.08758  \n",
      "3    0.2575  0.6638  0.17300  \n",
      "4    0.1625  0.2364  0.07678  \n",
      "..      ...     ...      ...  \n",
      "564  0.2216  0.2060  0.07115  \n",
      "565  0.1628  0.2572  0.06637  \n",
      "566  0.1418  0.2218  0.07820  \n",
      "567  0.2650  0.4087  0.12400  \n",
      "568  0.0000  0.2871  0.07039  \n",
      "\n",
      "[569 rows x 32 columns]\n",
      "         0  1    2      3      4       5       6        7        8        9   \\\n",
      "0    119513  N   31  18.02  27.60  117.50  1013.0  0.09489  0.10360  0.10860   \n",
      "1      8423  N   61  17.99  10.38  122.80  1001.0  0.11840  0.27760  0.30010   \n",
      "2    842517  N  116  21.37  17.44  137.50  1373.0  0.08836  0.11890  0.12550   \n",
      "3    843483  N  123  11.42  20.38   77.58   386.1  0.14250  0.28390  0.24140   \n",
      "4    843584  R   27  20.29  14.34  135.10  1297.0  0.10030  0.13280  0.19800   \n",
      "..      ... ..  ...    ...    ...     ...     ...      ...      ...      ...   \n",
      "193  942640  N   10  22.52  21.92  146.90  1597.0  0.07592  0.09162  0.06862   \n",
      "194  943471  N    8  15.44  31.18  101.00   740.4  0.09399  0.10620  0.13750   \n",
      "195   94547  N   12  17.17  29.19  110.00   915.3  0.08952  0.06655  0.06583   \n",
      "196  947204  R    3  21.42  22.84  145.00  1440.0  0.10700  0.19390  0.23800   \n",
      "197  947489  N    6  16.70  28.13  110.30   885.4  0.08896  0.11310  0.10120   \n",
      "\n",
      "     ...      25      26       27      28      29       30      31       32  \\\n",
      "0    ...  139.70  1436.0  0.11950  0.1926  0.3140  0.11700  0.2677  0.08113   \n",
      "1    ...  184.60  2019.0  0.16220  0.6656  0.7119  0.26540  0.4601  0.11890   \n",
      "2    ...  159.10  1949.0  0.11880  0.3449  0.3414  0.20320  0.4334  0.09067   \n",
      "3    ...   98.87   567.7  0.20980  0.8663  0.6869  0.25750  0.6638  0.17300   \n",
      "4    ...  152.20  1575.0  0.13740  0.2050  0.4000  0.16250  0.2364  0.07678   \n",
      "..   ...     ...     ...      ...     ...     ...      ...     ...      ...   \n",
      "193  ...  162.10  1902.0  0.08191  0.1319  0.1056  0.09378  0.2061  0.05788   \n",
      "194  ...  112.60   929.0  0.12720  0.2362  0.2975  0.12860  0.2914  0.08024   \n",
      "195  ...  132.50  1295.0  0.12610  0.1572  0.2141  0.09520  0.3362  0.06033   \n",
      "196  ...  198.30  2375.0  0.14980  0.4379  0.5411  0.22150  0.2832  0.08981   \n",
      "197  ...  128.80  1213.0  0.13300  0.2808  0.3455  0.13170  0.3035  0.08036   \n",
      "\n",
      "      33  34  \n",
      "0    5.0   5  \n",
      "1    3.0   2  \n",
      "2    2.5   0  \n",
      "3    2.0   0  \n",
      "4    3.5   0  \n",
      "..   ...  ..  \n",
      "193  6.0   2  \n",
      "194  1.5   0  \n",
      "195  3.7   0  \n",
      "196  3.0   ?  \n",
      "197  3.5   0  \n",
      "\n",
      "[198 rows x 35 columns]\n",
      "(699, 9)\n",
      "(699,)\n",
      "(569, 29)\n",
      "(569,)\n",
      "(198, 29)\n",
      "(198,)\n"
     ]
    }
   ],
   "source": [
    "#importing the libraries\n",
    "import numpy as np\n",
    "import matplotlib.pyplot as plt\n",
    "import pandas as pd\n",
    "import sklearn\n",
    "\n",
    "#importing breast cancer dataset\n",
    "dataset_1 = pd.read_csv('breast-cancer-wisconsin.data',header=None)\n",
    "dataset_2 = pd.read_csv('wdbc.data',header=None)\n",
    "dataset_3 = pd.read_csv('wpbc.data',header=None)\n",
    "data_1 = pd.DataFrame(dataset_1)\n",
    "data_2 = pd.DataFrame(dataset_2)\n",
    "data_3 = pd.DataFrame(dataset_3)\n",
    "X_1 = data_1.iloc[:, 2:31].values\n",
    "Y_1 = data_1.iloc[:, 1].values\n",
    "X_2 = data_2.iloc[:, 2:31].values\n",
    "Y_2 = data_2.iloc[:, 1].values\n",
    "X_3 = data_3.iloc[:, 2:31].values\n",
    "Y_3 = data_3.iloc[:, 1].values\n",
    "\n",
    "\n",
    "print(data_1)\n",
    "print(data_2)\n",
    "print(data_3)\n",
    "print(X_1.shape)\n",
    "print(Y_1.shape)\n",
    "print(X_2.shape)\n",
    "print(Y_2.shape)\n",
    "print(X_3.shape)\n",
    "print(Y_3.shape)"
   ]
  },
  {
   "cell_type": "code",
   "execution_count": 3,
   "metadata": {},
   "outputs": [
    {
     "name": "stdout",
     "output_type": "stream",
     "text": [
      "<class 'pandas.core.frame.DataFrame'>\n",
      "RangeIndex: 699 entries, 0 to 698\n",
      "Data columns (total 11 columns):\n",
      "0     699 non-null int64\n",
      "1     699 non-null int64\n",
      "2     699 non-null int64\n",
      "3     699 non-null int64\n",
      "4     699 non-null int64\n",
      "5     699 non-null int64\n",
      "6     699 non-null object\n",
      "7     699 non-null int64\n",
      "8     699 non-null int64\n",
      "9     699 non-null int64\n",
      "10    699 non-null int64\n",
      "dtypes: int64(10), object(1)\n",
      "memory usage: 60.2+ KB\n",
      "[[ 17.99    10.38   122.8    ...   0.7119   0.2654   0.4601]\n",
      " [ 20.57    17.77   132.9    ...   0.2416   0.186    0.275 ]\n",
      " [ 19.69    21.25   130.     ...   0.4504   0.243    0.3613]\n",
      " ...\n",
      " [ 16.6     28.08   108.3    ...   0.3403   0.1418   0.2218]\n",
      " [ 20.6     29.33   140.1    ...   0.9387   0.265    0.4087]\n",
      " [  7.76    24.54    47.92   ...   0.       0.       0.2871]]\n"
     ]
    }
   ],
   "source": [
    "dataset_1.info()\n",
    "print(X_2)"
   ]
  },
  {
   "cell_type": "code",
   "execution_count": 4,
   "metadata": {},
   "outputs": [
    {
     "name": "stdout",
     "output_type": "stream",
     "text": [
      "[1 1 1 1 1 1 1 1 1 1 1 1 1 1 1 1 1 1 1 0 0 0 1 1 1 1 1 1 1 1 1 1 1 1 1 1 1\n",
      " 0 1 1 1 1 1 1 1 1 0 1 0 0 0 0 0 1 1 0 1 1 0 0 0 0 1 0 1 1 0 0 0 0 1 0 1 1\n",
      " 0 1 0 1 1 0 0 0 1 1 0 1 1 1 0 0 0 1 0 0 1 1 0 0 0 1 1 0 0 0 0 1 0 0 1 0 0\n",
      " 0 0 0 0 0 0 1 1 1 0 1 1 0 0 0 1 1 0 1 0 1 1 0 1 1 0 0 1 0 0 1 0 0 0 0 1 0\n",
      " 0 0 0 0 0 0 0 0 1 0 0 0 0 1 1 0 1 0 0 1 1 0 0 1 1 0 0 0 0 1 0 0 1 1 1 0 1\n",
      " 0 1 0 0 0 1 0 0 1 1 0 1 1 1 1 0 1 1 1 0 1 0 1 0 0 1 0 1 1 1 1 0 0 1 1 0 0\n",
      " 0 1 0 0 0 0 0 1 1 0 0 1 0 0 1 1 0 1 0 0 0 0 1 0 0 0 0 0 1 0 1 1 1 1 1 1 1\n",
      " 1 1 1 1 1 1 1 0 0 0 0 0 0 1 0 1 0 0 1 0 0 1 0 1 1 0 0 0 0 0 0 0 0 0 0 0 0\n",
      " 0 1 0 0 1 0 1 0 0 0 0 0 0 0 0 0 0 0 0 0 0 1 0 0 0 1 0 1 0 0 0 0 1 1 1 0 0\n",
      " 0 0 1 0 1 0 1 0 0 0 1 0 0 0 0 0 0 0 1 1 1 0 0 0 0 0 0 0 0 0 0 0 1 1 0 1 1\n",
      " 1 0 1 1 0 0 0 0 0 1 0 0 0 0 0 1 0 0 0 1 0 0 1 1 0 0 0 0 0 0 1 0 0 0 0 0 0\n",
      " 0 1 0 0 0 0 0 1 0 0 1 0 0 0 0 0 0 0 0 0 0 0 0 1 0 1 1 0 1 0 0 0 0 0 1 0 0\n",
      " 1 0 1 0 0 1 0 1 0 0 0 0 0 0 0 0 1 1 0 0 0 0 0 0 1 0 0 0 0 0 0 0 0 0 0 1 0\n",
      " 0 0 0 0 0 0 1 0 1 0 0 1 0 0 0 0 0 1 1 0 1 0 1 0 0 0 0 0 1 0 0 1 0 1 0 1 1\n",
      " 0 0 0 1 0 0 0 0 0 0 0 0 0 0 0 1 0 1 1 0 0 0 0 0 0 0 0 0 0 0 0 0 0 0 0 0 0\n",
      " 0 0 0 0 0 0 0 1 1 1 1 1 1 0]\n"
     ]
    }
   ],
   "source": [
    "from sklearn.preprocessing import LabelEncoder\n",
    "labelencoder_Y = LabelEncoder()\n",
    "Y_2 = labelencoder_Y.fit_transform(Y_2)\n",
    "print(Y_2)"
   ]
  },
  {
   "cell_type": "code",
   "execution_count": 5,
   "metadata": {},
   "outputs": [],
   "source": [
    "# #Imputing the missing values : Needed only if data has missing values\n",
    "# from sklearn.impute import SimpleImputer\n",
    "# imp = SimpleImputer(missing_values='?', strategy='mean')\n",
    "# X_2 = imp.fit_transform(X_2)"
   ]
  },
  {
   "cell_type": "code",
   "execution_count": 6,
   "metadata": {},
   "outputs": [],
   "source": [
    "from sklearn.model_selection import train_test_split\n",
    "X_train, X_test, Y_train, Y_test = train_test_split(X_2, Y_2, test_size = 0.33, random_state = 0)"
   ]
  },
  {
   "cell_type": "code",
   "execution_count": 7,
   "metadata": {},
   "outputs": [],
   "source": [
    "#Feature Scaling\n",
    "from sklearn.preprocessing import StandardScaler\n",
    "sc = StandardScaler().fit(X_train)\n",
    "X_train = sc.transform(X_train)\n",
    "X_test = sc.transform(X_test)"
   ]
  },
  {
   "cell_type": "code",
   "execution_count": 8,
   "metadata": {},
   "outputs": [
    {
     "name": "stdout",
     "output_type": "stream",
     "text": [
      "{'metric': 'minkowski', 'n_neighbors': 5}\n",
      "f1_score for KNeighborsClassifier: 0.957\n"
     ]
    },
    {
     "name": "stdout",
     "output_type": "stream",
     "text": [
      "{'kernel': 'rbf'}\n",
      "f1_score for SVC: 0.973\n"
     ]
    },
    {
     "name": "stdout",
     "output_type": "stream",
     "text": [
      "{'criterion': 'entropy', 'max_depth': 50}\n",
      "f1_score for DecisionTreeClassifier: 0.926\n"
     ]
    },
    {
     "name": "stdout",
     "output_type": "stream",
     "text": [
      "{'n_estimators': 16}\n",
      "f1_score for RandomForestClassifier: 0.963\n"
     ]
    },
    {
     "name": "stdout",
     "output_type": "stream",
     "text": [
      "{'learning_rate': 0.8, 'n_estimators': 32}\n",
      "f1_score for AdaBoostClassifier: 0.952\n"
     ]
    },
    {
     "name": "stdout",
     "output_type": "stream",
     "text": [
      "{'C': 1.0, 'max_iter': 100, 'solver': 'lbfgs'}\n",
      "f1_score for LogisticRegression: 0.973\n"
     ]
    },
    {
     "name": "stdout",
     "output_type": "stream",
     "text": [
      "{}\n",
      "f1_score for GaussianNB: 0.915\n"
     ]
    },
    {
     "name": "stdout",
     "output_type": "stream",
     "text": [
      "{'activation': 'relu', 'hidden_layer_sizes': (100,), 'max_iter': 100}\n",
      "f1_score for MLPClassifier: 0.963\n"
     ]
    },
    {
     "name": "stderr",
     "output_type": "stream",
     "text": [
      "C:\\Users\\Manan\\Anaconda3\\lib\\site-packages\\sklearn\\neural_network\\multilayer_perceptron.py:566: ConvergenceWarning: Stochastic Optimizer: Maximum iterations (100) reached and the optimization hasn't converged yet.\n",
      "  % self.max_iter, ConvergenceWarning)\n"
     ]
    }
   ],
   "source": [
    "# Model Accuracy\n",
    "from sklearn.neighbors import KNeighborsClassifier\n",
    "from sklearn.svm import SVC\n",
    "from sklearn.tree import DecisionTreeClassifier\n",
    "from sklearn.ensemble import RandomForestClassifier\n",
    "from sklearn.ensemble import AdaBoostClassifier\n",
    "from sklearn.linear_model import LogisticRegression\n",
    "from sklearn.naive_bayes import GaussianNB\n",
    "from sklearn.neural_network import MLPClassifier\n",
    "from sklearn.model_selection import GridSearchCV\n",
    "from sklearn.model_selection import RandomizedSearchCV\n",
    "from sklearn.metrics import f1_score\n",
    "\n",
    "names = ['KNeighborsClassifier','SVC', 'DecisionTreeClassifier', 'RandomForestClassifier','AdaBoostClassifier','LogisticRegression','GaussianNB','MLPClassifier']\n",
    "models = [KNeighborsClassifier(),\n",
    "          SVC(),\n",
    "          DecisionTreeClassifier(),\n",
    "          RandomForestClassifier(),\n",
    "          AdaBoostClassifier(),\n",
    "          LogisticRegression(),\n",
    "          GaussianNB(),\n",
    "          MLPClassifier()]\n",
    "\n",
    "param_distributions = {\n",
    "    'KNeighborsClassifier': {'n_neighbors': [5,11], 'metric':['minkowski','euclidean']},\n",
    "    'SVC': {'kernel':['rbf']},\n",
    "    'DecisionTreeClassifier': {'criterion':['gini','entropy'], 'max_depth': [1,10,20,30,50]},\n",
    "    'RandomForestClassifier': {'n_estimators': [16, 32]},\n",
    "    'AdaBoostClassifier': {'n_estimators': [16, 32], 'learning_rate':[0.8,1]},\n",
    "    'LogisticRegression': {'max_iter':[100,130,140],'C': np.logspace(-1, 1, 3), 'solver':['lbfgs','liblinear']},\n",
    "    'GaussianNB': {},\n",
    "    'MLPClassifier': {'hidden_layer_sizes': [(100,),(50,30)],'activation':['tanh', 'relu'], 'max_iter': [100,200]}\n",
    "}\n",
    "\n",
    "accuracy= np.zeros(8)\n",
    "for counter, model in enumerate(models):\n",
    "    np.random.seed(0);\n",
    "    gridcv = GridSearchCV(model, param_distributions[names[counter]], n_jobs=2, cv=3)\n",
    "    gridcv.fit(X_train, Y_train)\n",
    "    Y_pred = gridcv.best_estimator_.predict(X_test)\n",
    "    print(gridcv.best_params_)\n",
    "    accuracy[counter] = round(f1_score(Y_test, Y_pred, average='micro'),3)\n",
    "    print(\"f1_score for \" + names[counter] + \":\",accuracy[counter])"
   ]
  },
  {
   "cell_type": "code",
   "execution_count": 9,
   "metadata": {
    "scrolled": false
   },
   "outputs": [
    {
     "data": {
      "text/plain": [
       "Text(0.5, 1.0, 'Breast dataset models accuracy')"
      ]
     },
     "execution_count": 9,
     "metadata": {},
     "output_type": "execute_result"
    },
    {
     "data": {
      "image/png": "[encoded data removed]",
      "text/plain": [
       "<Figure size 864x432 with 1 Axes>"
      ]
     },
     "metadata": {
      "needs_background": "light"
     },
     "output_type": "display_data"
    }
   ],
   "source": [
    "#Comparision graph between all models\n",
    "import seaborn as sns\n",
    "y_pos = np.arange(len(names))\n",
    "heights = [accuracy[0],accuracy[1],accuracy[2],accuracy[3],accuracy[4],accuracy[5],accuracy[6], accuracy[7]]\n",
    "\n",
    "fig, ax=plt.subplots(1,1,figsize=(12,6))\n",
    "\n",
    "plt.xticks(rotation='90')\n",
    "sns.barplot(x=names, y=heights)\n",
    "plt.ylabel('f1 score')\n",
    "plt.title('Breast dataset models accuracy')"
   ]
  },
  {
   "cell_type": "code",
   "execution_count": null,
   "metadata": {},
   "outputs": [],
   "source": []
  }
 ],
 "metadata": {
  "kernelspec": {
   "display_name": "Python 3",
   "language": "python",
   "name": "python3"
  },
  "language_info": {
   "codemirror_mode": {
    "name": "ipython",
    "version": 3
   },
   "file_extension": ".py",
   "mimetype": "text/x-python",
   "name": "python",
   "nbconvert_exporter": "python",
   "pygments_lexer": "ipython3",
   "version": "3.7.4"
  }
 },
 "nbformat": 4,
 "nbformat_minor": 2
}
