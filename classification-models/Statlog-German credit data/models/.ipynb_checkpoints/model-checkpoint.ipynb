{
 "cells": [
  {
   "cell_type": "markdown",
   "metadata": {},
   "source": [
    "### Statlog-German Credit Data"
   ]
  },
  {
   "cell_type": "code",
   "execution_count": 17,
   "metadata": {},
   "outputs": [
    {
     "name": "stdout",
     "output_type": "stream",
     "text": [
      "     1   6  4  12  5  5.1  3  4.1  1.1  67  ...  0  0.1  1.4  0.2  0.3  1.5  \\\n",
      "0    2  48  2  60  1    3  2    2    1  22  ...  0    0    1    0    0    1   \n",
      "1    4  12  4  21  1    4  3    3    1  49  ...  0    0    1    0    0    1   \n",
      "2    1  42  2  79  1    4  3    4    2  45  ...  0    0    0    0    0    0   \n",
      "3    1  24  3  49  1    3  3    4    4  53  ...  1    0    1    0    0    0   \n",
      "4    4  36  2  91  5    3  3    4    4  35  ...  0    0    1    0    0    0   \n",
      "..  ..  .. ..  .. ..  ... ..  ...  ...  ..  ... ..  ...  ...  ...  ...  ...   \n",
      "994  4  12  2  17  1    4  2    4    1  31  ...  0    0    1    0    0    1   \n",
      "995  1  30  2  39  1    3  1    4    2  40  ...  0    1    1    0    0    1   \n",
      "996  4  12  2   8  1    5  3    4    3  38  ...  0    0    1    0    0    1   \n",
      "997  1  45  2  18  1    3  3    4    4  23  ...  0    0    1    0    0    0   \n",
      "998  2  45  4  46  2    1  3    4    3  27  ...  0    1    1    0    0    1   \n",
      "\n",
      "     0.4  0.5  1.6  1.7  \n",
      "0      0    0    1    2  \n",
      "1      0    1    0    1  \n",
      "2      0    0    1    1  \n",
      "3      0    0    1    2  \n",
      "4      0    1    0    1  \n",
      "..   ...  ...  ...  ...  \n",
      "994    0    1    0    1  \n",
      "995    0    0    0    1  \n",
      "996    0    0    1    1  \n",
      "997    0    0    1    2  \n",
      "998    0    0    1    1  \n",
      "\n",
      "[999 rows x 25 columns]\n",
      "(999, 24)\n",
      "(999,)\n"
     ]
    }
   ],
   "source": [
    "#importing the libraries\n",
    "import numpy as np\n",
    "import matplotlib.pyplot as plt\n",
    "import pandas as pd\n",
    "import sklearn\n",
    "import seaborn as sns\n",
    "\n",
    "#Importing Statlog-German credit card Dataset\n",
    "dataset = pd.read_csv('C:/Users/Manan/Desktop/Fall 2019/Machine Learning COMP6321/Project/Machine-Learning-Project/classification-models/Statlog-German credit data/data/german.data-numeric',sep='\\s+')\n",
    "data = pd.DataFrame(dataset)\n",
    "\n",
    "X = data.iloc[:, 0:24].values\n",
    "Y = data.iloc[:, -1].values\n",
    "print(data)\n",
    "print(X.shape)\n",
    "print(Y.shape)"
   ]
  },
  {
   "cell_type": "code",
   "execution_count": null,
   "metadata": {},
   "outputs": [],
   "source": []
  },
  {
   "cell_type": "code",
   "execution_count": 19,
   "metadata": {},
   "outputs": [
    {
     "name": "stdout",
     "output_type": "stream",
     "text": [
      "[[-0.4604147   2.24755338 -0.50228581 ... -0.15005969 -0.50031279\n",
      "   0.76696499]\n",
      " [ 1.13112262 -0.74010176  1.34590397 ... -0.15005969  1.99874961\n",
      "  -1.30384048]\n",
      " [-1.25618336  1.74961086 -0.50228581 ... -0.15005969 -0.50031279\n",
      "   0.76696499]\n",
      " ...\n",
      " [ 1.13112262 -0.74010176 -0.50228581 ... -0.15005969 -0.50031279\n",
      "   0.76696499]\n",
      " [-1.25618336  1.99858212 -0.50228581 ... -0.15005969 -0.50031279\n",
      "   0.76696499]\n",
      " [-0.4604147   1.99858212  1.34590397 ... -0.15005969 -0.50031279\n",
      "   0.76696499]]\n"
     ]
    }
   ],
   "source": [
    "#Feature Scaling\n",
    "from sklearn.preprocessing import StandardScaler\n",
    "sc = StandardScaler()\n",
    "X_encoded = sc.fit_transform(X)"
   ]
  },
  {
   "cell_type": "code",
   "execution_count": 21,
   "metadata": {},
   "outputs": [],
   "source": [
    "from sklearn.model_selection import train_test_split\n",
    "X_train, X_test, Y_train, Y_test = train_test_split(X_encoded, Y, test_size = 0.33, random_state = 0)"
   ]
  },
  {
   "cell_type": "code",
   "execution_count": 22,
   "metadata": {},
   "outputs": [
    {
     "name": "stdout",
     "output_type": "stream",
     "text": [
      "Accuracy for KNeighborsClassifier: 70.9090909090909\n",
      "Accuracy for SVC: 78.18181818181819\n",
      "Accuracy for DecisionTreeClassifier: 65.75757575757576\n",
      "Accuracy for RandomForestClassifier: 76.36363636363637\n",
      "Accuracy for AdaBoostClassifier: 74.54545454545455\n",
      "Accuracy for LogisticRegression: 78.48484848484848\n",
      "Accuracy for GaussianNB: 75.45454545454545\n"
     ]
    }
   ],
   "source": [
    "# Model Accuracy\n",
    "from sklearn.neighbors import KNeighborsClassifier\n",
    "from sklearn.svm import SVC\n",
    "from sklearn.tree import DecisionTreeClassifier\n",
    "from sklearn.ensemble import RandomForestClassifier\n",
    "from sklearn.ensemble import AdaBoostClassifier\n",
    "from sklearn.linear_model import LogisticRegression\n",
    "from sklearn.naive_bayes import GaussianNB\n",
    "\n",
    "names = ['KNeighborsClassifier', 'SVC', 'DecisionTreeClassifier', 'RandomForestClassifier','AdaBoostClassifier','LogisticRegression','GaussianNB']\n",
    "models = [KNeighborsClassifier(n_neighbors = 5, metric = 'minkowski', p = 2),\n",
    "          SVC(kernel = 'linear', random_state = 0),\n",
    "          DecisionTreeClassifier(criterion = 'entropy', random_state = 0),\n",
    "          RandomForestClassifier(n_estimators = 10, criterion = 'entropy', random_state = 0),\n",
    "          AdaBoostClassifier(n_estimators=10,learning_rate=1),\n",
    "          LogisticRegression(random_state = 0,solver='lbfgs',multi_class='ovr'),\n",
    "          GaussianNB()]\n",
    "\n",
    "accuracy= np.zeros(7)\n",
    "\n",
    "for counter, model in enumerate(models):\n",
    "    model.fit(X_train, Y_train)\n",
    "    Y_pred=model.predict(X_test)\n",
    "    accuracy[counter] = sklearn.metrics.accuracy_score(Y_test, Y_pred)*100\n",
    "    print(\"Accuracy for \" + names[counter] + \":\",accuracy[counter])\n"
   ]
  },
  {
   "cell_type": "code",
   "execution_count": 23,
   "metadata": {},
   "outputs": [
    {
     "data": {
      "image/png": "[encoded data removed]",
      "text/plain": [
       "<Figure size 720x576 with 1 Axes>"
      ]
     },
     "metadata": {},
     "output_type": "display_data"
    }
   ],
   "source": [
    "#Comparision graph between all models\n",
    "%matplotlib inline\n",
    "plt.style.use('ggplot')\n",
    "\n",
    "colors = ['#CD5C5C', '#E9967A', '#138D75','#FA8072', '#F1C40F','#AF601A','#21618C']\n",
    "y_pos = np.arange(len(names))\n",
    "heights = [accuracy[0],accuracy[1],accuracy[2],accuracy[3],accuracy[4],accuracy[5],accuracy[6]]\n",
    "\n",
    "fig, ax=plt.subplots(1,1,figsize=(10,8))\n",
    "plt.barh(y_pos, heights,color=colors, align='center')\n",
    "plt.yticks(y_pos, names)\n",
    "plt.xlabel('accuracy score')\n",
    "plt.title('Statlog-German credit dataset models accuracy')\n",
    "plt.show()"
   ]
  }
 ],
 "metadata": {
  "kernelspec": {
   "display_name": "Python 3",
   "language": "python",
   "name": "python3"
  },
  "language_info": {
   "codemirror_mode": {
    "name": "ipython",
    "version": 3
   },
   "file_extension": ".py",
   "mimetype": "text/x-python",
   "name": "python",
   "nbconvert_exporter": "python",
   "pygments_lexer": "ipython3",
   "version": "3.7.4"
  }
 },
 "nbformat": 4,
 "nbformat_minor": 2
}
