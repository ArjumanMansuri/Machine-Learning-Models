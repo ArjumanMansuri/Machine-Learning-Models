{
 "cells": [
  {
   "cell_type": "markdown",
   "metadata": {},
   "source": [
    "### Statlog-German Credit Data"
   ]
  },
  {
   "cell_type": "code",
   "execution_count": 1,
   "metadata": {
    "scrolled": true
   },
   "outputs": [
    {
     "name": "stdout",
     "output_type": "stream",
     "text": [
      "     1   6  4  12  5  5.1  3  4.1  1.1  67  ...  0  0.1  1.4  0.2  0.3  1.5  \\\n",
      "0    2  48  2  60  1    3  2    2    1  22  ...  0    0    1    0    0    1   \n",
      "1    4  12  4  21  1    4  3    3    1  49  ...  0    0    1    0    0    1   \n",
      "2    1  42  2  79  1    4  3    4    2  45  ...  0    0    0    0    0    0   \n",
      "3    1  24  3  49  1    3  3    4    4  53  ...  1    0    1    0    0    0   \n",
      "4    4  36  2  91  5    3  3    4    4  35  ...  0    0    1    0    0    0   \n",
      "..  ..  .. ..  .. ..  ... ..  ...  ...  ..  ... ..  ...  ...  ...  ...  ...   \n",
      "994  4  12  2  17  1    4  2    4    1  31  ...  0    0    1    0    0    1   \n",
      "995  1  30  2  39  1    3  1    4    2  40  ...  0    1    1    0    0    1   \n",
      "996  4  12  2   8  1    5  3    4    3  38  ...  0    0    1    0    0    1   \n",
      "997  1  45  2  18  1    3  3    4    4  23  ...  0    0    1    0    0    0   \n",
      "998  2  45  4  46  2    1  3    4    3  27  ...  0    1    1    0    0    1   \n",
      "\n",
      "     0.4  0.5  1.6  1.7  \n",
      "0      0    0    1    2  \n",
      "1      0    1    0    1  \n",
      "2      0    0    1    1  \n",
      "3      0    0    1    2  \n",
      "4      0    1    0    1  \n",
      "..   ...  ...  ...  ...  \n",
      "994    0    1    0    1  \n",
      "995    0    0    0    1  \n",
      "996    0    0    1    1  \n",
      "997    0    0    1    2  \n",
      "998    0    0    1    1  \n",
      "\n",
      "[999 rows x 25 columns]\n",
      "(999, 24)\n",
      "(999,)\n"
     ]
    }
   ],
   "source": [
    "#importing the libraries\n",
    "import numpy as np\n",
    "import matplotlib.pyplot as plt\n",
    "import pandas as pd\n",
    "import sklearn\n",
    "import seaborn as sns\n",
    "\n",
    "#Importing Statlog-German credit card Dataset\n",
    "dataset = pd.read_csv('german.data-numeric',sep='\\s+')\n",
    "data = pd.DataFrame(dataset)\n",
    "\n",
    "X = data.iloc[:, 0:24].values\n",
    "Y = data.iloc[:, -1].values\n",
    "print(data)\n",
    "print(X.shape)\n",
    "print(Y.shape)"
   ]
  },
  {
   "cell_type": "code",
   "execution_count": null,
   "metadata": {},
   "outputs": [],
   "source": [
    "from sklearn.feature_selection import VarianceThreshold\n",
    "selection_threshold = VarianceThreshold(threshold=(.9 * (1 - .9)))\n",
    "X = selection_threshold.fit_transform(X)\n",
    "print(X.shape)"
   ]
  },
  {
   "cell_type": "code",
   "execution_count": null,
   "metadata": {},
   "outputs": [],
   "source": [
    "from sklearn.model_selection import train_test_split\n",
    "X_train, X_test, Y_train, Y_test = train_test_split(X, Y, test_size = 0.33, random_state = 0)"
   ]
  },
  {
   "cell_type": "code",
   "execution_count": null,
   "metadata": {},
   "outputs": [],
   "source": [
    "#Feature Scaling\n",
    "from sklearn.preprocessing import StandardScaler\n",
    "sc = StandardScaler().fit(X_train)\n",
    "X_train = sc.transform(X_train)\n",
    "X_test = sc.transform(X_test)"
   ]
  },
  {
   "cell_type": "code",
   "execution_count": null,
   "metadata": {},
   "outputs": [],
   "source": [
    "# Model Accuracy\n",
    "from sklearn.neighbors import KNeighborsClassifier\n",
    "from sklearn.svm import SVC\n",
    "from sklearn.tree import DecisionTreeClassifier\n",
    "from sklearn.ensemble import RandomForestClassifier\n",
    "from sklearn.ensemble import AdaBoostClassifier\n",
    "from sklearn.linear_model import LogisticRegression\n",
    "from sklearn.naive_bayes import GaussianNB\n",
    "from sklearn.neural_network import MLPClassifier\n",
    "from sklearn.model_selection import GridSearchCV\n",
    "from sklearn.model_selection import RandomizedSearchCV\n",
    "\n",
    "names = ['KNeighborsClassifier','SVC', 'DecisionTreeClassifier', 'RandomForestClassifier','AdaBoostClassifier','LogisticRegression','GaussianNB','MLPClassifier']\n",
    "models = [KNeighborsClassifier(),\n",
    "          SVC(),\n",
    "          DecisionTreeClassifier(),\n",
    "          RandomForestClassifier(),\n",
    "          AdaBoostClassifier(),\n",
    "          LogisticRegression(),\n",
    "          GaussianNB(),\n",
    "          MLPClassifier()]\n",
    "\n",
    "param_distributions = {\n",
    "    'KNeighborsClassifier': {'n_neighbors': [5,10,20], 'metric':['minkowski','euclidean']},\n",
    "    'SVC': {'kernel':['rbf', 'linear'], 'C': np.logspace(-1, 1, 3), 'gamma':np.logspace(0, 2, 3)},\n",
    "    'DecisionTreeClassifier': {'criterion':['gini','entropy'], 'max_depth': range(1,20,2)},\n",
    "    'RandomForestClassifier': {'n_estimators': [16, 32, 40]},\n",
    "    'AdaBoostClassifier': {'n_estimators': [16, 32, 50], 'learning_rate':[0.5,0.8,1]},\n",
    "    'LogisticRegression': {'max_iter':[100,130,140],'C': np.logspace(-2, 2, 5), 'solver':['lbfgs','liblinear']},\n",
    "    'GaussianNB': {},\n",
    "    'MLPClassifier': {'hidden_layer_sizes': [(10,),(100,),(30,20)],'activation':['tanh', 'relu']}\n",
    "}\n",
    "\n",
    "accuracy= np.zeros(8)\n",
    "for counter, model in enumerate(models):\n",
    "    gridcv = GridSearchCV(model, param_distributions[names[counter]], n_jobs=4, cv=3)\n",
    "    gridcv.fit(X_train, Y_train)\n",
    "     Y_pred = randcv.best_estimator_.predict(X_test)\n",
    "    accuracy[counter] = round(f1_score(Y_test, Y_pred, average='micro'),3)\n",
    "    print(\"f1 score for \" + names[counter] + \":\",accuracy[counter])"
   ]
  },
  {
   "cell_type": "code",
   "execution_count": null,
   "metadata": {},
   "outputs": [],
   "source": [
    "#Comparision graph between all models\n",
    "y_pos = np.arange(len(names))\n",
    "heights = [accuracy[0],accuracy[1],accuracy[2],accuracy[3],accuracy[4],accuracy[5],accuracy[6],accuracy[7]]\n",
    "\n",
    "fig, ax=plt.subplots(1,1,figsize=(12,6))\n",
    "\n",
    "plt.xticks(rotation='90')\n",
    "sns.barplot(x=names, y=heights)\n",
    "plt.ylabel('accuracy score')\n",
    "plt.title('Statlog-German credit dataset models accuracy')"
   ]
  },
  {
   "cell_type": "code",
   "execution_count": null,
   "metadata": {},
   "outputs": [],
   "source": []
  }
 ],
 "metadata": {
  "kernelspec": {
   "display_name": "Python 3",
   "language": "python",
   "name": "python3"
  },
  "language_info": {
   "codemirror_mode": {
    "name": "ipython",
    "version": 3
   },
   "file_extension": ".py",
   "mimetype": "text/x-python",
   "name": "python",
   "nbconvert_exporter": "python",
   "pygments_lexer": "ipython3",
   "version": "3.7.4"
  }
 },
 "nbformat": 4,
 "nbformat_minor": 2
}
