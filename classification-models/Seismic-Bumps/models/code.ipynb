{
 "cells": [
  {
   "cell_type": "code",
   "execution_count": 1,
   "metadata": {},
   "outputs": [
    {
     "name": "stdout",
     "output_type": "stream",
     "text": [
      "     seismic seismoacoustic shift   genergy   gpuls  gdenergy  gdpuls ghazard  \\\n",
      "0       b'a'           b'a'  b'N'   15180.0    48.0     -72.0   -72.0    b'a'   \n",
      "1       b'a'           b'a'  b'N'   14720.0    33.0     -70.0   -79.0    b'a'   \n",
      "2       b'a'           b'a'  b'N'    8050.0    30.0     -81.0   -78.0    b'a'   \n",
      "3       b'a'           b'a'  b'N'   28820.0   171.0     -23.0    40.0    b'a'   \n",
      "4       b'a'           b'a'  b'N'   12640.0    57.0     -63.0   -52.0    b'a'   \n",
      "5       b'a'           b'a'  b'W'   63760.0   195.0     -73.0   -65.0    b'a'   \n",
      "6       b'a'           b'a'  b'W'  207930.0   614.0      -6.0    18.0    b'a'   \n",
      "7       b'a'           b'a'  b'N'   48990.0   194.0     -27.0    -3.0    b'a'   \n",
      "8       b'a'           b'a'  b'N'  100190.0   303.0      54.0    52.0    b'a'   \n",
      "9       b'a'           b'a'  b'W'  247620.0   675.0       4.0    25.0    b'a'   \n",
      "10      b'a'           b'a'  b'N'   41950.0   135.0     -39.0   -36.0    b'a'   \n",
      "11      b'a'           b'a'  b'N'   53250.0   140.0     -19.0   -31.0    b'a'   \n",
      "12      b'a'           b'a'  b'W'  166180.0   448.0     -30.0   -19.0    b'a'   \n",
      "13      b'a'           b'a'  b'N'   64540.0   215.0       0.0     9.0    b'a'   \n",
      "14      b'a'           b'a'  b'N'   75670.0   207.0      18.0     4.0    b'a'   \n",
      "15      b'a'           b'b'  b'W'  225040.0   575.0      -3.0     5.0    b'a'   \n",
      "16      b'a'           b'b'  b'N'   31290.0   117.0     -52.0   -41.0    b'a'   \n",
      "17      b'a'           b'b'  b'N'   22890.0    81.0     -63.0   -58.0    b'a'   \n",
      "18      b'a'           b'b'  b'N'   13170.0    59.0     -77.0   -67.0    b'a'   \n",
      "19      b'a'           b'b'  b'N'    8900.0    38.0     -83.0   -77.0    b'a'   \n",
      "20      b'a'           b'a'  b'N'   13250.0    32.0     -71.0   -79.0    b'a'   \n",
      "21      b'a'           b'a'  b'N'   11710.0    70.0     -72.0   -47.0    b'a'   \n",
      "22      b'a'           b'a'  b'N'   10640.0    62.0     -68.0   -43.0    b'a'   \n",
      "23      b'a'           b'a'  b'N'   45630.0   155.0      49.0    52.0    b'a'   \n",
      "24      b'a'           b'a'  b'W'  424650.0  1069.0       1.0     7.0    b'a'   \n",
      "25      b'a'           b'a'  b'N'   38820.0   213.0     -82.0   -57.0    b'a'   \n",
      "26      b'a'           b'a'  b'N'   56960.0   200.0     -70.0   -58.0    b'a'   \n",
      "27      b'a'           b'a'  b'W'  212260.0   729.0     -50.0   -28.0    b'a'   \n",
      "28      b'a'           b'a'  b'N'   42950.0   172.0     -76.0   -61.0    b'a'   \n",
      "29      b'a'           b'a'  b'W'  172290.0   437.0     -57.0   -55.0    b'a'   \n",
      "...      ...            ...   ...       ...     ...       ...     ...     ...   \n",
      "2554    b'a'           b'a'  b'W'   29320.0   526.0     125.0   101.0    b'a'   \n",
      "2555    b'a'           b'a'  b'W'   32210.0   510.0     147.0    95.0    b'a'   \n",
      "2556    b'a'           b'a'  b'W'   12140.0   317.0       8.0    38.0    b'a'   \n",
      "2557    b'a'           b'a'  b'W'   10590.0   256.0     -19.0    -2.0    b'a'   \n",
      "2558    b'b'           b'a'  b'N'    8560.0   210.0     -18.0     2.0    b'a'   \n",
      "2559    b'b'           b'a'  b'N'    8470.0   203.0     -17.0     8.0    b'a'   \n",
      "2560    b'b'           b'a'  b'N'    7220.0   218.0     -29.0    16.0    b'a'   \n",
      "2561    b'b'           b'a'  b'N'   11700.0   181.0      15.0    -4.0    b'a'   \n",
      "2562    b'b'           b'a'  b'N'    6970.0   154.0     -33.0   -25.0    b'a'   \n",
      "2563    b'b'           b'a'  b'W'    6920.0   158.0     -41.0   -32.0    b'a'   \n",
      "2564    b'b'           b'a'  b'W'   17200.0   262.0      47.0    14.0    b'a'   \n",
      "2565    b'b'           b'a'  b'W'   42640.0   576.0     264.0   150.0    b'a'   \n",
      "2566    b'b'           b'a'  b'W'   15130.0   372.0      18.0    51.0    b'a'   \n",
      "2567    b'b'           b'a'  b'W'   15740.0   222.0       4.0   -27.0    b'a'   \n",
      "2568    b'b'           b'a'  b'W'   12470.0   227.0      -2.0    -8.0    b'a'   \n",
      "2569    b'b'           b'a'  b'W'   19290.0   268.0      28.0   -12.0    b'a'   \n",
      "2570    b'b'           b'a'  b'W'   24620.0   362.0      63.0    18.0    b'a'   \n",
      "2571    b'b'           b'a'  b'W'   13460.0   229.0     -11.0   -25.0    b'a'   \n",
      "2572    b'b'           b'a'  b'W'   14660.0   229.0      -3.0   -25.0    b'a'   \n",
      "2573    b'b'           b'a'  b'W'   37560.0   493.0     149.0    61.0    b'a'   \n",
      "2574    b'b'           b'a'  b'W'   27740.0   443.0      81.0    41.0    b'a'   \n",
      "2575    b'b'           b'a'  b'W'   15460.0   249.0      15.0    -2.0    b'a'   \n",
      "2576    b'b'           b'a'  b'W'   22060.0   275.0      64.0     8.0    b'a'   \n",
      "2577    b'b'           b'a'  b'W'   16330.0   270.0       7.0   -14.0    b'a'   \n",
      "2578    b'b'           b'a'  b'W'   28910.0   307.0     115.0    20.0    b'a'   \n",
      "2579    b'b'           b'a'  b'W'   81410.0   785.0     432.0   151.0    b'b'   \n",
      "2580    b'b'           b'a'  b'W'   42110.0   555.0     213.0   118.0    b'a'   \n",
      "2581    b'b'           b'a'  b'W'   26960.0   540.0     101.0   112.0    b'a'   \n",
      "2582    b'a'           b'a'  b'W'   16130.0   322.0       2.0     2.0    b'a'   \n",
      "2583    b'a'           b'a'  b'W'   12750.0   235.0     -10.0   -10.0    b'a'   \n",
      "\n",
      "      nbumps  nbumps2  nbumps3  nbumps4  nbumps5  nbumps6  nbumps7  nbumps89  \\\n",
      "0        0.0      0.0      0.0      0.0      0.0      0.0      0.0       0.0   \n",
      "1        1.0      0.0      1.0      0.0      0.0      0.0      0.0       0.0   \n",
      "2        0.0      0.0      0.0      0.0      0.0      0.0      0.0       0.0   \n",
      "3        1.0      0.0      1.0      0.0      0.0      0.0      0.0       0.0   \n",
      "4        0.0      0.0      0.0      0.0      0.0      0.0      0.0       0.0   \n",
      "5        0.0      0.0      0.0      0.0      0.0      0.0      0.0       0.0   \n",
      "6        2.0      2.0      0.0      0.0      0.0      0.0      0.0       0.0   \n",
      "7        1.0      0.0      1.0      0.0      0.0      0.0      0.0       0.0   \n",
      "8        0.0      0.0      0.0      0.0      0.0      0.0      0.0       0.0   \n",
      "9        1.0      1.0      0.0      0.0      0.0      0.0      0.0       0.0   \n",
      "10       1.0      0.0      1.0      0.0      0.0      0.0      0.0       0.0   \n",
      "11       0.0      0.0      0.0      0.0      0.0      0.0      0.0       0.0   \n",
      "12       1.0      1.0      0.0      0.0      0.0      0.0      0.0       0.0   \n",
      "13       1.0      0.0      1.0      0.0      0.0      0.0      0.0       0.0   \n",
      "14       1.0      1.0      0.0      0.0      0.0      0.0      0.0       0.0   \n",
      "15       2.0      0.0      2.0      0.0      0.0      0.0      0.0       0.0   \n",
      "16       0.0      0.0      0.0      0.0      0.0      0.0      0.0       0.0   \n",
      "17       0.0      0.0      0.0      0.0      0.0      0.0      0.0       0.0   \n",
      "18       0.0      0.0      0.0      0.0      0.0      0.0      0.0       0.0   \n",
      "19       0.0      0.0      0.0      0.0      0.0      0.0      0.0       0.0   \n",
      "20       0.0      0.0      0.0      0.0      0.0      0.0      0.0       0.0   \n",
      "21       1.0      0.0      1.0      0.0      0.0      0.0      0.0       0.0   \n",
      "22       0.0      0.0      0.0      0.0      0.0      0.0      0.0       0.0   \n",
      "23       0.0      0.0      0.0      0.0      0.0      0.0      0.0       0.0   \n",
      "24       2.0      0.0      2.0      0.0      0.0      0.0      0.0       0.0   \n",
      "25       1.0      0.0      1.0      0.0      0.0      0.0      0.0       0.0   \n",
      "26       0.0      0.0      0.0      0.0      0.0      0.0      0.0       0.0   \n",
      "27       2.0      1.0      1.0      0.0      0.0      0.0      0.0       0.0   \n",
      "28       1.0      0.0      1.0      0.0      0.0      0.0      0.0       0.0   \n",
      "29       1.0      1.0      0.0      0.0      0.0      0.0      0.0       0.0   \n",
      "...      ...      ...      ...      ...      ...      ...      ...       ...   \n",
      "2554     1.0      0.0      0.0      1.0      0.0      0.0      0.0       0.0   \n",
      "2555     1.0      1.0      0.0      0.0      0.0      0.0      0.0       0.0   \n",
      "2556     0.0      0.0      0.0      0.0      0.0      0.0      0.0       0.0   \n",
      "2557     0.0      0.0      0.0      0.0      0.0      0.0      0.0       0.0   \n",
      "2558     0.0      0.0      0.0      0.0      0.0      0.0      0.0       0.0   \n",
      "2559     0.0      0.0      0.0      0.0      0.0      0.0      0.0       0.0   \n",
      "2560     0.0      0.0      0.0      0.0      0.0      0.0      0.0       0.0   \n",
      "2561     0.0      0.0      0.0      0.0      0.0      0.0      0.0       0.0   \n",
      "2562     0.0      0.0      0.0      0.0      0.0      0.0      0.0       0.0   \n",
      "2563     0.0      0.0      0.0      0.0      0.0      0.0      0.0       0.0   \n",
      "2564     0.0      0.0      0.0      0.0      0.0      0.0      0.0       0.0   \n",
      "2565     0.0      0.0      0.0      0.0      0.0      0.0      0.0       0.0   \n",
      "2566     0.0      0.0      0.0      0.0      0.0      0.0      0.0       0.0   \n",
      "2567     1.0      0.0      1.0      0.0      0.0      0.0      0.0       0.0   \n",
      "2568     0.0      0.0      0.0      0.0      0.0      0.0      0.0       0.0   \n",
      "2569     1.0      0.0      1.0      0.0      0.0      0.0      0.0       0.0   \n",
      "2570     0.0      0.0      0.0      0.0      0.0      0.0      0.0       0.0   \n",
      "2571     0.0      0.0      0.0      0.0      0.0      0.0      0.0       0.0   \n",
      "2572     0.0      0.0      0.0      0.0      0.0      0.0      0.0       0.0   \n",
      "2573     1.0      1.0      0.0      0.0      0.0      0.0      0.0       0.0   \n",
      "2574     0.0      0.0      0.0      0.0      0.0      0.0      0.0       0.0   \n",
      "2575     0.0      0.0      0.0      0.0      0.0      0.0      0.0       0.0   \n",
      "2576     0.0      0.0      0.0      0.0      0.0      0.0      0.0       0.0   \n",
      "2577     0.0      0.0      0.0      0.0      0.0      0.0      0.0       0.0   \n",
      "2578     0.0      0.0      0.0      0.0      0.0      0.0      0.0       0.0   \n",
      "2579     0.0      0.0      0.0      0.0      0.0      0.0      0.0       0.0   \n",
      "2580     0.0      0.0      0.0      0.0      0.0      0.0      0.0       0.0   \n",
      "2581     0.0      0.0      0.0      0.0      0.0      0.0      0.0       0.0   \n",
      "2582     0.0      0.0      0.0      0.0      0.0      0.0      0.0       0.0   \n",
      "2583     0.0      0.0      0.0      0.0      0.0      0.0      0.0       0.0   \n",
      "\n",
      "       energy  maxenergy class  \n",
      "0         0.0        0.0  b'0'  \n",
      "1      2000.0     2000.0  b'0'  \n",
      "2         0.0        0.0  b'0'  \n",
      "3      3000.0     3000.0  b'0'  \n",
      "4         0.0        0.0  b'0'  \n",
      "5         0.0        0.0  b'0'  \n",
      "6      1000.0      700.0  b'0'  \n",
      "7      4000.0     4000.0  b'0'  \n",
      "8         0.0        0.0  b'0'  \n",
      "9       500.0      500.0  b'0'  \n",
      "10     5000.0     5000.0  b'0'  \n",
      "11        0.0        0.0  b'0'  \n",
      "12      400.0      400.0  b'0'  \n",
      "13     6000.0     6000.0  b'0'  \n",
      "14      600.0      600.0  b'0'  \n",
      "15     7000.0     6000.0  b'0'  \n",
      "16        0.0        0.0  b'0'  \n",
      "17        0.0        0.0  b'0'  \n",
      "18        0.0        0.0  b'0'  \n",
      "19        0.0        0.0  b'0'  \n",
      "20        0.0        0.0  b'0'  \n",
      "21     4000.0     4000.0  b'0'  \n",
      "22        0.0        0.0  b'0'  \n",
      "23        0.0        0.0  b'0'  \n",
      "24     6000.0     4000.0  b'0'  \n",
      "25     4000.0     4000.0  b'0'  \n",
      "26        0.0        0.0  b'0'  \n",
      "27     1400.0     1000.0  b'0'  \n",
      "28     6000.0     6000.0  b'0'  \n",
      "29      600.0      600.0  b'0'  \n",
      "...       ...        ...   ...  \n",
      "2554  90000.0    90000.0  b'0'  \n",
      "2555    600.0      600.0  b'0'  \n",
      "2556      0.0        0.0  b'0'  \n",
      "2557      0.0        0.0  b'0'  \n",
      "2558      0.0        0.0  b'0'  \n",
      "2559      0.0        0.0  b'0'  \n",
      "2560      0.0        0.0  b'0'  \n",
      "2561      0.0        0.0  b'0'  \n",
      "2562      0.0        0.0  b'0'  \n",
      "2563      0.0        0.0  b'0'  \n",
      "2564      0.0        0.0  b'0'  \n",
      "2565      0.0        0.0  b'0'  \n",
      "2566      0.0        0.0  b'0'  \n",
      "2567   6000.0     6000.0  b'0'  \n",
      "2568      0.0        0.0  b'0'  \n",
      "2569   1000.0     1000.0  b'0'  \n",
      "2570      0.0        0.0  b'0'  \n",
      "2571      0.0        0.0  b'0'  \n",
      "2572      0.0        0.0  b'0'  \n",
      "2573    200.0      200.0  b'0'  \n",
      "2574      0.0        0.0  b'0'  \n",
      "2575      0.0        0.0  b'0'  \n",
      "2576      0.0        0.0  b'0'  \n",
      "2577      0.0        0.0  b'0'  \n",
      "2578      0.0        0.0  b'0'  \n",
      "2579      0.0        0.0  b'0'  \n",
      "2580      0.0        0.0  b'0'  \n",
      "2581      0.0        0.0  b'0'  \n",
      "2582      0.0        0.0  b'0'  \n",
      "2583      0.0        0.0  b'0'  \n",
      "\n",
      "[2584 rows x 19 columns]\n",
      "(2584, 18)\n",
      "(2584,)\n"
     ]
    }
   ],
   "source": [
    "#importing the libraries\n",
    "import numpy as np\n",
    "import matplotlib.pyplot as plt\n",
    "import pandas as pd\n",
    "import sklearn\n",
    "from scipy.io import arff\n",
    "\n",
    "#Importing Seismic Bumps Dataset\n",
    "dataset, meta = arff.loadarff('C:/Users/emnsrjm/Desktop/Courses/Machine Learning/Project/Project/Machine-Learning-Project/classification-models/Seismic-Bumps/data/seismic-bumps.arff')\n",
    "data = pd.DataFrame(dataset)\n",
    "data\n",
    "X = data.iloc[:, :18].values\n",
    "Y = data.iloc[:, 18].values\n",
    "\n",
    "print(data)\n",
    "print(X.shape)\n",
    "print(Y.shape)"
   ]
  },
  {
   "cell_type": "code",
   "execution_count": 2,
   "metadata": {},
   "outputs": [
    {
     "data": {
      "text/plain": [
       "Dataset: seismic-bumps\n",
       "\tseismic's type is nominal, range is ('a', 'b', 'c', 'd')\n",
       "\tseismoacoustic's type is nominal, range is ('a', 'b', 'c', 'd')\n",
       "\tshift's type is nominal, range is ('W', 'N')\n",
       "\tgenergy's type is numeric\n",
       "\tgpuls's type is numeric\n",
       "\tgdenergy's type is numeric\n",
       "\tgdpuls's type is numeric\n",
       "\tghazard's type is nominal, range is ('a', 'b', 'c', 'd')\n",
       "\tnbumps's type is numeric\n",
       "\tnbumps2's type is numeric\n",
       "\tnbumps3's type is numeric\n",
       "\tnbumps4's type is numeric\n",
       "\tnbumps5's type is numeric\n",
       "\tnbumps6's type is numeric\n",
       "\tnbumps7's type is numeric\n",
       "\tnbumps89's type is numeric\n",
       "\tenergy's type is numeric\n",
       "\tmaxenergy's type is numeric\n",
       "\tclass's type is nominal, range is ('1', '0')"
      ]
     },
     "execution_count": 2,
     "metadata": {},
     "output_type": "execute_result"
    }
   ],
   "source": [
    "meta"
   ]
  },
  {
   "cell_type": "code",
   "execution_count": 3,
   "metadata": {},
   "outputs": [
    {
     "name": "stdout",
     "output_type": "stream",
     "text": [
      "[[0 0 0 ... 0.0 0.0 0.0]\n",
      " [0 0 0 ... 0.0 2000.0 2000.0]\n",
      " [0 0 0 ... 0.0 0.0 0.0]\n",
      " ...\n",
      " [1 0 1 ... 0.0 0.0 0.0]\n",
      " [0 0 1 ... 0.0 0.0 0.0]\n",
      " [0 0 1 ... 0.0 0.0 0.0]]\n",
      "[0 0 0 ... 0 0 0]\n"
     ]
    }
   ],
   "source": [
    "from sklearn.preprocessing import LabelEncoder\n",
    "labelencoder = LabelEncoder()\n",
    "X[:,0] = labelencoder.fit_transform(X[:,0])\n",
    "X[:,1] = labelencoder.fit_transform(X[:,1])\n",
    "X[:,2] = labelencoder.fit_transform(X[:,2])\n",
    "X[:,7] = labelencoder.fit_transform(X[:,7])\n",
    "Y = labelencoder.fit_transform(Y)\n",
    "print(X)\n",
    "print(Y)"
   ]
  },
  {
   "cell_type": "code",
   "execution_count": 4,
   "metadata": {},
   "outputs": [
    {
     "name": "stderr",
     "output_type": "stream",
     "text": [
      "C:\\Users\\emnsrjm\\AppData\\Local\\Continuum\\anaconda3\\lib\\site-packages\\sklearn\\utils\\validation.py:595: DataConversionWarning: Data with input dtype object was converted to float64 by StandardScaler.\n",
      "  warnings.warn(msg, DataConversionWarning)\n",
      "C:\\Users\\emnsrjm\\AppData\\Local\\Continuum\\anaconda3\\lib\\site-packages\\sklearn\\utils\\validation.py:595: DataConversionWarning: Data with input dtype object was converted to float64 by StandardScaler.\n",
      "  warnings.warn(msg, DataConversionWarning)\n"
     ]
    }
   ],
   "source": [
    "#Feature Scaling\n",
    "from sklearn.preprocessing import StandardScaler\n",
    "sc = StandardScaler()\n",
    "X_encoded = sc.fit_transform(X)"
   ]
  },
  {
   "cell_type": "code",
   "execution_count": 5,
   "metadata": {},
   "outputs": [],
   "source": [
    "from sklearn.model_selection import train_test_split\n",
    "X_train, X_test, Y_train, Y_test = train_test_split(X, Y, test_size = 0.33, random_state = 0)"
   ]
  },
  {
   "cell_type": "code",
   "execution_count": 6,
   "metadata": {},
   "outputs": [
    {
     "name": "stdout",
     "output_type": "stream",
     "text": [
      "Accuracy for KNeighborsClassifier: 93.20046893317702\n",
      "Accuracy for SVC: 94.02110199296601\n",
      "Accuracy for DecisionTreeClassifier: 85.93200468933178\n",
      "Accuracy for RandomForestClassifier: 93.90386869871044\n",
      "Accuracy for AdaBoostClassifier: 94.25556858147715\n",
      "Accuracy for LogisticRegression: 90.38686987104337\n",
      "Accuracy for GaussianNB: 90.2696365767878\n"
     ]
    },
    {
     "name": "stderr",
     "output_type": "stream",
     "text": [
      "C:\\Users\\emnsrjm\\AppData\\Local\\Continuum\\anaconda3\\lib\\site-packages\\sklearn\\linear_model\\logistic.py:758: ConvergenceWarning: lbfgs failed to converge. Increase the number of iterations.\n",
      "  \"of iterations.\", ConvergenceWarning)\n"
     ]
    }
   ],
   "source": [
    "# Model Accuracy\n",
    "from sklearn.neighbors import KNeighborsClassifier\n",
    "from sklearn.svm import SVC\n",
    "from sklearn.tree import DecisionTreeClassifier\n",
    "from sklearn.ensemble import RandomForestClassifier\n",
    "from sklearn.ensemble import AdaBoostClassifier\n",
    "from sklearn.linear_model import LogisticRegression\n",
    "from sklearn.naive_bayes import GaussianNB\n",
    "\n",
    "names = ['KNeighborsClassifier', 'SVC', 'DecisionTreeClassifier', 'RandomForestClassifier','AdaBoostClassifier','LogisticRegression','GaussianNB']\n",
    "models = [KNeighborsClassifier(n_neighbors = 5, metric = 'minkowski', p = 2),\n",
    "          SVC(kernel = 'linear', random_state = 0),\n",
    "          DecisionTreeClassifier(criterion = 'entropy', random_state = 0),\n",
    "          RandomForestClassifier(n_estimators = 10, criterion = 'entropy', random_state = 0),\n",
    "          AdaBoostClassifier(n_estimators=10,learning_rate=1),\n",
    "          LogisticRegression(random_state = 0,solver='lbfgs',multi_class='ovr'),\n",
    "          GaussianNB()]\n",
    "\n",
    "accuracy= np.zeros(7)\n",
    "\n",
    "for counter, model in enumerate(models):\n",
    "    model.fit(X_train, Y_train)\n",
    "    Y_pred=model.predict(X_test)\n",
    "    accuracy[counter] = sklearn.metrics.accuracy_score(Y_test, Y_pred)*100\n",
    "    print(\"Accuracy for \" + names[counter] + \":\",accuracy[counter])"
   ]
  },
  {
   "cell_type": "code",
   "execution_count": 7,
   "metadata": {},
   "outputs": [
    {
     "data": {
      "text/plain": [
       "Text(0.5, 1.0, 'Seismic Bumps dataset model accuracy')"
      ]
     },
     "execution_count": 7,
     "metadata": {},
     "output_type": "execute_result"
    },
    {
     "data": {
      "image/png": "[encoded data removed]",
      "text/plain": [
       "<Figure size 864x432 with 1 Axes>"
      ]
     },
     "metadata": {
      "needs_background": "light"
     },
     "output_type": "display_data"
    }
   ],
   "source": [
    "#Comparision graph between all models\n",
    "import seaborn as sns\n",
    "y_pos = np.arange(len(names))\n",
    "heights = [accuracy[0],accuracy[1],accuracy[2],accuracy[3],accuracy[4],accuracy[5],accuracy[6]]\n",
    "\n",
    "fig, ax=plt.subplots(1,1,figsize=(12,6))\n",
    "\n",
    "plt.xticks(rotation='90')\n",
    "sns.barplot(x=names, y=heights)\n",
    "plt.ylabel('accuracy score')\n",
    "plt.title('Seismic Bumps dataset model accuracy')"
   ]
  },
  {
   "cell_type": "code",
   "execution_count": null,
   "metadata": {},
   "outputs": [],
   "source": []
  }
 ],
 "metadata": {
  "kernelspec": {
   "display_name": "Python 3",
   "language": "python",
   "name": "python3"
  },
  "language_info": {
   "codemirror_mode": {
    "name": "ipython",
    "version": 3
   },
   "file_extension": ".py",
   "mimetype": "text/x-python",
   "name": "python",
   "nbconvert_exporter": "python",
   "pygments_lexer": "ipython3",
   "version": "3.7.3"
  }
 },
 "nbformat": 4,
 "nbformat_minor": 2
}
