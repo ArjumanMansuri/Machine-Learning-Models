{
 "cells": [
  {
   "cell_type": "markdown",
   "metadata": {},
   "source": [
    "# Seismic Bumps"
   ]
  },
  {
   "cell_type": "code",
   "execution_count": 8,
   "metadata": {
    "scrolled": true
   },
   "outputs": [
    {
     "name": "stdout",
     "output_type": "stream",
     "text": [
      "     seismic seismoacoustic shift  genergy  gpuls  gdenergy  gdpuls ghazard  \\\n",
      "0       b'a'           b'a'  b'N'  15180.0   48.0     -72.0   -72.0    b'a'   \n",
      "1       b'a'           b'a'  b'N'  14720.0   33.0     -70.0   -79.0    b'a'   \n",
      "2       b'a'           b'a'  b'N'   8050.0   30.0     -81.0   -78.0    b'a'   \n",
      "3       b'a'           b'a'  b'N'  28820.0  171.0     -23.0    40.0    b'a'   \n",
      "4       b'a'           b'a'  b'N'  12640.0   57.0     -63.0   -52.0    b'a'   \n",
      "...      ...            ...   ...      ...    ...       ...     ...     ...   \n",
      "2579    b'b'           b'a'  b'W'  81410.0  785.0     432.0   151.0    b'b'   \n",
      "2580    b'b'           b'a'  b'W'  42110.0  555.0     213.0   118.0    b'a'   \n",
      "2581    b'b'           b'a'  b'W'  26960.0  540.0     101.0   112.0    b'a'   \n",
      "2582    b'a'           b'a'  b'W'  16130.0  322.0       2.0     2.0    b'a'   \n",
      "2583    b'a'           b'a'  b'W'  12750.0  235.0     -10.0   -10.0    b'a'   \n",
      "\n",
      "      nbumps  nbumps2  nbumps3  nbumps4  nbumps5  nbumps6  nbumps7  nbumps89  \\\n",
      "0        0.0      0.0      0.0      0.0      0.0      0.0      0.0       0.0   \n",
      "1        1.0      0.0      1.0      0.0      0.0      0.0      0.0       0.0   \n",
      "2        0.0      0.0      0.0      0.0      0.0      0.0      0.0       0.0   \n",
      "3        1.0      0.0      1.0      0.0      0.0      0.0      0.0       0.0   \n",
      "4        0.0      0.0      0.0      0.0      0.0      0.0      0.0       0.0   \n",
      "...      ...      ...      ...      ...      ...      ...      ...       ...   \n",
      "2579     0.0      0.0      0.0      0.0      0.0      0.0      0.0       0.0   \n",
      "2580     0.0      0.0      0.0      0.0      0.0      0.0      0.0       0.0   \n",
      "2581     0.0      0.0      0.0      0.0      0.0      0.0      0.0       0.0   \n",
      "2582     0.0      0.0      0.0      0.0      0.0      0.0      0.0       0.0   \n",
      "2583     0.0      0.0      0.0      0.0      0.0      0.0      0.0       0.0   \n",
      "\n",
      "      energy  maxenergy class  \n",
      "0        0.0        0.0  b'0'  \n",
      "1     2000.0     2000.0  b'0'  \n",
      "2        0.0        0.0  b'0'  \n",
      "3     3000.0     3000.0  b'0'  \n",
      "4        0.0        0.0  b'0'  \n",
      "...      ...        ...   ...  \n",
      "2579     0.0        0.0  b'0'  \n",
      "2580     0.0        0.0  b'0'  \n",
      "2581     0.0        0.0  b'0'  \n",
      "2582     0.0        0.0  b'0'  \n",
      "2583     0.0        0.0  b'0'  \n",
      "\n",
      "[2584 rows x 19 columns]\n",
      "(2584, 18)\n",
      "(2584,)\n"
     ]
    }
   ],
   "source": [
    "#importing the libraries\n",
    "import numpy as np\n",
    "import matplotlib.pyplot as plt\n",
    "import pandas as pd\n",
    "import sklearn\n",
    "from scipy.io import arff\n",
    "\n",
    "#Importing Seismic Bumps Dataset\n",
    "dataset, meta = arff.loadarff('seismic-bumps.arff')\n",
    "data = pd.DataFrame(dataset)\n",
    "data\n",
    "X = data.iloc[:, :18].values\n",
    "Y = data.iloc[:, 18].values\n",
    "\n",
    "print(data)\n",
    "print(X.shape)\n",
    "print(Y.shape)"
   ]
  },
  {
   "cell_type": "code",
   "execution_count": 9,
   "metadata": {},
   "outputs": [
    {
     "data": {
      "text/plain": [
       "Dataset: seismic-bumps\n",
       "\tseismic's type is nominal, range is ('a', 'b', 'c', 'd')\n",
       "\tseismoacoustic's type is nominal, range is ('a', 'b', 'c', 'd')\n",
       "\tshift's type is nominal, range is ('W', 'N')\n",
       "\tgenergy's type is numeric\n",
       "\tgpuls's type is numeric\n",
       "\tgdenergy's type is numeric\n",
       "\tgdpuls's type is numeric\n",
       "\tghazard's type is nominal, range is ('a', 'b', 'c', 'd')\n",
       "\tnbumps's type is numeric\n",
       "\tnbumps2's type is numeric\n",
       "\tnbumps3's type is numeric\n",
       "\tnbumps4's type is numeric\n",
       "\tnbumps5's type is numeric\n",
       "\tnbumps6's type is numeric\n",
       "\tnbumps7's type is numeric\n",
       "\tnbumps89's type is numeric\n",
       "\tenergy's type is numeric\n",
       "\tmaxenergy's type is numeric\n",
       "\tclass's type is nominal, range is ('1', '0')"
      ]
     },
     "execution_count": 9,
     "metadata": {},
     "output_type": "execute_result"
    }
   ],
   "source": [
    "meta"
   ]
  },
  {
   "cell_type": "code",
   "execution_count": 10,
   "metadata": {},
   "outputs": [
    {
     "name": "stdout",
     "output_type": "stream",
     "text": [
      "[[0 0 0 ... 0.0 0.0 0.0]\n",
      " [0 0 0 ... 0.0 2000.0 2000.0]\n",
      " [0 0 0 ... 0.0 0.0 0.0]\n",
      " ...\n",
      " [1 0 1 ... 0.0 0.0 0.0]\n",
      " [0 0 1 ... 0.0 0.0 0.0]\n",
      " [0 0 1 ... 0.0 0.0 0.0]]\n",
      "[0 0 0 ... 0 0 0]\n"
     ]
    }
   ],
   "source": [
    "from sklearn.preprocessing import LabelEncoder\n",
    "labelencoder = LabelEncoder()\n",
    "X[:,0] = labelencoder.fit_transform(X[:,0])\n",
    "X[:,1] = labelencoder.fit_transform(X[:,1])\n",
    "X[:,2] = labelencoder.fit_transform(X[:,2])\n",
    "X[:,7] = labelencoder.fit_transform(X[:,7])\n",
    "Y = labelencoder.fit_transform(Y)\n",
    "print(X)\n",
    "print(Y)"
   ]
  },
  {
   "cell_type": "code",
   "execution_count": 11,
   "metadata": {},
   "outputs": [
    {
     "name": "stdout",
     "output_type": "stream",
     "text": [
      "(2584, 13)\n"
     ]
    }
   ],
   "source": [
    "from sklearn.feature_selection import VarianceThreshold\n",
    "selection_threshold = VarianceThreshold(threshold=(.9 * (1 - .9)))\n",
    "X = selection_threshold.fit_transform(X)\n",
    "print(X.shape)"
   ]
  },
  {
   "cell_type": "code",
   "execution_count": 12,
   "metadata": {},
   "outputs": [],
   "source": [
    "from sklearn.model_selection import train_test_split\n",
    "X_train, X_test, Y_train, Y_test = train_test_split(X, Y, test_size = 0.33, random_state = 0)\n",
    "\n",
    "#Feature Scaling\n",
    "from sklearn.preprocessing import StandardScaler\n",
    "sc = StandardScaler().fit(X_train)\n",
    "X_train = sc.transform(X_train)\n",
    "X_test = sc.transform(X_test)"
   ]
  },
  {
   "cell_type": "code",
   "execution_count": 13,
   "metadata": {},
   "outputs": [
    {
     "name": "stdout",
     "output_type": "stream",
     "text": [
      "f1_score for KNeighborsClassifier: 0.941\n",
      "f1_score for SVC: 0.944\n",
      "f1_score for DecisionTreeClassifier: 0.938\n",
      "f1_score for RandomForestClassifier: 0.94\n",
      "f1_score for AdaBoostClassifier: 0.94\n",
      "f1_score for LogisticRegression: 0.943\n",
      "f1_score for GaussianNB: 0.858\n",
      "f1_score for MLPClassifier: 0.945\n"
     ]
    }
   ],
   "source": [
    "# Model Accuracy\n",
    "from sklearn.neighbors import KNeighborsClassifier\n",
    "from sklearn.svm import SVC\n",
    "from sklearn.tree import DecisionTreeClassifier\n",
    "from sklearn.ensemble import RandomForestClassifier\n",
    "from sklearn.ensemble import AdaBoostClassifier\n",
    "from sklearn.linear_model import LogisticRegression\n",
    "from sklearn.naive_bayes import GaussianNB\n",
    "from sklearn.neural_network import MLPClassifier\n",
    "from sklearn.model_selection import GridSearchCV\n",
    "from sklearn.model_selection import RandomizedSearchCV\n",
    "from sklearn.metrics import f1_score\n",
    "\n",
    "names = ['KNeighborsClassifier','SVC', 'DecisionTreeClassifier', 'RandomForestClassifier','AdaBoostClassifier','LogisticRegression','GaussianNB','MLPClassifier']\n",
    "models = [KNeighborsClassifier(),\n",
    "          SVC(),\n",
    "          DecisionTreeClassifier(),\n",
    "          RandomForestClassifier(),\n",
    "          AdaBoostClassifier(),\n",
    "          LogisticRegression(),\n",
    "          GaussianNB(),\n",
    "          MLPClassifier()]\n",
    "\n",
    "param_distributions = {\n",
    "    'KNeighborsClassifier': {'n_neighbors': [5,10,20], 'metric':['minkowski','euclidean']},\n",
    "    'SVC': {'kernel':['rbf', 'linear'], 'C': np.logspace(-1, 1, 3), 'gamma':np.logspace(0, 2, 3)},\n",
    "    'DecisionTreeClassifier': {'criterion':['gini','entropy'], 'max_depth': range(1,20,2)},\n",
    "    'RandomForestClassifier': {'n_estimators': [16, 32, 40]},\n",
    "    'AdaBoostClassifier': {'n_estimators': [16, 32, 50], 'learning_rate':[0.5,0.8,1]},\n",
    "    'LogisticRegression': {'max_iter':[100,130,140],'C': np.logspace(-2, 2, 5), 'solver':['lbfgs','liblinear']},\n",
    "    'GaussianNB': {},\n",
    "    'MLPClassifier': {'hidden_layer_sizes': [(10,),(100,),(30,20)],'activation':['tanh', 'relu']}\n",
    "}\n",
    "\n",
    "accuracy= np.zeros(8)\n",
    "for counter, model in enumerate(models):\n",
    "    gridcv = GridSearchCV(model, param_distributions[names[counter]], n_jobs=2, cv=3)\n",
    "    gridcv.fit(X_train, Y_train)\n",
    "    Y_pred = gridcv.best_estimator_.predict(X_test)\n",
    "    accuracy[counter] = round(f1_score(Y_test, Y_pred, average='micro'),3)\n",
    "    print(\"f1_score for \" + names[counter] + \":\",accuracy[counter])"
   ]
  },
  {
   "cell_type": "code",
   "execution_count": 15,
   "metadata": {
    "scrolled": false
   },
   "outputs": [
    {
     "data": {
      "text/plain": [
       "Text(0.5, 1.0, 'Seismic Bumps dataset model accuracy')"
      ]
     },
     "execution_count": 15,
     "metadata": {},
     "output_type": "execute_result"
    },
    {
     "data": {
      "image/png": "[encoded data removed]",
      "text/plain": [
       "<Figure size 864x432 with 1 Axes>"
      ]
     },
     "metadata": {
      "needs_background": "light"
     },
     "output_type": "display_data"
    }
   ],
   "source": [
    "#Comparision graph between all models\n",
    "import seaborn as sns\n",
    "y_pos = np.arange(len(names))\n",
    "heights = [accuracy[0],accuracy[1],accuracy[2],accuracy[3],accuracy[4],accuracy[5],accuracy[6],accuracy[7]]\n",
    "\n",
    "fig, ax=plt.subplots(1,1,figsize=(12,6))\n",
    "\n",
    "plt.xticks(rotation='90')\n",
    "sns.barplot(x=names, y=heights)\n",
    "plt.ylabel('accuracy score')\n",
    "plt.title('Seismic Bumps dataset model accuracy')"
   ]
  },
  {
   "cell_type": "markdown",
   "metadata": {},
   "source": [
    "solver=, {‘newton-cg’, ‘lbfgs’, ‘liblinear’, ‘sag’, ‘saga’}, optional (default=’lbfgs’)\n",
    "\n",
    "For small datasets, ‘liblinear’ is a good choice, whereas ‘sag’ and ‘saga’ are faster for large ones.\n",
    "For multiclass problems, only ‘newton-cg’, ‘sag’, ‘saga’ and ‘lbfgs’ handle multinomial loss; ‘liblinear’ is limited to one-versus-rest schemes."
   ]
  },
  {
   "cell_type": "code",
   "execution_count": null,
   "metadata": {},
   "outputs": [],
   "source": []
  }
 ],
 "metadata": {
  "kernelspec": {
   "display_name": "Python 3",
   "language": "python",
   "name": "python3"
  },
  "language_info": {
   "codemirror_mode": {
    "name": "ipython",
    "version": 3
   },
   "file_extension": ".py",
   "mimetype": "text/x-python",
   "name": "python",
   "nbconvert_exporter": "python",
   "pygments_lexer": "ipython3",
   "version": "3.7.4"
  }
 },
 "nbformat": 4,
 "nbformat_minor": 2
}
