{
 "cells": [
  {
   "cell_type": "markdown",
   "metadata": {},
   "source": [
    "## Diabetic Retinopathy"
   ]
  },
  {
   "cell_type": "code",
   "execution_count": 1,
   "metadata": {
    "scrolled": true
   },
   "outputs": [
    {
     "name": "stdout",
     "output_type": "stream",
     "text": [
      "        0    1     2     3     4     5     6     7          8          9  \\\n",
      "0     1.0  1.0  22.0  22.0  22.0  19.0  18.0  14.0  49.895756  17.775994   \n",
      "1     1.0  1.0  24.0  24.0  22.0  18.0  16.0  13.0  57.709936  23.799994   \n",
      "2     1.0  1.0  62.0  60.0  59.0  54.0  47.0  33.0  55.831441  27.993933   \n",
      "3     1.0  1.0  55.0  53.0  53.0  50.0  43.0  31.0  40.467228  18.445954   \n",
      "4     1.0  1.0  44.0  44.0  44.0  41.0  39.0  27.0  18.026254   8.570709   \n",
      "...   ...  ...   ...   ...   ...   ...   ...   ...        ...        ...   \n",
      "1146  1.0  1.0  34.0  34.0  34.0  33.0  31.0  24.0   6.071765   0.937472   \n",
      "1147  1.0  1.0  49.0  49.0  49.0  49.0  45.0  37.0  63.197145  27.377668   \n",
      "1148  1.0  0.0  49.0  48.0  48.0  45.0  43.0  33.0  30.461898  13.966980   \n",
      "1149  1.0  1.0  39.0  36.0  29.0  23.0  13.0   7.0  40.525739  12.604947   \n",
      "1150  1.0  1.0   7.0   7.0   7.0   7.0   7.0   5.0  69.423565   7.031843   \n",
      "\n",
      "             10        11        12        13        14        15        16  \\\n",
      "0      5.270920  0.771761  0.018632  0.006864  0.003923  0.003923  0.486903   \n",
      "1      3.325423  0.234185  0.003903  0.003903  0.003903  0.003903  0.520908   \n",
      "2     12.687485  4.852282  1.393889  0.373252  0.041817  0.007744  0.530904   \n",
      "3      9.118901  3.079428  0.840261  0.272434  0.007653  0.001531  0.483284   \n",
      "4      0.410381  0.000000  0.000000  0.000000  0.000000  0.000000  0.475935   \n",
      "...         ...       ...       ...       ...       ...       ...       ...   \n",
      "1146   0.031145  0.003115  0.000000  0.000000  0.000000  0.000000  0.537470   \n",
      "1147   8.067688  0.979548  0.001552  0.000000  0.000000  0.000000  0.516733   \n",
      "1148   1.763305  0.137858  0.011221  0.000000  0.000000  0.000000  0.560632   \n",
      "1149   4.740919  1.077570  0.563518  0.326860  0.239568  0.174584  0.485972   \n",
      "1150   1.750548  0.046597  0.021180  0.008472  0.000000  0.000000  0.556192   \n",
      "\n",
      "            17   18 Class  \n",
      "0     0.100025  1.0  b'0'  \n",
      "1     0.144414  0.0  b'0'  \n",
      "2     0.128548  0.0  b'1'  \n",
      "3     0.114790  0.0  b'0'  \n",
      "4     0.123572  0.0  b'1'  \n",
      "...        ...  ...   ...  \n",
      "1146  0.116795  0.0  b'0'  \n",
      "1147  0.124190  0.0  b'0'  \n",
      "1148  0.129843  0.0  b'0'  \n",
      "1149  0.106690  1.0  b'1'  \n",
      "1150  0.088957  0.0  b'0'  \n",
      "\n",
      "[1151 rows x 20 columns]\n",
      "(1151, 19)\n",
      "(1151,)\n"
     ]
    }
   ],
   "source": [
    "#importing the libraries\n",
    "import numpy as np\n",
    "import matplotlib.pyplot as plt\n",
    "import pandas as pd\n",
    "import sklearn\n",
    "from scipy.io import arff\n",
    "\n",
    "#Importing Diabetic Retinopathy Dataset\n",
    "dataset, meta = arff.loadarff('messidor_features.arff')\n",
    "data = pd.DataFrame(dataset)\n",
    "X = data.iloc[:, :19].values\n",
    "Y = data.iloc[:, 19].values\n",
    "\n",
    "print(data)\n",
    "print(X.shape)\n",
    "print(Y.shape)"
   ]
  },
  {
   "cell_type": "code",
   "execution_count": 2,
   "metadata": {},
   "outputs": [
    {
     "data": {
      "text/plain": [
       "Dataset: dr\n",
       "\t0's type is numeric\n",
       "\t1's type is numeric\n",
       "\t2's type is numeric\n",
       "\t3's type is numeric\n",
       "\t4's type is numeric\n",
       "\t5's type is numeric\n",
       "\t6's type is numeric\n",
       "\t7's type is numeric\n",
       "\t8's type is numeric\n",
       "\t9's type is numeric\n",
       "\t10's type is numeric\n",
       "\t11's type is numeric\n",
       "\t12's type is numeric\n",
       "\t13's type is numeric\n",
       "\t14's type is numeric\n",
       "\t15's type is numeric\n",
       "\t16's type is numeric\n",
       "\t17's type is numeric\n",
       "\t18's type is numeric\n",
       "\tClass's type is nominal, range is ('0', '1')"
      ]
     },
     "execution_count": 2,
     "metadata": {},
     "output_type": "execute_result"
    }
   ],
   "source": [
    "meta"
   ]
  },
  {
   "cell_type": "code",
   "execution_count": 3,
   "metadata": {},
   "outputs": [
    {
     "name": "stdout",
     "output_type": "stream",
     "text": [
      "[0 0 1 ... 0 1 0]\n"
     ]
    }
   ],
   "source": [
    "from sklearn.preprocessing import LabelEncoder\n",
    "labelencoder = LabelEncoder()\n",
    "Y = labelencoder.fit_transform(Y)\n",
    "print(Y)"
   ]
  },
  {
   "cell_type": "code",
   "execution_count": 4,
   "metadata": {},
   "outputs": [],
   "source": [
    "from sklearn.model_selection import train_test_split\n",
    "X_train, X_test, Y_train, Y_test = train_test_split(X, Y, test_size = 0.33, random_state = 0)"
   ]
  },
  {
   "cell_type": "code",
   "execution_count": 5,
   "metadata": {},
   "outputs": [],
   "source": [
    "#Feature Scaling\n",
    "from sklearn.preprocessing import StandardScaler\n",
    "sc = StandardScaler().fit(X_train)\n",
    "X_train = sc.transform(X_train)\n",
    "X_test = sc.transform(X_test)"
   ]
  },
  {
   "cell_type": "code",
   "execution_count": 11,
   "metadata": {},
   "outputs": [
    {
     "name": "stdout",
     "output_type": "stream",
     "text": [
      "{'metric': 'minkowski', 'n_neighbors': 80}\n",
      "f1_score for KNeighborsClassifier: 0.647\n",
      "{'C': 10.0, 'gamma': 1.0, 'kernel': 'linear'}\n",
      "f1_score for SVC: 0.75\n",
      "{'criterion': 'entropy', 'max_depth': 10}\n",
      "f1_score for DecisionTreeClassifier: 0.616\n",
      "{'n_estimators': 40}\n",
      "f1_score for RandomForestClassifier: 0.668\n",
      "{'learning_rate': 0.5, 'n_estimators': 200}\n",
      "f1_score for AdaBoostClassifier: 0.695\n"
     ]
    },
    {
     "name": "stderr",
     "output_type": "stream",
     "text": [
      "C:\\Users\\Manan\\Anaconda3\\lib\\site-packages\\sklearn\\linear_model\\logistic.py:432: FutureWarning: Default solver will be changed to 'lbfgs' in 0.22. Specify a solver to silence this warning.\n",
      "  FutureWarning)\n"
     ]
    },
    {
     "name": "stdout",
     "output_type": "stream",
     "text": [
      "{'C': 100.0, 'max_iter': 100}\n",
      "f1_score for LogisticRegression: 0.745\n",
      "{}\n",
      "f1_score for GaussianNB: 0.618\n",
      "{'activation': 'tanh', 'hidden_layer_sizes': (200,), 'max_iter': 200}\n",
      "f1_score for MLPClassifier: 0.737\n"
     ]
    },
    {
     "name": "stderr",
     "output_type": "stream",
     "text": [
      "C:\\Users\\Manan\\Anaconda3\\lib\\site-packages\\sklearn\\neural_network\\multilayer_perceptron.py:566: ConvergenceWarning: Stochastic Optimizer: Maximum iterations (200) reached and the optimization hasn't converged yet.\n",
      "  % self.max_iter, ConvergenceWarning)\n"
     ]
    }
   ],
   "source": [
    "# Model Accuracy\n",
    "from sklearn.neighbors import KNeighborsClassifier\n",
    "from sklearn.svm import SVC\n",
    "from sklearn.tree import DecisionTreeClassifier\n",
    "from sklearn.ensemble import RandomForestClassifier\n",
    "from sklearn.ensemble import AdaBoostClassifier\n",
    "from sklearn.linear_model import LogisticRegression\n",
    "from sklearn.naive_bayes import GaussianNB\n",
    "from sklearn.neural_network import MLPClassifier\n",
    "from sklearn.model_selection import GridSearchCV\n",
    "from sklearn.model_selection import RandomizedSearchCV\n",
    "from sklearn.metrics import f1_score\n",
    "\n",
    "names = ['KNeighborsClassifier','SVC', 'DecisionTreeClassifier', 'RandomForestClassifier','AdaBoostClassifier','LogisticRegression','GaussianNB','MLPClassifier']\n",
    "models = [KNeighborsClassifier(),\n",
    "          SVC(),\n",
    "          DecisionTreeClassifier(),\n",
    "          RandomForestClassifier(),\n",
    "          AdaBoostClassifier(),\n",
    "          LogisticRegression(),\n",
    "          GaussianNB(),\n",
    "          MLPClassifier()]\n",
    "\n",
    "param_distributions = {\n",
    "    'KNeighborsClassifier': {'n_neighbors': [10,20,50,80], 'metric':['minkowski','euclidean']},\n",
    "    'SVC': {'kernel':['rbf', 'linear'], 'C': np.logspace(-1, 1, 3), 'gamma':np.logspace(0, 2, 3)},\n",
    "    'DecisionTreeClassifier': {'criterion':['gini','entropy'], 'max_depth': [10,20,30,50]},\n",
    "    'RandomForestClassifier': {'n_estimators': [20,40,60]},\n",
    "    'AdaBoostClassifier': {'n_estimators': [50, 100, 200], 'learning_rate':[0.01,0.5,0.8]},\n",
    "    'LogisticRegression': {'max_iter':[100,130,140],'C': np.logspace(-2, 2, 5), 'solver':['lbfgs','liblinear']},\n",
    "    'GaussianNB': {},\n",
    "    'MLPClassifier': {'hidden_layer_sizes': [(10,),(100,),(200,)],'activation':['tanh', 'relu'], 'max_iter': [100,200]}\n",
    "}\n",
    "\n",
    "accuracy= np.zeros(8)\n",
    "for counter, model in enumerate(models):\n",
    "    gridcv = GridSearchCV(model, param_distributions[names[counter]], n_jobs=2, cv=3)\n",
    "    gridcv.fit(X_train, Y_train)\n",
    "    Y_pred = gridcv.best_estimator_.predict(X_test)\n",
    "    print(gridcv.best_params_)\n",
    "    accuracy[counter] = round(f1_score(Y_test, Y_pred, average='micro'),3)\n",
    "    print(\"f1_score for \" + names[counter] + \":\",accuracy[counter])"
   ]
  },
  {
   "cell_type": "code",
   "execution_count": 12,
   "metadata": {},
   "outputs": [
    {
     "data": {
      "text/plain": [
       "Text(0.5, 1.0, 'Diabetic Retinopathy dataset models')"
      ]
     },
     "execution_count": 12,
     "metadata": {},
     "output_type": "execute_result"
    },
    {
     "data": {
      "image/png": "[encoded data removed]",
      "text/plain": [
       "<Figure size 864x432 with 1 Axes>"
      ]
     },
     "metadata": {
      "needs_background": "light"
     },
     "output_type": "display_data"
    }
   ],
   "source": [
    "#Comparision graph between all models\n",
    "import seaborn as sns\n",
    "y_pos = np.arange(len(names))\n",
    "heights = [accuracy[0],accuracy[1],accuracy[2],accuracy[3],accuracy[4],accuracy[5],accuracy[6],accuracy[7]]\n",
    "\n",
    "fig, ax=plt.subplots(1,1,figsize=(12,6))\n",
    "\n",
    "plt.xticks(rotation='90')\n",
    "sns.barplot(x=names, y=heights)\n",
    "plt.ylabel('f1 score')\n",
    "plt.title('Diabetic Retinopathy dataset models')"
   ]
  },
  {
   "cell_type": "code",
   "execution_count": null,
   "metadata": {},
   "outputs": [],
   "source": []
  }
 ],
 "metadata": {
  "kernelspec": {
   "display_name": "Python 3",
   "language": "python",
   "name": "python3"
  },
  "language_info": {
   "codemirror_mode": {
    "name": "ipython",
    "version": 3
   },
   "file_extension": ".py",
   "mimetype": "text/x-python",
   "name": "python",
   "nbconvert_exporter": "python",
   "pygments_lexer": "ipython3",
   "version": "3.7.4"
  }
 },
 "nbformat": 4,
 "nbformat_minor": 2
}
