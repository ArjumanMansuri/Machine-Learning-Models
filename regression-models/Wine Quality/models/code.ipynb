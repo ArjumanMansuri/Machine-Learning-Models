{
 "cells": [
  {
   "cell_type": "markdown",
   "metadata": {},
   "source": [
    "# Wine Quality Dataset"
   ]
  },
  {
   "cell_type": "code",
   "execution_count": 6,
   "metadata": {
    "scrolled": true
   },
   "outputs": [
    {
     "name": "stdout",
     "output_type": "stream",
     "text": [
      "       7.4    0.7     0  1.9  0.076    11    34   0.9978  3.51  0.56   9.4  5\n",
      "0      7.8  0.880  0.00  2.6  0.098  25.0  67.0  0.99680  3.20  0.68   9.8  5\n",
      "1      7.8  0.760  0.04  2.3  0.092  15.0  54.0  0.99700  3.26  0.65   9.8  5\n",
      "2     11.2  0.280  0.56  1.9  0.075  17.0  60.0  0.99800  3.16  0.58   9.8  6\n",
      "3      7.4  0.700  0.00  1.9  0.076  11.0  34.0  0.99780  3.51  0.56   9.4  5\n",
      "4      7.4  0.660  0.00  1.8  0.075  13.0  40.0  0.99780  3.51  0.56   9.4  5\n",
      "...    ...    ...   ...  ...    ...   ...   ...      ...   ...   ...   ... ..\n",
      "1593   6.2  0.600  0.08  2.0  0.090  32.0  44.0  0.99490  3.45  0.58  10.5  5\n",
      "1594   5.9  0.550  0.10  2.2  0.062  39.0  51.0  0.99512  3.52  0.76  11.2  6\n",
      "1595   6.3  0.510  0.13  2.3  0.076  29.0  40.0  0.99574  3.42  0.75  11.0  6\n",
      "1596   5.9  0.645  0.12  2.0  0.075  32.0  44.0  0.99547  3.57  0.71  10.2  5\n",
      "1597   6.0  0.310  0.47  3.6  0.067  18.0  42.0  0.99549  3.39  0.66  11.0  6\n",
      "\n",
      "[1598 rows x 12 columns]\n",
      "(1598, 11)\n",
      "(1598,)\n"
     ]
    }
   ],
   "source": [
    "#importing the libraries\n",
    "import numpy as np\n",
    "import matplotlib.pyplot as plt\n",
    "import pandas as pd\n",
    "import sklearn\n",
    "from sklearn.impute import SimpleImputer\n",
    "\n",
    "#Importing Concrete Compressive Strength Dataset\n",
    "dataset = pd.read_csv('C:/Users/Manan/Desktop/Fall 2019/Machine Learning COMP6321/Project/Machine-Learning-Project/regression-models/Wine Quality/data/winequality-red.csv',sep=\";\",header=1)\n",
    "data = pd.DataFrame(dataset)"
   ]
  },
  {
   "cell_type": "code",
   "execution_count": 8,
   "metadata": {},
   "outputs": [
    {
     "name": "stdout",
     "output_type": "stream",
     "text": [
      "-> Contains Missing values                 False\n",
      "-> Total Number of Missing values:         0\n",
      "-> Number of Missing values by column:     \n",
      "7.4       0\n",
      "0.7       0\n",
      "0         0\n",
      "1.9       0\n",
      "0.076     0\n",
      "11        0\n",
      "34        0\n",
      "0.9978    0\n",
      "3.51      0\n",
      "0.56      0\n",
      "9.4       0\n",
      "5         0\n",
      "dtype: int64\n"
     ]
    }
   ],
   "source": [
    "# Check if dataset has null values\n",
    "result = dataset.isna()\n",
    "print(\"-> Contains Missing values                 \",end='')\n",
    "print(result.values.any())\n",
    "print(\"-> Total Number of Missing values:         \",end='')\n",
    "print(result.sum().sum())\n",
    "print(\"-> Number of Missing values by column:     \")\n",
    "print(result.sum())\n",
    "\n",
    "# from sklearn.preprocessing import Imputer\n",
    "# imp = Imputer(missing_values='NaN', strategy='mean', axis=0)\n",
    "# imp.fit(train)\n",
    "# train= imp.transform(train)"
   ]
  },
  {
   "cell_type": "code",
   "execution_count": 17,
   "metadata": {},
   "outputs": [
    {
     "name": "stdout",
     "output_type": "stream",
     "text": [
      "       7.4    0.7     0  1.9  0.076    11    34   0.9978  3.51  0.56   9.4  5\n",
      "0      7.8  0.880  0.00  2.6  0.098  25.0  67.0  0.99680  3.20  0.68   9.8  5\n",
      "1      7.8  0.760  0.04  2.3  0.092  15.0  54.0  0.99700  3.26  0.65   9.8  5\n",
      "2     11.2  0.280  0.56  1.9  0.075  17.0  60.0  0.99800  3.16  0.58   9.8  6\n",
      "3      7.4  0.700  0.00  1.9  0.076  11.0  34.0  0.99780  3.51  0.56   9.4  5\n",
      "4      7.4  0.660  0.00  1.8  0.075  13.0  40.0  0.99780  3.51  0.56   9.4  5\n",
      "...    ...    ...   ...  ...    ...   ...   ...      ...   ...   ...   ... ..\n",
      "1593   6.2  0.600  0.08  2.0  0.090  32.0  44.0  0.99490  3.45  0.58  10.5  5\n",
      "1594   5.9  0.550  0.10  2.2  0.062  39.0  51.0  0.99512  3.52  0.76  11.2  6\n",
      "1595   6.3  0.510  0.13  2.3  0.076  29.0  40.0  0.99574  3.42  0.75  11.0  6\n",
      "1596   5.9  0.645  0.12  2.0  0.075  32.0  44.0  0.99547  3.57  0.71  10.2  5\n",
      "1597   6.0  0.310  0.47  3.6  0.067  18.0  42.0  0.99549  3.39  0.66  11.0  6\n",
      "\n",
      "[1598 rows x 12 columns]\n",
      "(1598, 11)\n",
      "(1598,)\n"
     ]
    }
   ],
   "source": [
    "X = data.iloc[:, :11].values\n",
    "Y = data.iloc[:, 11].values\n",
    "\n",
    "print(data)\n",
    "print(X.shape)\n",
    "print(Y.shape)"
   ]
  },
  {
   "cell_type": "code",
   "execution_count": 9,
   "metadata": {},
   "outputs": [],
   "source": [
    "from sklearn.model_selection import train_test_split\n",
    "X_train, X_test, Y_train, Y_test = train_test_split(X, Y, test_size = 0.33, random_state = 0)"
   ]
  },
  {
   "cell_type": "code",
   "execution_count": 10,
   "metadata": {},
   "outputs": [],
   "source": [
    "#Feature Scaling\n",
    "from sklearn.preprocessing import StandardScaler\n",
    "sc = StandardScaler().fit(X_train)\n",
    "X_train = sc.transform(X_train)\n",
    "X_test = sc.transform(X_test)"
   ]
  },
  {
   "cell_type": "code",
   "execution_count": 15,
   "metadata": {},
   "outputs": [
    {
     "name": "stdout",
     "output_type": "stream",
     "text": [
      "Accuracy for SVR: 37.14888450363302\n",
      "Accuracy for DecisionTreeRegressor: 33.874566597672654\n",
      "Accuracy for RandomForestRegressor: 31.646926908790796\n",
      "Accuracy for AdaBoostRegressor: 34.26155651079475\n",
      "Accuracy for GaussianProcessRegressor: 34.46889923084283\n",
      "Accuracy for LinearRegression: 34.37312171353861\n",
      "Accuracy for MLPRegressor: 35.35679255097294\n"
     ]
    },
    {
     "name": "stderr",
     "output_type": "stream",
     "text": [
      "C:\\Users\\Manan\\Anaconda3\\lib\\site-packages\\sklearn\\neural_network\\multilayer_perceptron.py:566: ConvergenceWarning: Stochastic Optimizer: Maximum iterations (200) reached and the optimization hasn't converged yet.\n",
      "  % self.max_iter, ConvergenceWarning)\n"
     ]
    }
   ],
   "source": [
    "# Model Accuracy\n",
    "from sklearn.svm import SVR\n",
    "from sklearn.tree import DecisionTreeRegressor\n",
    "from sklearn.ensemble import RandomForestRegressor\n",
    "from sklearn.ensemble import AdaBoostRegressor\n",
    "from sklearn.gaussian_process import GaussianProcessRegressor\n",
    "from sklearn.linear_model import LinearRegression\n",
    "from sklearn.neural_network import MLPRegressor\n",
    "from sklearn.metrics import r2_score\n",
    "from sklearn.gaussian_process.kernels import DotProduct, WhiteKernel\n",
    "\n",
    "#Defining kernel for GaussianProcessRegressor\n",
    "#kernel=None would take less time to train, but would give less accuracy\n",
    "kernel = DotProduct() + WhiteKernel()\n",
    "\n",
    "names = ['SVR', 'DecisionTreeRegressor', 'RandomForestRegressor', 'AdaBoostRegressor','GaussianProcessRegressor','LinearRegression','MLPRegressor']\n",
    "models = [SVR(gamma='scale', C=1.0, epsilon=0.2),\n",
    "          DecisionTreeRegressor(min_samples_split=5, max_leaf_nodes=10, max_depth=4),\n",
    "          RandomForestRegressor(max_depth=2, random_state=0,n_estimators=100),\n",
    "          AdaBoostRegressor(random_state=0, n_estimators=100),\n",
    "          GaussianProcessRegressor(kernel=kernel,random_state=0),\n",
    "          LinearRegression(),\n",
    "          MLPRegressor(hidden_layer_sizes=(500, ), activation='relu', solver='adam')]\n",
    "\n",
    "accuracy= np.zeros(7)\n",
    "\n",
    "for counter, model in enumerate(models):\n",
    "    model.fit(X_train, Y_train)\n",
    "    Y_pred=model.predict(X_test)\n",
    "    accuracy[counter] = r2_score(Y_test, Y_pred)*100\n",
    "    print(\"Accuracy for \" + names[counter] + \":\",accuracy[counter])"
   ]
  },
  {
   "cell_type": "code",
   "execution_count": 16,
   "metadata": {},
   "outputs": [
    {
     "data": {
      "text/plain": [
       "Text(0.5, 1.0, 'Wine Quality Dataset model accuracy')"
      ]
     },
     "execution_count": 16,
     "metadata": {},
     "output_type": "execute_result"
    },
    {
     "data": {
      "image/png": "[encoded data removed]",
      "text/plain": [
       "<Figure size 864x432 with 1 Axes>"
      ]
     },
     "metadata": {
      "needs_background": "light"
     },
     "output_type": "display_data"
    }
   ],
   "source": [
    "#Comparision graph between all models\n",
    "import seaborn as sns\n",
    "y_pos = np.arange(len(names))\n",
    "heights = [accuracy[0],accuracy[1],accuracy[2],accuracy[3],accuracy[4],accuracy[5],accuracy[6]]\n",
    "\n",
    "fig, ax=plt.subplots(1,1,figsize=(12,6))\n",
    "\n",
    "plt.xticks(rotation='90')\n",
    "sns.barplot(x=names, y=heights)\n",
    "plt.ylabel('accuracy score')\n",
    "plt.title('Wine Quality Dataset model accuracy')"
   ]
  },
  {
   "cell_type": "code",
   "execution_count": null,
   "metadata": {},
   "outputs": [],
   "source": []
  }
 ],
 "metadata": {
  "kernelspec": {
   "display_name": "Python 3",
   "language": "python",
   "name": "python3"
  },
  "language_info": {
   "codemirror_mode": {
    "name": "ipython",
    "version": 3
   },
   "file_extension": ".py",
   "mimetype": "text/x-python",
   "name": "python",
   "nbconvert_exporter": "python",
   "pygments_lexer": "ipython3",
   "version": "3.7.4"
  }
 },
 "nbformat": 4,
 "nbformat_minor": 2
}
