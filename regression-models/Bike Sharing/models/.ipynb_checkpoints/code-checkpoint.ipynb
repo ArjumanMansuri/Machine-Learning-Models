{
 "cells": [
  {
   "cell_type": "markdown",
   "metadata": {},
   "source": [
    "# Bike Sharing Dataset"
   ]
  },
  {
   "cell_type": "code",
   "execution_count": 18,
   "metadata": {},
   "outputs": [
    {
     "name": "stdout",
     "output_type": "stream",
     "text": [
      "[[1 '2011-01-01' 1 ... 3 13 16]\n",
      " [2 '2011-01-01' 1 ... 8 32 40]\n",
      " [3 '2011-01-01' 1 ... 5 27 32]\n",
      " ...\n",
      " [17377 '2012-12-31' 1 ... 7 83 90]\n",
      " [17378 '2012-12-31' 1 ... 13 48 61]\n",
      " [17379 '2012-12-31' 1 ... 12 37 49]]\n",
      "(17379, 15)\n",
      "(17379,)\n"
     ]
    }
   ],
   "source": [
    "#importing the libraries\n",
    "import numpy as np\n",
    "import matplotlib.pyplot as plt\n",
    "import pandas as pd\n",
    "import sklearn\n",
    "from sklearn.impute import SimpleImputer\n",
    "\n",
    "#Importing Diabetic Retinopathy Dataset\n",
    "dataset = pd.read_csv('C:/Users/emnsrjm/Desktop/Courses/Machine Learning/Project/Project/Machine-Learning-Project/regression-models/Bike Sharing/data/hour.csv')\n",
    "data = pd.DataFrame(dataset)\n",
    "\n",
    "#Using Simple Imputer to impute '#######' dates\n",
    "imp = SimpleImputer(strategy=\"most_frequent\")\n",
    "data = imp.fit_transform(data)\n",
    "\n",
    "X = data[:, 1:16]\n",
    "Y = data[:, 16]\n",
    "\n",
    "print(data)\n",
    "print(X.shape)\n",
    "print(Y.shape)"
   ]
  },
  {
   "cell_type": "code",
   "execution_count": 19,
   "metadata": {},
   "outputs": [
    {
     "name": "stdout",
     "output_type": "stream",
     "text": [
      "<class 'pandas.core.frame.DataFrame'>\n",
      "RangeIndex: 17379 entries, 0 to 17378\n",
      "Data columns (total 17 columns):\n",
      "instant       17379 non-null int64\n",
      "dteday        17379 non-null object\n",
      "season        17379 non-null int64\n",
      "yr            17379 non-null int64\n",
      "mnth          17379 non-null int64\n",
      "hr            17379 non-null int64\n",
      "holiday       17379 non-null int64\n",
      "weekday       17379 non-null int64\n",
      "workingday    17379 non-null int64\n",
      "weathersit    17379 non-null int64\n",
      "temp          17379 non-null float64\n",
      "atemp         17379 non-null float64\n",
      "hum           17379 non-null float64\n",
      "windspeed     17379 non-null float64\n",
      "casual        17379 non-null int64\n",
      "registered    17379 non-null int64\n",
      "cnt           17379 non-null int64\n",
      "dtypes: float64(4), int64(12), object(1)\n",
      "memory usage: 2.3+ MB\n"
     ]
    }
   ],
   "source": [
    "dataset.info()"
   ]
  },
  {
   "cell_type": "code",
   "execution_count": 20,
   "metadata": {},
   "outputs": [
    {
     "name": "stdout",
     "output_type": "stream",
     "text": [
      "[[0 1 0 ... 0.0 3 13]\n",
      " [0 1 0 ... 0.0 8 32]\n",
      " [0 1 0 ... 0.0 5 27]\n",
      " ...\n",
      " [730 1 1 ... 0.1642 7 83]\n",
      " [730 1 1 ... 0.1343 13 48]\n",
      " [730 1 1 ... 0.1343 12 37]]\n"
     ]
    }
   ],
   "source": [
    "from sklearn.preprocessing import LabelEncoder\n",
    "labelencoder = LabelEncoder()\n",
    "X[:,0] = labelencoder.fit_transform(X[:,0])\n",
    "print(X)"
   ]
  },
  {
   "cell_type": "code",
   "execution_count": 21,
   "metadata": {},
   "outputs": [
    {
     "name": "stderr",
     "output_type": "stream",
     "text": [
      "C:\\Users\\emnsrjm\\AppData\\Local\\Continuum\\anaconda3\\lib\\site-packages\\sklearn\\utils\\validation.py:595: DataConversionWarning: Data with input dtype object was converted to float64 by StandardScaler.\n",
      "  warnings.warn(msg, DataConversionWarning)\n",
      "C:\\Users\\emnsrjm\\AppData\\Local\\Continuum\\anaconda3\\lib\\site-packages\\sklearn\\utils\\validation.py:595: DataConversionWarning: Data with input dtype object was converted to float64 by StandardScaler.\n",
      "  warnings.warn(msg, DataConversionWarning)\n"
     ]
    }
   ],
   "source": [
    "#Feature Scaling\n",
    "from sklearn.preprocessing import StandardScaler\n",
    "sc = StandardScaler()\n",
    "X = sc.fit_transform(X)"
   ]
  },
  {
   "cell_type": "code",
   "execution_count": 22,
   "metadata": {},
   "outputs": [],
   "source": [
    "from sklearn.model_selection import train_test_split\n",
    "X_train, X_test, Y_train, Y_test = train_test_split(X, Y, test_size = 0.33, random_state = 0)"
   ]
  },
  {
   "cell_type": "code",
   "execution_count": 30,
   "metadata": {},
   "outputs": [
    {
     "name": "stdout",
     "output_type": "stream",
     "text": [
      "Accuracy for SVR: 89.00672828583303\n",
      "Accuracy for DecisionTreeRegressor: 99.8799992130028\n",
      "Accuracy for RandomForestRegressor: 88.59310854905786\n",
      "Accuracy for AdaBoostRegressor: 97.88561366504187\n",
      "Accuracy for GaussianProcessRegressor: 99.99999841501135\n",
      "Accuracy for LinearRegression: 100.0\n"
     ]
    }
   ],
   "source": [
    "# Model Accuracy\n",
    "from sklearn.svm import SVR\n",
    "from sklearn.tree import DecisionTreeRegressor\n",
    "from sklearn.ensemble import RandomForestRegressor\n",
    "from sklearn.ensemble import AdaBoostRegressor\n",
    "from sklearn.gaussian_process import GaussianProcessRegressor\n",
    "from sklearn.linear_model import LinearRegression\n",
    "from sklearn.metrics import r2_score\n",
    "from sklearn.gaussian_process.kernels import DotProduct, WhiteKernel\n",
    "\n",
    "#Defining kernel for GaussianProcessRegressor\n",
    "#kernel=None would take less time to train, but would give 93.7948904411872 accuracy\n",
    "kernel = DotProduct() + WhiteKernel()\n",
    "\n",
    "names = ['SVR', 'DecisionTreeRegressor', 'RandomForestRegressor', 'AdaBoostRegressor','GaussianProcessRegressor','LinearRegression']\n",
    "models = [SVR(gamma='scale', C=1.0, epsilon=0.2),\n",
    "          DecisionTreeRegressor(random_state=0),\n",
    "          RandomForestRegressor(max_depth=2, random_state=0,n_estimators=100),\n",
    "          AdaBoostRegressor(random_state=0, n_estimators=100),\n",
    "          GaussianProcessRegressor(kernel=kernel,random_state=0),\n",
    "          LinearRegression()]\n",
    "\n",
    "accuracy= np.zeros(6)\n",
    "\n",
    "for counter, model in enumerate(models):\n",
    "    model.fit(X_train, Y_train)\n",
    "    Y_pred=model.predict(X_test)\n",
    "    accuracy[counter] = r2_score(Y_test, Y_pred)*100\n",
    "    print(\"Accuracy for \" + names[counter] + \":\",accuracy[counter])"
   ]
  },
  {
   "cell_type": "code",
   "execution_count": 35,
   "metadata": {},
   "outputs": [
    {
     "data": {
      "text/plain": [
       "Text(0.5, 1.0, 'Bike Sharing Dataset model accuracy')"
      ]
     },
     "execution_count": 35,
     "metadata": {},
     "output_type": "execute_result"
    },
    {
     "data": {
      "image/png": "[encoded data removed]",
      "text/plain": [
       "<Figure size 864x432 with 1 Axes>"
      ]
     },
     "metadata": {
      "needs_background": "light"
     },
     "output_type": "display_data"
    }
   ],
   "source": [
    "#Comparision graph between all models\n",
    "import seaborn as sns\n",
    "y_pos = np.arange(len(names))\n",
    "heights = [accuracy[0],accuracy[1],accuracy[2],accuracy[3],accuracy[4],accuracy[5]]\n",
    "\n",
    "fig, ax=plt.subplots(1,1,figsize=(12,6))\n",
    "\n",
    "plt.xticks(rotation='90')\n",
    "sns.barplot(x=names, y=heights)\n",
    "plt.ylabel('accuracy score')\n",
    "plt.title('Bike Sharing Dataset model accuracy')"
   ]
  },
  {
   "cell_type": "code",
   "execution_count": null,
   "metadata": {},
   "outputs": [],
   "source": []
  }
 ],
 "metadata": {
  "kernelspec": {
   "display_name": "Python 3",
   "language": "python",
   "name": "python3"
  },
  "language_info": {
   "codemirror_mode": {
    "name": "ipython",
    "version": 3
   },
   "file_extension": ".py",
   "mimetype": "text/x-python",
   "name": "python",
   "nbconvert_exporter": "python",
   "pygments_lexer": "ipython3",
   "version": "3.7.3"
  }
 },
 "nbformat": 4,
 "nbformat_minor": 2
}
