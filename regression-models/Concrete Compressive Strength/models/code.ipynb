{
 "cells": [
  {
   "cell_type": "markdown",
   "metadata": {},
   "source": [
    "# Concrete Compressive Strength Dataset"
   ]
  },
  {
   "cell_type": "code",
   "execution_count": 11,
   "metadata": {
    "scrolled": true
   },
   "outputs": [
    {
     "name": "stdout",
     "output_type": "stream",
     "text": [
      "        540      0    0.1    162   2.5    1040    676   28  79.98611076\n",
      "0     540.0    0.0    0.0  162.0   2.5  1055.0  676.0   28    61.887366\n",
      "1     332.5  142.5    0.0  228.0   0.0   932.0  594.0  270    40.269535\n",
      "2     332.5  142.5    0.0  228.0   0.0   932.0  594.0  365    41.052780\n",
      "3     198.6  132.4    0.0  192.0   0.0   978.4  825.5  360    44.296075\n",
      "4     266.0  114.0    0.0  228.0   0.0   932.0  670.0   90    47.029847\n",
      "5     380.0   95.0    0.0  228.0   0.0   932.0  594.0  365    43.698299\n",
      "6     380.0   95.0    0.0  228.0   0.0   932.0  594.0   28    36.447770\n",
      "7     266.0  114.0    0.0  228.0   0.0   932.0  670.0   28    45.854291\n",
      "8     475.0    0.0    0.0  228.0   0.0   932.0  594.0   28    39.289790\n",
      "9     198.6  132.4    0.0  192.0   0.0   978.4  825.5   90    38.074244\n",
      "10    198.6  132.4    0.0  192.0   0.0   978.4  825.5   28    28.021684\n",
      "11    427.5   47.5    0.0  228.0   0.0   932.0  594.0  270    43.012960\n",
      "12    190.0  190.0    0.0  228.0   0.0   932.0  670.0   90    42.326932\n",
      "13    304.0   76.0    0.0  228.0   0.0   932.0  670.0   28    47.813782\n",
      "14    380.0    0.0    0.0  228.0   0.0   932.0  670.0   90    52.908320\n",
      "15    139.6  209.4    0.0  192.0   0.0  1047.0  806.9   90    39.358048\n",
      "16    342.0   38.0    0.0  228.0   0.0   932.0  670.0  365    56.141962\n",
      "17    380.0   95.0    0.0  228.0   0.0   932.0  594.0   90    40.563252\n",
      "18    475.0    0.0    0.0  228.0   0.0   932.0  594.0  180    42.620648\n",
      "19    427.5   47.5    0.0  228.0   0.0   932.0  594.0  180    41.836714\n",
      "20    139.6  209.4    0.0  192.0   0.0  1047.0  806.9   28    28.237490\n",
      "21    139.6  209.4    0.0  192.0   0.0  1047.0  806.9    3     8.063422\n",
      "22    139.6  209.4    0.0  192.0   0.0  1047.0  806.9  180    44.207822\n",
      "23    380.0    0.0    0.0  228.0   0.0   932.0  670.0  365    52.516697\n",
      "24    380.0    0.0    0.0  228.0   0.0   932.0  670.0  270    53.300632\n",
      "25    380.0   95.0    0.0  228.0   0.0   932.0  594.0  270    41.151375\n",
      "26    342.0   38.0    0.0  228.0   0.0   932.0  670.0  180    52.124386\n",
      "27    427.5   47.5    0.0  228.0   0.0   932.0  594.0   28    37.427515\n",
      "28    475.0    0.0    0.0  228.0   0.0   932.0  594.0    7    38.603761\n",
      "29    304.0   76.0    0.0  228.0   0.0   932.0  670.0  365    55.260122\n",
      "...     ...    ...    ...    ...   ...     ...    ...  ...          ...\n",
      "999   141.9  166.6  129.7  173.5  10.9   882.6  785.3   28    44.611855\n",
      "1000  297.8  137.2  106.9  201.3   6.0   878.4  655.3   28    53.524711\n",
      "1001  321.3  164.2    0.0  190.5   4.6   870.0  774.0   28    57.218234\n",
      "1002  366.0  187.0    0.0  191.3   6.6   824.3  756.9   28    65.909079\n",
      "1003  279.8  128.9  100.4  172.4   9.5   825.1  804.9   28    52.826962\n",
      "1004  252.1   97.1   75.6  193.8   8.3   835.5  821.4   28    33.399596\n",
      "1005  164.6    0.0  150.4  181.6  11.7  1023.3  728.9   28    18.033934\n",
      "1006  155.6  243.5    0.0  180.3  10.7  1022.0  697.7   28    37.363394\n",
      "1007  160.2  188.0  146.4  203.2  11.3   828.7  709.7   28    35.314271\n",
      "1008  298.1    0.0  107.0  186.4   6.1   879.0  815.2   28    42.644091\n",
      "1009  317.9    0.0  126.5  209.7   5.7   860.5  736.6   28    40.062003\n",
      "1010  287.3  120.5   93.9  187.6   9.2   904.4  695.9   28    43.798273\n",
      "1011  325.6  166.4    0.0  174.0   8.9   881.6  790.0   28    61.235811\n",
      "1012  355.9    0.0  141.6  193.3  11.0   801.4  778.4   28    40.868690\n",
      "1013  132.0  206.5  160.9  178.9   5.5   866.9  735.6   28    33.306517\n",
      "1014  322.5  148.6    0.0  185.8   8.5   951.0  709.5   28    52.426376\n",
      "1015  164.2    0.0  200.1  181.2  12.6   849.3  846.0   28    15.091251\n",
      "1016  313.8    0.0  112.6  169.9  10.1   925.3  782.9   28    38.461040\n",
      "1017  321.4    0.0  127.9  182.5  11.5   870.1  779.7   28    37.265488\n",
      "1018  139.7  163.9  127.7  236.7   5.8   868.6  655.6   28    35.225329\n",
      "1019  288.4  121.0    0.0  177.4   7.0   907.9  829.5   28    42.140084\n",
      "1020  298.2    0.0  107.0  209.7  11.1   879.6  744.2   28    31.875165\n",
      "1021  264.5  111.0   86.5  195.5   5.9   832.6  790.4   28    41.542308\n",
      "1022  159.8  250.0    0.0  168.4  12.2  1049.3  688.2   28    39.455954\n",
      "1023  166.0  259.7    0.0  183.2  12.7   858.8  826.8   28    37.917043\n",
      "1024  276.4  116.0   90.3  179.6   8.9   870.1  768.3   28    44.284354\n",
      "1025  322.2    0.0  115.6  196.0  10.4   817.9  813.4   28    31.178794\n",
      "1026  148.5  139.4  108.6  192.7   6.1   892.4  780.0   28    23.696601\n",
      "1027  159.1  186.7    0.0  175.6  11.3   989.6  788.9   28    32.768036\n",
      "1028  260.9  100.5   78.3  200.6   8.6   864.5  761.5   28    32.401235\n",
      "\n",
      "[1029 rows x 9 columns]\n",
      "(1029, 8)\n",
      "(1029,)\n"
     ]
    }
   ],
   "source": [
    "#importing the libraries\n",
    "import numpy as np\n",
    "import matplotlib.pyplot as plt\n",
    "import pandas as pd\n",
    "import sklearn\n",
    "from sklearn.impute import SimpleImputer\n",
    "\n",
    "#Importing Concrete Compressive Strength Dataset\n",
    "dataset = pd.read_excel('C:/Users/emnsrjm/Desktop/Courses/Machine Learning/Project/Project/Machine-Learning-Project/regression-models/Concrete Compressive Strength/data/Concrete_Data.xls',header=1)\n",
    "data = pd.DataFrame(dataset)\n",
    "\n",
    "X = data.iloc[:, :8].values\n",
    "Y = data.iloc[:, 8].values\n",
    "\n",
    "print(data)\n",
    "print(X.shape)\n",
    "print(Y.shape)"
   ]
  },
  {
   "cell_type": "code",
   "execution_count": 12,
   "metadata": {},
   "outputs": [
    {
     "name": "stdout",
     "output_type": "stream",
     "text": [
      "<class 'pandas.core.frame.DataFrame'>\n",
      "RangeIndex: 1029 entries, 0 to 1028\n",
      "Data columns (total 9 columns):\n",
      "540            1029 non-null float64\n",
      "0              1029 non-null float64\n",
      "0.1            1029 non-null float64\n",
      "162            1029 non-null float64\n",
      "2.5            1029 non-null float64\n",
      "1040           1029 non-null float64\n",
      "676            1029 non-null float64\n",
      "28             1029 non-null int64\n",
      "79.98611076    1029 non-null float64\n",
      "dtypes: float64(8), int64(1)\n",
      "memory usage: 72.4 KB\n"
     ]
    }
   ],
   "source": [
    "dataset.info()"
   ]
  },
  {
   "cell_type": "code",
   "execution_count": 13,
   "metadata": {},
   "outputs": [],
   "source": [
    "#Feature Scaling\n",
    "from sklearn.preprocessing import StandardScaler\n",
    "sc = StandardScaler()\n",
    "X = sc.fit_transform(X)"
   ]
  },
  {
   "cell_type": "code",
   "execution_count": 14,
   "metadata": {},
   "outputs": [],
   "source": [
    "from sklearn.model_selection import train_test_split\n",
    "X_train, X_test, Y_train, Y_test = train_test_split(X, Y, test_size = 0.33, random_state = 0)"
   ]
  },
  {
   "cell_type": "code",
   "execution_count": 15,
   "metadata": {},
   "outputs": [
    {
     "name": "stdout",
     "output_type": "stream",
     "text": [
      "Accuracy for SVR: 59.58902614242375\n",
      "Accuracy for DecisionTreeRegressor: 74.30629194558266\n",
      "Accuracy for RandomForestRegressor: 49.67917016596436\n",
      "Accuracy for AdaBoostRegressor: 76.9752544342238\n",
      "Accuracy for GaussianProcessRegressor: 53.1543609557152\n",
      "Accuracy for LinearRegression: 54.23514020323501\n"
     ]
    }
   ],
   "source": [
    "# Model Accuracy\n",
    "from sklearn.svm import SVR\n",
    "from sklearn.tree import DecisionTreeRegressor\n",
    "from sklearn.ensemble import RandomForestRegressor\n",
    "from sklearn.ensemble import AdaBoostRegressor\n",
    "from sklearn.gaussian_process import GaussianProcessRegressor\n",
    "from sklearn.linear_model import LinearRegression\n",
    "from sklearn.metrics import r2_score\n",
    "from sklearn.gaussian_process.kernels import DotProduct, WhiteKernel\n",
    "\n",
    "#Defining kernel for GaussianProcessRegressor\n",
    "#kernel=None would take less time to train, but would give less accuracy\n",
    "kernel = DotProduct() + WhiteKernel()\n",
    "\n",
    "names = ['SVR', 'DecisionTreeRegressor', 'RandomForestRegressor', 'AdaBoostRegressor','GaussianProcessRegressor','LinearRegression']\n",
    "models = [SVR(gamma='scale', C=1.0, epsilon=0.2),\n",
    "          DecisionTreeRegressor(random_state=0),\n",
    "          RandomForestRegressor(max_depth=2, random_state=0,n_estimators=100),\n",
    "          AdaBoostRegressor(random_state=0, n_estimators=100),\n",
    "          GaussianProcessRegressor(kernel=kernel,random_state=0),\n",
    "          LinearRegression()]\n",
    "\n",
    "accuracy= np.zeros(6)\n",
    "\n",
    "for counter, model in enumerate(models):\n",
    "    model.fit(X_train, Y_train)\n",
    "    Y_pred=model.predict(X_test)\n",
    "    accuracy[counter] = r2_score(Y_test, Y_pred)*100\n",
    "    print(\"Accuracy for \" + names[counter] + \":\",accuracy[counter])"
   ]
  },
  {
   "cell_type": "code",
   "execution_count": 16,
   "metadata": {},
   "outputs": [
    {
     "data": {
      "text/plain": [
       "Text(0.5, 1.0, 'Concrete Compressive Strength Dataset model accuracy')"
      ]
     },
     "execution_count": 16,
     "metadata": {},
     "output_type": "execute_result"
    },
    {
     "data": {
      "image/png": "[encoded data removed]",
      "text/plain": [
       "<Figure size 864x432 with 1 Axes>"
      ]
     },
     "metadata": {
      "needs_background": "light"
     },
     "output_type": "display_data"
    }
   ],
   "source": [
    "#Comparision graph between all models\n",
    "import seaborn as sns\n",
    "y_pos = np.arange(len(names))\n",
    "heights = [accuracy[0],accuracy[1],accuracy[2],accuracy[3],accuracy[4],accuracy[5]]\n",
    "\n",
    "fig, ax=plt.subplots(1,1,figsize=(12,6))\n",
    "\n",
    "plt.xticks(rotation='90')\n",
    "sns.barplot(x=names, y=heights)\n",
    "plt.ylabel('accuracy score')\n",
    "plt.title('Concrete Compressive Strength Dataset model accuracy')"
   ]
  },
  {
   "cell_type": "code",
   "execution_count": null,
   "metadata": {},
   "outputs": [],
   "source": []
  }
 ],
 "metadata": {
  "kernelspec": {
   "display_name": "Python 3",
   "language": "python",
   "name": "python3"
  },
  "language_info": {
   "codemirror_mode": {
    "name": "ipython",
    "version": 3
   },
   "file_extension": ".py",
   "mimetype": "text/x-python",
   "name": "python",
   "nbconvert_exporter": "python",
   "pygments_lexer": "ipython3",
   "version": "3.7.3"
  }
 },
 "nbformat": 4,
 "nbformat_minor": 2
}
