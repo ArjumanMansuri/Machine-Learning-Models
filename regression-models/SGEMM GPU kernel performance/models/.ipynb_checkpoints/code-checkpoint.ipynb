{
 "cells": [
  {
   "cell_type": "markdown",
   "metadata": {},
   "source": [
    "# SGEMM GPU kernel performance (Multinomial)"
   ]
  },
  {
   "cell_type": "code",
   "execution_count": 1,
   "metadata": {
    "scrolled": false
   },
   "outputs": [
    {
     "name": "stdout",
     "output_type": "stream",
     "text": [
      "(241599, 18)\n",
      "(241599, 14)\n",
      "(241599,)\n"
     ]
    }
   ],
   "source": [
    "#importing the libraries\n",
    "import numpy as np\n",
    "import matplotlib.pyplot as plt\n",
    "import pandas as pd\n",
    "import sklearn\n",
    "from sklearn.impute import SimpleImputer\n",
    "\n",
    "#Importing Concrete Compressive Strength Dataset\n",
    "dataset = pd.read_csv('C:/Users/Manan/Desktop/Fall 2019/Machine Learning COMP6321/Project/Machine-Learning-Project/regression-models/SGEMM GPU kernel performance/data/sgemm_product.csv',sep=\",\",header=1)\n",
    "data = pd.DataFrame(dataset)\n",
    "\n",
    "X = data.iloc[:, :14].values\n",
    "Y = data.iloc[:, 14:].values\n",
    "# Has 4 dependant variables; so taking mean of them\n",
    "Y = Y.mean(axis=1)\n",
    "print(data.shape)\n",
    "print(X.shape)\n",
    "print(Y.shape)"
   ]
  },
  {
   "cell_type": "code",
   "execution_count": 2,
   "metadata": {},
   "outputs": [
    {
     "name": "stdout",
     "output_type": "stream",
     "text": [
      "<class 'pandas.core.frame.DataFrame'>\n",
      "RangeIndex: 241599 entries, 0 to 241598\n",
      "Data columns (total 18 columns):\n",
      "16        241599 non-null int64\n",
      "16.1      241599 non-null int64\n",
      "16.2      241599 non-null int64\n",
      "8         241599 non-null int64\n",
      "8.1       241599 non-null int64\n",
      "8.2       241599 non-null int64\n",
      "8.3       241599 non-null int64\n",
      "2         241599 non-null int64\n",
      "1         241599 non-null int64\n",
      "1.1       241599 non-null int64\n",
      "0         241599 non-null int64\n",
      "0.1       241599 non-null int64\n",
      "0.2       241599 non-null int64\n",
      "0.3       241599 non-null int64\n",
      "115.26    241599 non-null float64\n",
      "115.87    241599 non-null float64\n",
      "118.55    241599 non-null float64\n",
      "115.8     241599 non-null float64\n",
      "dtypes: float64(4), int64(14)\n",
      "memory usage: 33.2 MB\n"
     ]
    }
   ],
   "source": [
    "dataset.info()"
   ]
  },
  {
   "cell_type": "code",
   "execution_count": 10,
   "metadata": {},
   "outputs": [
    {
     "name": "stdout",
     "output_type": "stream",
     "text": [
      "-> Contains Missing values                 False\n",
      "-> Total Number of Missing values:         0\n",
      "-> Number of Missing values by column:     16        0\n",
      "16.1      0\n",
      "16.2      0\n",
      "8         0\n",
      "8.1       0\n",
      "8.2       0\n",
      "8.3       0\n",
      "2         0\n",
      "1         0\n",
      "1.1       0\n",
      "0         0\n",
      "0.1       0\n",
      "0.2       0\n",
      "0.3       0\n",
      "115.26    0\n",
      "115.87    0\n",
      "118.55    0\n",
      "115.8     0\n",
      "dtype: int64\n"
     ]
    }
   ],
   "source": [
    "# Check if dataset has null values\n",
    "result = dataset.isna()\n",
    "print(\"-> Contains Missing values                 \",end='')\n",
    "print(result.values.any())\n",
    "print(\"-> Total Number of Missing values:         \",end='')\n",
    "print(result.sum().sum())\n",
    "print(\"-> Number of Missing values by column:     \",end='')\n",
    "print(result.sum())"
   ]
  },
  {
   "cell_type": "code",
   "execution_count": null,
   "metadata": {},
   "outputs": [],
   "source": [
    "from sklearn.model_selection import train_test_split\n",
    "X_train, X_test, Y_train, Y_test = train_test_split(X, Y, test_size = 0.33, random_state = 0)"
   ]
  },
  {
   "cell_type": "code",
   "execution_count": null,
   "metadata": {},
   "outputs": [],
   "source": [
    "#Feature Scaling\n",
    "from sklearn.preprocessing import StandardScaler\n",
    "sc = StandardScaler().fit(X_train)\n",
    "X_train = sc.transform(X_train)\n",
    "X_test = sc.transform(X_test)"
   ]
  },
  {
   "cell_type": "code",
   "execution_count": null,
   "metadata": {},
   "outputs": [],
   "source": [
    "# Model Accuracy\n",
    "from sklearn.svm import SVR\n",
    "from sklearn.tree import DecisionTreeRegressor\n",
    "from sklearn.ensemble import RandomForestRegressor\n",
    "from sklearn.ensemble import AdaBoostRegressor\n",
    "from sklearn.gaussian_process import GaussianProcessRegressor\n",
    "from sklearn.linear_model import LinearRegression\n",
    "from sklearn.neural_network import MLPRegressor\n",
    "from sklearn.metrics import r2_score\n",
    "from sklearn.gaussian_process.kernels import DotProduct, WhiteKernel\n",
    "\n",
    "#Defining kernel for GaussianProcessRegressor\n",
    "#kernel=None would take less time to train, but would give less accuracy\n",
    "kernel = DotProduct() + WhiteKernel()\n",
    "\n",
    "names = ['SVR', 'DecisionTreeRegressor', 'RandomForestRegressor', 'AdaBoostRegressor','GaussianProcessRegressor','LinearRegression','MLPRegressor']\n",
    "models = [SVR(gamma='scale', C=1.0, epsilon=0.2),\n",
    "          DecisionTreeRegressor(min_samples_split=5, max_leaf_nodes=10, max_depth=4),\n",
    "          RandomForestRegressor(max_depth=2, random_state=0,n_estimators=100),\n",
    "          AdaBoostRegressor(random_state=0, n_estimators=100),\n",
    "          GaussianProcessRegressor(kernel=kernel,random_state=0),\n",
    "          LinearRegression(),\n",
    "          MLPRegressor(hidden_layer_sizes=(100, ), activation='relu', solver='adam')]\n",
    "\n",
    "accuracy= np.zeros(7)\n",
    "\n",
    "for counter, model in enumerate(models):\n",
    "    model.fit(X_train, Y_train)\n",
    "    Y_pred=model.predict(X_test)\n",
    "    accuracy[counter] = r2_score(Y_test, Y_pred)*100\n",
    "    print(\"Accuracy for \" + names[counter] + \":\",accuracy[counter])"
   ]
  },
  {
   "cell_type": "code",
   "execution_count": null,
   "metadata": {},
   "outputs": [],
   "source": [
    "#Comparision graph between all models\n",
    "import seaborn as sns\n",
    "y_pos = np.arange(len(names))\n",
    "heights = [accuracy[0],accuracy[1],accuracy[2],accuracy[3],accuracy[4],accuracy[5],accuracy[6]]\n",
    "\n",
    "fig, ax=plt.subplots(1,1,figsize=(12,6))\n",
    "\n",
    "plt.xticks(rotation='90')\n",
    "sns.barplot(x=names, y=heights)\n",
    "plt.ylabel('accuracy score')\n",
    "plt.title('Wine Quality Dataset model accuracy')"
   ]
  },
  {
   "cell_type": "code",
   "execution_count": null,
   "metadata": {},
   "outputs": [],
   "source": []
  }
 ],
 "metadata": {
  "kernelspec": {
   "display_name": "Python 3",
   "language": "python",
   "name": "python3"
  },
  "language_info": {
   "codemirror_mode": {
    "name": "ipython",
    "version": 3
   },
   "file_extension": ".py",
   "mimetype": "text/x-python",
   "name": "python",
   "nbconvert_exporter": "python",
   "pygments_lexer": "ipython3",
   "version": "3.7.4"
  }
 },
 "nbformat": 4,
 "nbformat_minor": 2
}
