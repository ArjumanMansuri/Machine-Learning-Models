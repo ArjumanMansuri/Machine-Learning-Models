{
 "cells": [
  {
   "cell_type": "markdown",
   "metadata": {},
   "source": [
    "# Facebook metrics Dataset"
   ]
  },
  {
   "cell_type": "code",
   "execution_count": 28,
   "metadata": {},
   "outputs": [],
   "source": [
    "#importing the libraries\n",
    "import numpy as np\n",
    "import matplotlib.pyplot as plt\n",
    "import pandas as pd\n",
    "import sklearn\n",
    "from sklearn.impute import SimpleImputer\n",
    "\n",
    "#Importing Communities and Crime Dataset\n",
    "missing_values = [\"n/a\", \"na\", \"--\",\"?\"]\n",
    "dataset = pd.read_csv('C:/Users/Manan/Desktop/Fall 2019/Machine Learning COMP6321/Project/Machine-Learning-Project/regression-models/Facebook metrics/data/dataset_Facebook.csv', sep=';', na_values = missing_values)"
   ]
  },
  {
   "cell_type": "code",
   "execution_count": 29,
   "metadata": {},
   "outputs": [
    {
     "name": "stdout",
     "output_type": "stream",
     "text": [
      "-> Contains Missing values                 True\n",
      "-> Total Number of Missing values:         6\n",
      "-> Number of Missing values by column\n",
      "Page total likes                                                       0\n",
      "Type                                                                   0\n",
      "Category                                                               0\n",
      "Post Month                                                             0\n",
      "Post Weekday                                                           0\n",
      "Post Hour                                                              0\n",
      "Paid                                                                   1\n",
      "Lifetime Post Total Reach                                              0\n",
      "Lifetime Post Total Impressions                                        0\n",
      "Lifetime Engaged Users                                                 0\n",
      "Lifetime Post Consumers                                                0\n",
      "Lifetime Post Consumptions                                             0\n",
      "Lifetime Post Impressions by people who have liked your Page           0\n",
      "Lifetime Post reach by people who like your Page                       0\n",
      "Lifetime People who have liked your Page and engaged with your post    0\n",
      "comment                                                                0\n",
      "like                                                                   1\n",
      "share                                                                  4\n",
      "Total Interactions                                                     0\n",
      "dtype: int64\n"
     ]
    }
   ],
   "source": [
    "# Check if dataset has null values\n",
    "result = dataset.isna()\n",
    "print(\"-> Contains Missing values                 \",end='')\n",
    "print(result.values.any())\n",
    "print(\"-> Total Number of Missing values:         \",end='')\n",
    "print(result.sum().sum())\n",
    "print(\"-> Number of Missing values by column\")\n",
    "print(result.sum())"
   ]
  },
  {
   "cell_type": "code",
   "execution_count": 30,
   "metadata": {},
   "outputs": [],
   "source": [
    "# Filling Missing values with mean\n",
    "dataset = dataset.fillna(dataset.mean())"
   ]
  },
  {
   "cell_type": "code",
   "execution_count": 31,
   "metadata": {},
   "outputs": [
    {
     "name": "stdout",
     "output_type": "stream",
     "text": [
      "-> Contains Missing values                 False\n",
      "-> Total Number of Missing values:         0\n",
      "-> Number of Missing values by column\n",
      "Page total likes                                                       0\n",
      "Type                                                                   0\n",
      "Category                                                               0\n",
      "Post Month                                                             0\n",
      "Post Weekday                                                           0\n",
      "Post Hour                                                              0\n",
      "Paid                                                                   0\n",
      "Lifetime Post Total Reach                                              0\n",
      "Lifetime Post Total Impressions                                        0\n",
      "Lifetime Engaged Users                                                 0\n",
      "Lifetime Post Consumers                                                0\n",
      "Lifetime Post Consumptions                                             0\n",
      "Lifetime Post Impressions by people who have liked your Page           0\n",
      "Lifetime Post reach by people who like your Page                       0\n",
      "Lifetime People who have liked your Page and engaged with your post    0\n",
      "comment                                                                0\n",
      "like                                                                   0\n",
      "share                                                                  0\n",
      "Total Interactions                                                     0\n",
      "dtype: int64\n"
     ]
    }
   ],
   "source": [
    "data = pd.DataFrame(dataset)\n",
    "# Check if dataset has null values\n",
    "result = data.isna()\n",
    "print(\"-> Contains Missing values                 \",end='')\n",
    "print(result.values.any())\n",
    "print(\"-> Total Number of Missing values:         \",end='')\n",
    "print(result.sum().sum())\n",
    "print(\"-> Number of Missing values by column\")\n",
    "print(result.sum())"
   ]
  },
  {
   "cell_type": "code",
   "execution_count": 32,
   "metadata": {},
   "outputs": [
    {
     "name": "stdout",
     "output_type": "stream",
     "text": [
      "<class 'pandas.core.frame.DataFrame'>\n",
      "RangeIndex: 500 entries, 0 to 499\n",
      "Data columns (total 19 columns):\n",
      "Page total likes                                                       500 non-null int64\n",
      "Type                                                                   500 non-null object\n",
      "Category                                                               500 non-null int64\n",
      "Post Month                                                             500 non-null int64\n",
      "Post Weekday                                                           500 non-null int64\n",
      "Post Hour                                                              500 non-null int64\n",
      "Paid                                                                   500 non-null float64\n",
      "Lifetime Post Total Reach                                              500 non-null int64\n",
      "Lifetime Post Total Impressions                                        500 non-null int64\n",
      "Lifetime Engaged Users                                                 500 non-null int64\n",
      "Lifetime Post Consumers                                                500 non-null int64\n",
      "Lifetime Post Consumptions                                             500 non-null int64\n",
      "Lifetime Post Impressions by people who have liked your Page           500 non-null int64\n",
      "Lifetime Post reach by people who like your Page                       500 non-null int64\n",
      "Lifetime People who have liked your Page and engaged with your post    500 non-null int64\n",
      "comment                                                                500 non-null int64\n",
      "like                                                                   500 non-null float64\n",
      "share                                                                  500 non-null float64\n",
      "Total Interactions                                                     500 non-null int64\n",
      "dtypes: float64(3), int64(15), object(1)\n",
      "memory usage: 74.3+ KB\n"
     ]
    }
   ],
   "source": [
    "dataset.info()\n",
    "Y_names = list(data.columns.values)[7:]"
   ]
  },
  {
   "cell_type": "code",
   "execution_count": 43,
   "metadata": {},
   "outputs": [
    {
     "name": "stdout",
     "output_type": "stream",
     "text": [
      "     Page total likes    Type  Category  Post Month  Post Weekday  Post Hour  \\\n",
      "0              139441   Photo         2          12             4          3   \n",
      "1              139441  Status         2          12             3         10   \n",
      "2              139441   Photo         3          12             3          3   \n",
      "3              139441   Photo         2          12             2         10   \n",
      "4              139441   Photo         2          12             2          3   \n",
      "..                ...     ...       ...         ...           ...        ...   \n",
      "495             85093   Photo         3           1             7          2   \n",
      "496             81370   Photo         2           1             5          8   \n",
      "497             81370   Photo         1           1             5          2   \n",
      "498             81370   Photo         3           1             4         11   \n",
      "499             81370   Photo         2           1             4          4   \n",
      "\n",
      "         Paid  Lifetime Post Total Reach  Lifetime Post Total Impressions  \\\n",
      "0    0.000000                       2752                             5091   \n",
      "1    0.000000                      10460                            19057   \n",
      "2    0.000000                       2413                             4373   \n",
      "3    1.000000                      50128                            87991   \n",
      "4    0.000000                       7244                            13594   \n",
      "..        ...                        ...                              ...   \n",
      "495  0.000000                       4684                             7536   \n",
      "496  0.000000                       3480                             6229   \n",
      "497  0.000000                       3778                             7216   \n",
      "498  0.000000                       4156                             7564   \n",
      "499  0.278557                       4188                             7292   \n",
      "\n",
      "     Lifetime Engaged Users  Lifetime Post Consumers  \\\n",
      "0                       178                      109   \n",
      "1                      1457                     1361   \n",
      "2                       177                      113   \n",
      "3                      2211                      790   \n",
      "4                       671                      410   \n",
      "..                      ...                      ...   \n",
      "495                     733                      708   \n",
      "496                     537                      508   \n",
      "497                     625                      572   \n",
      "498                     626                      574   \n",
      "499                     564                      524   \n",
      "\n",
      "     Lifetime Post Consumptions  \\\n",
      "0                           159   \n",
      "1                          1674   \n",
      "2                           154   \n",
      "3                          1119   \n",
      "4                           580   \n",
      "..                          ...   \n",
      "495                         985   \n",
      "496                         687   \n",
      "497                         795   \n",
      "498                         832   \n",
      "499                         743   \n",
      "\n",
      "     Lifetime Post Impressions by people who have liked your Page  \\\n",
      "0                                                 3078              \n",
      "1                                                11710              \n",
      "2                                                 2812              \n",
      "3                                                61027              \n",
      "4                                                 6228              \n",
      "..                                                 ...              \n",
      "495                                               4750              \n",
      "496                                               3961              \n",
      "497                                               4742              \n",
      "498                                               4534              \n",
      "499                                               3861              \n",
      "\n",
      "     Lifetime Post reach by people who like your Page  \\\n",
      "0                                                1640   \n",
      "1                                                6112   \n",
      "2                                                1503   \n",
      "3                                               32048   \n",
      "4                                                3200   \n",
      "..                                                ...   \n",
      "495                                              2876   \n",
      "496                                              2104   \n",
      "497                                              2388   \n",
      "498                                              2452   \n",
      "499                                              2200   \n",
      "\n",
      "     Lifetime People who have liked your Page and engaged with your post  \\\n",
      "0                                                  119                     \n",
      "1                                                 1108                     \n",
      "2                                                  132                     \n",
      "3                                                 1386                     \n",
      "4                                                  396                     \n",
      "..                                                 ...                     \n",
      "495                                                392                     \n",
      "496                                                301                     \n",
      "497                                                363                     \n",
      "498                                                370                     \n",
      "499                                                316                     \n",
      "\n",
      "     comment    like  share  Total Interactions  \n",
      "0          4    79.0   17.0                 100  \n",
      "1          5   130.0   29.0                 164  \n",
      "2          0    66.0   14.0                  80  \n",
      "3         58  1572.0  147.0                1777  \n",
      "4         19   325.0   49.0                 393  \n",
      "..       ...     ...    ...                 ...  \n",
      "495        5    53.0   26.0                  84  \n",
      "496        0    53.0   22.0                  75  \n",
      "497        4    93.0   18.0                 115  \n",
      "498        7    91.0   38.0                 136  \n",
      "499        0    91.0   28.0                 119  \n",
      "\n",
      "[500 rows x 19 columns]\n",
      "(500, 7)\n",
      "(500,)\n"
     ]
    }
   ],
   "source": [
    "X = data.iloc[:, :7].values\n",
    "Y = data.iloc[:, 7:].values\n",
    "Y = Y.mean(axis=1)\n",
    "print(data)\n",
    "print(X.shape)\n",
    "print(Y.shape)"
   ]
  },
  {
   "cell_type": "code",
   "execution_count": 44,
   "metadata": {},
   "outputs": [],
   "source": [
    "from sklearn.preprocessing import LabelEncoder\n",
    "labelencoder = LabelEncoder()\n",
    "X[:,1] = labelencoder.fit_transform(X[:,1])"
   ]
  },
  {
   "cell_type": "code",
   "execution_count": 45,
   "metadata": {},
   "outputs": [],
   "source": [
    "from sklearn.model_selection import train_test_split\n",
    "X_train, X_test, Y_train, Y_test = train_test_split(X, Y, test_size = 0.33, random_state = 0)\n",
    "\n",
    "#Feature Scaling\n",
    "from sklearn.preprocessing import StandardScaler\n",
    "sc = StandardScaler().fit(X_train)\n",
    "X_train = sc.transform(X_train)\n",
    "X_test = sc.transform(X_test)"
   ]
  },
  {
   "cell_type": "code",
   "execution_count": 46,
   "metadata": {},
   "outputs": [],
   "source": [
    "# Model Accuracy\n",
    "from sklearn.svm import SVR\n",
    "from sklearn.tree import DecisionTreeRegressor\n",
    "from sklearn.ensemble import RandomForestRegressor\n",
    "from sklearn.ensemble import AdaBoostRegressor\n",
    "from sklearn.gaussian_process import GaussianProcessRegressor\n",
    "from sklearn.linear_model import LinearRegression\n",
    "from sklearn.neural_network import MLPRegressor\n",
    "from sklearn.metrics import r2_score\n",
    "from sklearn.gaussian_process.kernels import DotProduct, WhiteKernel\n",
    "\n",
    "#Defining kernel for GaussianProcessRegressor\n",
    "#kernel=None would take less time to train, but would give less accuracy\n",
    "kernel = DotProduct() + WhiteKernel()\n",
    "\n",
    "names = ['SVR', 'DecisionTreeRegressor', 'RandomForestRegressor', 'AdaBoostRegressor','GaussianProcessRegressor','LinearRegression','MLPRegressor']"
   ]
  },
  {
   "cell_type": "code",
   "execution_count": 52,
   "metadata": {},
   "outputs": [],
   "source": [
    "def trainModel(counter, Y_train, Y_test):\n",
    "    models = [SVR(gamma='scale', C=1.0, epsilon=0.2),\n",
    "          DecisionTreeRegressor(random_state=0,min_samples_split=5, max_leaf_nodes=10, max_depth=4),\n",
    "          RandomForestRegressor(max_depth=2, random_state=0,n_estimators=100),\n",
    "          AdaBoostRegressor(random_state=0, n_estimators=100),\n",
    "          GaussianProcessRegressor(kernel=kernel,random_state=0),\n",
    "          LinearRegression(),\n",
    "          MLPRegressor(hidden_layer_sizes=(50,30,10), activation='relu')]\n",
    "\n",
    "    accuracy= np.zeros(7)\n",
    "    print(\"\\n\"+str(counter+1)+\"**** For X vs \"+str(Y_names[counter])+\"****\")\n",
    "    \n",
    "    for counter, model in enumerate(models):\n",
    "        model.fit(X_train, Y_train)\n",
    "        Y_pred=model.predict(X_test)\n",
    "        accuracy[counter] = r2_score(Y_test, Y_pred)*100\n",
    "        print(\"Accuracy for \" + names[counter] + \":\",accuracy[counter])\n",
    "        \n",
    "    return accuracy"
   ]
  },
  {
   "cell_type": "code",
   "execution_count": 53,
   "metadata": {
    "scrolled": false
   },
   "outputs": [
    {
     "name": "stdout",
     "output_type": "stream",
     "text": [
      "\n",
      "2**** For X vs Lifetime Post Total Impressions****\n",
      "Accuracy for SVR: -13.639347070088515\n",
      "Accuracy for DecisionTreeRegressor: -120.86059941382695\n",
      "Accuracy for RandomForestRegressor: -16.377360806358567\n",
      "Accuracy for AdaBoostRegressor: -287.49490640776776\n",
      "Accuracy for GaussianProcessRegressor: -7.8239082453750886\n",
      "Accuracy for LinearRegression: -14.26711141746475\n",
      "Accuracy for MLPRegressor: -9.482583628159569\n"
     ]
    },
    {
     "name": "stderr",
     "output_type": "stream",
     "text": [
      "C:\\Users\\Manan\\Anaconda3\\lib\\site-packages\\sklearn\\neural_network\\multilayer_perceptron.py:566: ConvergenceWarning: Stochastic Optimizer: Maximum iterations (200) reached and the optimization hasn't converged yet.\n",
      "  % self.max_iter, ConvergenceWarning)\n"
     ]
    }
   ],
   "source": [
    "# for i in range(len(Y_names)):\n",
    "#     y_train = Y_train[:,i]\n",
    "#     y_test = Y_test[:,i]\n",
    "#     trainModel(i, y_train, y_test)\n",
    "\n",
    "accuracy = trainModel(1, Y_train,Y_test)"
   ]
  },
  {
   "cell_type": "code",
   "execution_count": 54,
   "metadata": {},
   "outputs": [
    {
     "data": {
      "text/plain": [
       "Text(0.5, 1.0, 'Communities and Crime Dataset model accuracy')"
      ]
     },
     "execution_count": 54,
     "metadata": {},
     "output_type": "execute_result"
    },
    {
     "data": {
      "image/png": "[encoded data removed]",
      "text/plain": [
       "<Figure size 864x432 with 1 Axes>"
      ]
     },
     "metadata": {
      "needs_background": "light"
     },
     "output_type": "display_data"
    }
   ],
   "source": [
    "#Comparision graph between all models\n",
    "import seaborn as sns\n",
    "y_pos = np.arange(len(names))\n",
    "heights = [accuracy[0],accuracy[1],accuracy[2],accuracy[3],accuracy[4],accuracy[5],accuracy[6]]\n",
    "\n",
    "fig, ax=plt.subplots(1,1,figsize=(12,6))\n",
    "\n",
    "plt.xticks(rotation='90')\n",
    "sns.barplot(x=names, y=heights)\n",
    "plt.ylabel('accuracy score')\n",
    "plt.title('Communities and Crime Dataset model accuracy')"
   ]
  },
  {
   "cell_type": "code",
   "execution_count": null,
   "metadata": {},
   "outputs": [],
   "source": []
  }
 ],
 "metadata": {
  "kernelspec": {
   "display_name": "Python 3",
   "language": "python",
   "name": "python3"
  },
  "language_info": {
   "codemirror_mode": {
    "name": "ipython",
    "version": 3
   },
   "file_extension": ".py",
   "mimetype": "text/x-python",
   "name": "python",
   "nbconvert_exporter": "python",
   "pygments_lexer": "ipython3",
   "version": "3.7.4"
  }
 },
 "nbformat": 4,
 "nbformat_minor": 2
}
