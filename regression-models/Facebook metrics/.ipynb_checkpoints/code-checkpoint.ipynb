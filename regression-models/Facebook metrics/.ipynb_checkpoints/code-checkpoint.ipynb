{
 "cells": [
  {
   "cell_type": "markdown",
   "metadata": {},
   "source": [
    "# Facebook metrics Dataset"
   ]
  },
  {
   "cell_type": "code",
   "execution_count": 11,
   "metadata": {},
   "outputs": [],
   "source": [
    "#importing the libraries\n",
    "import numpy as np\n",
    "import matplotlib.pyplot as plt\n",
    "import pandas as pd\n",
    "import sklearn\n",
    "from sklearn.impute import SimpleImputer\n",
    "\n",
    "#Importing Communities and Crime Dataset\n",
    "missing_values = [\"n/a\", \"na\", \"--\",\"?\"]\n",
    "dataset = pd.read_csv('C:/Users/Manan/Desktop/Fall 2019/Machine Learning COMP6321/Project/Machine-Learning-Project/regression-models/Facebook metrics/data/dataset_Facebook.csv', sep=';', na_values = missing_values)"
   ]
  },
  {
   "cell_type": "code",
   "execution_count": 12,
   "metadata": {},
   "outputs": [
    {
     "name": "stdout",
     "output_type": "stream",
     "text": [
      "-> Contains Missing values                 True\n",
      "-> Total Number of Missing values:         6\n",
      "-> Number of Missing values by column\n",
      "Page total likes                                                       0\n",
      "Type                                                                   0\n",
      "Category                                                               0\n",
      "Post Month                                                             0\n",
      "Post Weekday                                                           0\n",
      "Post Hour                                                              0\n",
      "Paid                                                                   1\n",
      "Lifetime Post Total Reach                                              0\n",
      "Lifetime Post Total Impressions                                        0\n",
      "Lifetime Engaged Users                                                 0\n",
      "Lifetime Post Consumers                                                0\n",
      "Lifetime Post Consumptions                                             0\n",
      "Lifetime Post Impressions by people who have liked your Page           0\n",
      "Lifetime Post reach by people who like your Page                       0\n",
      "Lifetime People who have liked your Page and engaged with your post    0\n",
      "comment                                                                0\n",
      "like                                                                   1\n",
      "share                                                                  4\n",
      "Total Interactions                                                     0\n",
      "dtype: int64\n"
     ]
    }
   ],
   "source": [
    "# Check if dataset has null values\n",
    "result = dataset.isna()\n",
    "print(\"-> Contains Missing values                 \",end='')\n",
    "print(result.values.any())\n",
    "print(\"-> Total Number of Missing values:         \",end='')\n",
    "print(result.sum().sum())\n",
    "print(\"-> Number of Missing values by column\")\n",
    "print(result.sum())"
   ]
  },
  {
   "cell_type": "code",
   "execution_count": 13,
   "metadata": {},
   "outputs": [],
   "source": [
    "# Filling Missing values with mean\n",
    "dataset = dataset.fillna(dataset.mean())"
   ]
  },
  {
   "cell_type": "code",
   "execution_count": 14,
   "metadata": {},
   "outputs": [
    {
     "name": "stdout",
     "output_type": "stream",
     "text": [
      "-> Contains Missing values                 False\n",
      "-> Total Number of Missing values:         0\n",
      "-> Number of Missing values by column\n",
      "Page total likes                                                       0\n",
      "Type                                                                   0\n",
      "Category                                                               0\n",
      "Post Month                                                             0\n",
      "Post Weekday                                                           0\n",
      "Post Hour                                                              0\n",
      "Paid                                                                   0\n",
      "Lifetime Post Total Reach                                              0\n",
      "Lifetime Post Total Impressions                                        0\n",
      "Lifetime Engaged Users                                                 0\n",
      "Lifetime Post Consumers                                                0\n",
      "Lifetime Post Consumptions                                             0\n",
      "Lifetime Post Impressions by people who have liked your Page           0\n",
      "Lifetime Post reach by people who like your Page                       0\n",
      "Lifetime People who have liked your Page and engaged with your post    0\n",
      "comment                                                                0\n",
      "like                                                                   0\n",
      "share                                                                  0\n",
      "Total Interactions                                                     0\n",
      "dtype: int64\n"
     ]
    }
   ],
   "source": [
    "data = pd.DataFrame(dataset)\n",
    "# Check if dataset has null values\n",
    "result = data.isna()\n",
    "print(\"-> Contains Missing values                 \",end='')\n",
    "print(result.values.any())\n",
    "print(\"-> Total Number of Missing values:         \",end='')\n",
    "print(result.sum().sum())\n",
    "print(\"-> Number of Missing values by column\")\n",
    "print(result.sum())"
   ]
  },
  {
   "cell_type": "code",
   "execution_count": 15,
   "metadata": {},
   "outputs": [
    {
     "name": "stdout",
     "output_type": "stream",
     "text": [
      "<class 'pandas.core.frame.DataFrame'>\n",
      "RangeIndex: 500 entries, 0 to 499\n",
      "Data columns (total 19 columns):\n",
      "Page total likes                                                       500 non-null int64\n",
      "Type                                                                   500 non-null object\n",
      "Category                                                               500 non-null int64\n",
      "Post Month                                                             500 non-null int64\n",
      "Post Weekday                                                           500 non-null int64\n",
      "Post Hour                                                              500 non-null int64\n",
      "Paid                                                                   500 non-null float64\n",
      "Lifetime Post Total Reach                                              500 non-null int64\n",
      "Lifetime Post Total Impressions                                        500 non-null int64\n",
      "Lifetime Engaged Users                                                 500 non-null int64\n",
      "Lifetime Post Consumers                                                500 non-null int64\n",
      "Lifetime Post Consumptions                                             500 non-null int64\n",
      "Lifetime Post Impressions by people who have liked your Page           500 non-null int64\n",
      "Lifetime Post reach by people who like your Page                       500 non-null int64\n",
      "Lifetime People who have liked your Page and engaged with your post    500 non-null int64\n",
      "comment                                                                500 non-null int64\n",
      "like                                                                   500 non-null float64\n",
      "share                                                                  500 non-null float64\n",
      "Total Interactions                                                     500 non-null int64\n",
      "dtypes: float64(3), int64(15), object(1)\n",
      "memory usage: 74.3+ KB\n"
     ]
    }
   ],
   "source": [
    "dataset.info()"
   ]
  },
  {
   "cell_type": "code",
   "execution_count": 16,
   "metadata": {},
   "outputs": [
    {
     "name": "stdout",
     "output_type": "stream",
     "text": [
      "     Page total likes    Type  Category  Post Month  Post Weekday  Post Hour  \\\n",
      "0              139441   Photo         2          12             4          3   \n",
      "1              139441  Status         2          12             3         10   \n",
      "2              139441   Photo         3          12             3          3   \n",
      "3              139441   Photo         2          12             2         10   \n",
      "4              139441   Photo         2          12             2          3   \n",
      "..                ...     ...       ...         ...           ...        ...   \n",
      "495             85093   Photo         3           1             7          2   \n",
      "496             81370   Photo         2           1             5          8   \n",
      "497             81370   Photo         1           1             5          2   \n",
      "498             81370   Photo         3           1             4         11   \n",
      "499             81370   Photo         2           1             4          4   \n",
      "\n",
      "         Paid  Lifetime Post Total Reach  Lifetime Post Total Impressions  \\\n",
      "0    0.000000                       2752                             5091   \n",
      "1    0.000000                      10460                            19057   \n",
      "2    0.000000                       2413                             4373   \n",
      "3    1.000000                      50128                            87991   \n",
      "4    0.000000                       7244                            13594   \n",
      "..        ...                        ...                              ...   \n",
      "495  0.000000                       4684                             7536   \n",
      "496  0.000000                       3480                             6229   \n",
      "497  0.000000                       3778                             7216   \n",
      "498  0.000000                       4156                             7564   \n",
      "499  0.278557                       4188                             7292   \n",
      "\n",
      "     Lifetime Engaged Users  Lifetime Post Consumers  \\\n",
      "0                       178                      109   \n",
      "1                      1457                     1361   \n",
      "2                       177                      113   \n",
      "3                      2211                      790   \n",
      "4                       671                      410   \n",
      "..                      ...                      ...   \n",
      "495                     733                      708   \n",
      "496                     537                      508   \n",
      "497                     625                      572   \n",
      "498                     626                      574   \n",
      "499                     564                      524   \n",
      "\n",
      "     Lifetime Post Consumptions  \\\n",
      "0                           159   \n",
      "1                          1674   \n",
      "2                           154   \n",
      "3                          1119   \n",
      "4                           580   \n",
      "..                          ...   \n",
      "495                         985   \n",
      "496                         687   \n",
      "497                         795   \n",
      "498                         832   \n",
      "499                         743   \n",
      "\n",
      "     Lifetime Post Impressions by people who have liked your Page  \\\n",
      "0                                                 3078              \n",
      "1                                                11710              \n",
      "2                                                 2812              \n",
      "3                                                61027              \n",
      "4                                                 6228              \n",
      "..                                                 ...              \n",
      "495                                               4750              \n",
      "496                                               3961              \n",
      "497                                               4742              \n",
      "498                                               4534              \n",
      "499                                               3861              \n",
      "\n",
      "     Lifetime Post reach by people who like your Page  \\\n",
      "0                                                1640   \n",
      "1                                                6112   \n",
      "2                                                1503   \n",
      "3                                               32048   \n",
      "4                                                3200   \n",
      "..                                                ...   \n",
      "495                                              2876   \n",
      "496                                              2104   \n",
      "497                                              2388   \n",
      "498                                              2452   \n",
      "499                                              2200   \n",
      "\n",
      "     Lifetime People who have liked your Page and engaged with your post  \\\n",
      "0                                                  119                     \n",
      "1                                                 1108                     \n",
      "2                                                  132                     \n",
      "3                                                 1386                     \n",
      "4                                                  396                     \n",
      "..                                                 ...                     \n",
      "495                                                392                     \n",
      "496                                                301                     \n",
      "497                                                363                     \n",
      "498                                                370                     \n",
      "499                                                316                     \n",
      "\n",
      "     comment    like  share  Total Interactions  \n",
      "0          4    79.0   17.0                 100  \n",
      "1          5   130.0   29.0                 164  \n",
      "2          0    66.0   14.0                  80  \n",
      "3         58  1572.0  147.0                1777  \n",
      "4         19   325.0   49.0                 393  \n",
      "..       ...     ...    ...                 ...  \n",
      "495        5    53.0   26.0                  84  \n",
      "496        0    53.0   22.0                  75  \n",
      "497        4    93.0   18.0                 115  \n",
      "498        7    91.0   38.0                 136  \n",
      "499        0    91.0   28.0                 119  \n",
      "\n",
      "[500 rows x 19 columns]\n",
      "(500, 18)\n",
      "(500,)\n"
     ]
    }
   ],
   "source": [
    "X = data.iloc[:, :18].values\n",
    "Y = data.iloc[:, 18].values\n",
    "\n",
    "print(data)\n",
    "print(X.shape)\n",
    "print(Y.shape)"
   ]
  },
  {
   "cell_type": "code",
   "execution_count": 17,
   "metadata": {},
   "outputs": [],
   "source": [
    "from sklearn.preprocessing import LabelEncoder\n",
    "labelencoder = LabelEncoder()\n",
    "X[:,1] = labelencoder.fit_transform(X[:,1])"
   ]
  },
  {
   "cell_type": "code",
   "execution_count": 18,
   "metadata": {},
   "outputs": [],
   "source": [
    "from sklearn.model_selection import train_test_split\n",
    "X_train, X_test, Y_train, Y_test = train_test_split(X, Y, test_size = 0.33, random_state = 0)\n",
    "\n",
    "#Feature Scaling\n",
    "from sklearn.preprocessing import StandardScaler\n",
    "sc = StandardScaler().fit(X_train)\n",
    "X_train = sc.transform(X_train)\n",
    "X_test = sc.transform(X_test)"
   ]
  },
  {
   "cell_type": "code",
   "execution_count": 19,
   "metadata": {},
   "outputs": [
    {
     "name": "stderr",
     "output_type": "stream",
     "text": [
      "C:\\Users\\Manan\\Anaconda3\\lib\\site-packages\\sklearn\\model_selection\\_search.py:814: DeprecationWarning: The default of the `iid` parameter will change from True to False in version 0.22 and will be removed in 0.24. This will change numeric results when test-set sizes are unequal.\n",
      "  DeprecationWarning)\n"
     ]
    },
    {
     "name": "stdout",
     "output_type": "stream",
     "text": [
      "r2_score for SVR: 0.219\n"
     ]
    },
    {
     "name": "stderr",
     "output_type": "stream",
     "text": [
      "C:\\Users\\Manan\\Anaconda3\\lib\\site-packages\\sklearn\\model_selection\\_search.py:814: DeprecationWarning: The default of the `iid` parameter will change from True to False in version 0.22 and will be removed in 0.24. This will change numeric results when test-set sizes are unequal.\n",
      "  DeprecationWarning)\n"
     ]
    },
    {
     "name": "stdout",
     "output_type": "stream",
     "text": [
      "r2_score for DecisionTreeRegressor: 0.96\n"
     ]
    },
    {
     "name": "stderr",
     "output_type": "stream",
     "text": [
      "C:\\Users\\Manan\\Anaconda3\\lib\\site-packages\\sklearn\\model_selection\\_search.py:814: DeprecationWarning: The default of the `iid` parameter will change from True to False in version 0.22 and will be removed in 0.24. This will change numeric results when test-set sizes are unequal.\n",
      "  DeprecationWarning)\n"
     ]
    },
    {
     "name": "stdout",
     "output_type": "stream",
     "text": [
      "r2_score for RandomForestRegressor: 0.969\n"
     ]
    },
    {
     "name": "stderr",
     "output_type": "stream",
     "text": [
      "C:\\Users\\Manan\\Anaconda3\\lib\\site-packages\\sklearn\\model_selection\\_search.py:814: DeprecationWarning: The default of the `iid` parameter will change from True to False in version 0.22 and will be removed in 0.24. This will change numeric results when test-set sizes are unequal.\n",
      "  DeprecationWarning)\n"
     ]
    },
    {
     "name": "stdout",
     "output_type": "stream",
     "text": [
      "r2_score for AdaBoostRegressor: 0.936\n",
      "r2_score for GaussianProcessRegressor: 0.005\n",
      "r2_score for LinearRegression: 1.0\n"
     ]
    },
    {
     "name": "stderr",
     "output_type": "stream",
     "text": [
      "C:\\Users\\Manan\\Anaconda3\\lib\\site-packages\\sklearn\\model_selection\\_search.py:814: DeprecationWarning: The default of the `iid` parameter will change from True to False in version 0.22 and will be removed in 0.24. This will change numeric results when test-set sizes are unequal.\n",
      "  DeprecationWarning)\n"
     ]
    },
    {
     "name": "stdout",
     "output_type": "stream",
     "text": [
      "r2_score for MLPRegressior: 0.655\n"
     ]
    },
    {
     "name": "stderr",
     "output_type": "stream",
     "text": [
      "C:\\Users\\Manan\\Anaconda3\\lib\\site-packages\\sklearn\\neural_network\\multilayer_perceptron.py:566: ConvergenceWarning: Stochastic Optimizer: Maximum iterations (300) reached and the optimization hasn't converged yet.\n",
      "  % self.max_iter, ConvergenceWarning)\n"
     ]
    }
   ],
   "source": [
    "# Model Accuracy\n",
    "from sklearn.svm import SVR\n",
    "from sklearn.tree import DecisionTreeRegressor\n",
    "from sklearn.ensemble import RandomForestRegressor\n",
    "from sklearn.ensemble import AdaBoostRegressor\n",
    "from sklearn.gaussian_process import GaussianProcessRegressor\n",
    "from sklearn.linear_model import LinearRegression\n",
    "from sklearn.neural_network import MLPRegressor\n",
    "from sklearn.metrics import r2_score, mean_squared_error\n",
    "from sklearn.gaussian_process.kernels import DotProduct, WhiteKernel\n",
    "from sklearn.model_selection import GridSearchCV\n",
    "from sklearn.model_selection import RandomizedSearchCV\n",
    "\n",
    "#Defining kernel for GaussianProcessRegressor\n",
    "#kernel=None would take less time to train, but would give 93.7948904411872 accuracy\n",
    "kernel = DotProduct() + WhiteKernel()\n",
    "\n",
    "names = ['SVR', 'DecisionTreeRegressor', 'RandomForestRegressor', 'AdaBoostRegressor','GaussianProcessRegressor','LinearRegression','MLPRegressior']\n",
    "models = [SVR(),\n",
    "          DecisionTreeRegressor(),\n",
    "          RandomForestRegressor(),\n",
    "          AdaBoostRegressor(),\n",
    "          GaussianProcessRegressor(kernel=kernel),\n",
    "          LinearRegression(),\n",
    "          MLPRegressor()]\n",
    "\n",
    "param_distributions = {\n",
    "    'SVR': {'C': [0.01, 0.1, 1, 10], 'gamma':[0.01, 0.1, 1]},\n",
    "    'DecisionTreeRegressor': {'max_depth': [1, 10, 20, None],'min_samples_leaf': [1, 2, 4],'min_samples_split': [2, 5, 10]},\n",
    "    'RandomForestRegressor': {'max_depth': [1, 10, 20, 40, None],'n_estimators': [16, 32, 100],'bootstrap': [True, False],},\n",
    "    'AdaBoostRegressor': {'n_estimators': [16, 32, 100],'learning_rate' : [0.2,0.4,1]},\n",
    "    'GaussianProcessRegressor': {'normalize_y': ['True','False']},\n",
    "    'LinearRegression': {},\n",
    "    'MLPRegressior': {'hidden_layer_sizes': [(100,),(200,)],'activation':['tanh', 'relu'], 'max_iter':[200,300]},\n",
    "}\n",
    "\n",
    "accuracy= np.zeros(7)\n",
    "\n",
    "for counter, model in enumerate(models):\n",
    "    gridcv = GridSearchCV(model, param_distributions[names[counter]], n_jobs=2, cv=3)\n",
    "    gridcv.fit(X_train, Y_train)\n",
    "    Y_pred  = gridcv.best_estimator_.predict(X_test)\n",
    "    accuracy[counter] = round(r2_score(Y_test, Y_pred), 3)\n",
    "    print(\"r2_score for \" + names[counter] + \": \"+str(accuracy[counter]))"
   ]
  },
  {
   "cell_type": "code",
   "execution_count": 20,
   "metadata": {},
   "outputs": [
    {
     "data": {
      "text/plain": [
       "Text(0.5, 1.0, 'Facebook metrics Dataset model accuracy')"
      ]
     },
     "execution_count": 20,
     "metadata": {},
     "output_type": "execute_result"
    },
    {
     "data": {
      "image/png": "[encoded data removed]",
      "text/plain": [
       "<Figure size 864x432 with 1 Axes>"
      ]
     },
     "metadata": {
      "needs_background": "light"
     },
     "output_type": "display_data"
    }
   ],
   "source": [
    "#Comparision graph between all models\n",
    "import seaborn as sns\n",
    "y_pos = np.arange(len(names))\n",
    "heights = [accuracy[0],accuracy[1],accuracy[2],accuracy[3],accuracy[4],accuracy[5],accuracy[6]]\n",
    "\n",
    "fig, ax=plt.subplots(1,1,figsize=(12,6))\n",
    "\n",
    "plt.xticks(rotation='90')\n",
    "sns.barplot(x=names, y=heights)\n",
    "plt.ylabel('MSE')\n",
    "plt.title('Facebook metrics Dataset model accuracy')"
   ]
  },
  {
   "cell_type": "code",
   "execution_count": null,
   "metadata": {},
   "outputs": [],
   "source": []
  }
 ],
 "metadata": {
  "kernelspec": {
   "display_name": "Python 3",
   "language": "python",
   "name": "python3"
  },
  "language_info": {
   "codemirror_mode": {
    "name": "ipython",
    "version": 3
   },
   "file_extension": ".py",
   "mimetype": "text/x-python",
   "name": "python",
   "nbconvert_exporter": "python",
   "pygments_lexer": "ipython3",
   "version": "3.7.4"
  }
 },
 "nbformat": 4,
 "nbformat_minor": 2
}
