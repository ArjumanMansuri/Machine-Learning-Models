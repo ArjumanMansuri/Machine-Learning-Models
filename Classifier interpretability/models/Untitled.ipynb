{
 "cells": [
  {
   "cell_type": "code",
   "execution_count": 21,
   "metadata": {},
   "outputs": [],
   "source": [
    "import pickle\n",
    "import os\n",
    "import numpy as np\n",
    "import sklearn\n",
    "import sklearn.preprocessing\n",
    "import torch\n",
    "import matplotlib.pyplot as plt"
   ]
  },
  {
   "cell_type": "code",
   "execution_count": 2,
   "metadata": {},
   "outputs": [],
   "source": [
    "def unpickle(file):\n",
    "    with open(file, 'rb') as fo:\n",
    "        dict = pickle.load(fo, encoding='bytes')\n",
    "    return dict\n",
    "\n",
    "def get_data_labels(dict_):\n",
    "    dict_decoded_ = {}\n",
    "    for key,value in dict_.items():\n",
    "            if(isinstance(key,bytes)):\n",
    "                key_new = key.decode('ascii')\n",
    "            if(isinstance(value,bytes)):\n",
    "                value = value.decode('ascii')\n",
    "            dict_decoded_[key_new] = value\n",
    "    return dict_decoded_['data'],dict_decoded_['labels']"
   ]
  },
  {
   "cell_type": "code",
   "execution_count": 3,
   "metadata": {},
   "outputs": [],
   "source": [
    "# loading dataset files\n",
    "path = 'C:/Users/emnsrjm/Desktop/Courses/Machine Learning/Project/Project/Machine-Learning-Project/Classifier interpretability/models/cifar-10-python/cifar-10-batches-py/'\n",
    "files = os.listdir(path)\n",
    "X_train=[]\n",
    "y_train=[]\n",
    "for name in files:\n",
    "    if 'data_batch' in name:\n",
    "        dict_ = unpickle(path+name)  # unpickling the data_batch file\n",
    "        X_temp,y_temp = get_data_labels(dict_)  # getting data and labels from unpickled data\n",
    "        X_train.append(X_temp)\n",
    "        y_train.append(y_temp)\n",
    "X_train = np.asarray(X_train).astype(np.uint8).reshape(50000,3072)\n",
    "y_train = np.asarray(y_train).astype(np.int32).reshape(50000)\n",
    "X_train = X_train/255.0"
   ]
  },
  {
   "cell_type": "code",
   "execution_count": 4,
   "metadata": {},
   "outputs": [],
   "source": [
    "# load test data\n",
    "dict_ = unpickle(path+'test_batch')  # unpickling the test_batch file\n",
    "X_test,y_test = get_data_labels(dict_)  # getting data and labels from unpickled data\n",
    "\n",
    "X_test = np.asarray(X_test).astype(np.uint8).reshape(10000,3072)\n",
    "y_test = np.asarray(y_test).astype(np.int32).reshape(10000)\n",
    "X_test = X_test/255.0"
   ]
  },
  {
   "cell_type": "code",
   "execution_count": 5,
   "metadata": {},
   "outputs": [],
   "source": [
    "# scale the data\n",
    "scaler = sklearn.preprocessing.StandardScaler()\n",
    "scaler.fit(X_train)\n",
    "X_train = scaler.transform(X_train)\n",
    "X_test = scaler.transform(X_test)\n",
    "\n",
    "X_train_tensor = torch.tensor(X_train)\n",
    "X_test_tensor = torch.tensor(X_test)\n",
    "\n",
    "y_train_tensor = torch.tensor(y_train)\n",
    "y_test_tensor = torch.tensor(y_test)"
   ]
  },
  {
   "cell_type": "code",
   "execution_count": 6,
   "metadata": {},
   "outputs": [
    {
     "name": "stdout",
     "output_type": "stream",
     "text": [
      "torch.Size([50000, 3, 32, 32])\n",
      "torch.Size([50000])\n",
      "torch.Size([10000])\n"
     ]
    }
   ],
   "source": [
    "# reshaping tensors for CNN\n",
    "X_train_tensor = X_train_tensor.reshape(50000,3,32,32)\n",
    "X_test_tensor = X_test_tensor.reshape(-1,3,32,32)\n",
    "print(X_train_tensor.shape)\n",
    "y_train_tensor = y_train_tensor.reshape(50000)\n",
    "print(y_train_tensor.shape)\n",
    "y_test_tensor = y_test_tensor.reshape(-1)\n",
    "print(y_test_tensor.shape)"
   ]
  },
  {
   "cell_type": "code",
   "execution_count": 7,
   "metadata": {},
   "outputs": [],
   "source": [
    "# preparing the model\n",
    "torch.manual_seed(0) # Ensure model weights initialized with same random numbers\n",
    "\n",
    "num_filters = 5\n",
    "filter_size_1 = 4\n",
    "filter_size_2 = 6\n",
    "pool_size = 2\n",
    "\n",
    "model = torch.nn.Sequential(\n",
    "    torch.nn.Conv2d(in_channels=3,\n",
    "                    out_channels=num_filters,\n",
    "                    kernel_size=filter_size_1),\n",
    "    torch.nn.ReLU(),\n",
    "    torch.nn.Conv2d(in_channels=num_filters,\n",
    "                    out_channels=filter_size_2,\n",
    "                    kernel_size=filter_size_2),\n",
    "    torch.nn.ReLU(),\n",
    "    torch.nn.MaxPool2d(kernel_size=pool_size, stride=pool_size),\n",
    "    torch.nn.Flatten(),\n",
    "    torch.nn.Linear(filter_size_2 * 12**2, 10),\n",
    ")"
   ]
  },
  {
   "cell_type": "code",
   "execution_count": 8,
   "metadata": {},
   "outputs": [],
   "source": [
    "batch_size = 100\n",
    "num_epoch = 13\n",
    "\n",
    "loss = torch.nn.CrossEntropyLoss()\n",
    "optimizer = torch.optim.SGD(model.parameters(), lr=0.0060,momentum=0.9)"
   ]
  },
  {
   "cell_type": "code",
   "execution_count": 9,
   "metadata": {},
   "outputs": [
    {
     "name": "stdout",
     "output_type": "stream",
     "text": [
      "Epoch 1 final minibatch had loss 1.6065\n",
      "Epoch 2 final minibatch had loss 1.5060\n",
      "Epoch 3 final minibatch had loss 1.4220\n",
      "Epoch 4 final minibatch had loss 1.3652\n",
      "Epoch 5 final minibatch had loss 1.3126\n",
      "Epoch 6 final minibatch had loss 1.2573\n",
      "Epoch 7 final minibatch had loss 1.1978\n",
      "Epoch 8 final minibatch had loss 1.1647\n",
      "Epoch 9 final minibatch had loss 1.1392\n",
      "Epoch 10 final minibatch had loss 1.1192\n",
      "Epoch 11 final minibatch had loss 1.0889\n",
      "Epoch 12 final minibatch had loss 1.0945\n",
      "Epoch 13 final minibatch had loss 1.0880\n"
     ]
    }
   ],
   "source": [
    "# loss would be 1.0937 in the last epoch\n",
    "for epoch in range(1, num_epoch+1):\n",
    "    for i in range(0, len(X_train_tensor), batch_size):        \n",
    "        X = X_train_tensor[i:i+batch_size]\n",
    "        y = y_train_tensor[i:i+batch_size]\n",
    "\n",
    "        y_pred = model(X.float())\n",
    "        l = loss(y_pred, y.long())\n",
    "        \n",
    "        model.zero_grad()\n",
    "        l.backward()\n",
    "        optimizer.step()\n",
    "        \n",
    "    print(\"Epoch %d final minibatch had loss %.4f\" % (epoch, l.item()))"
   ]
  },
  {
   "cell_type": "code",
   "execution_count": 11,
   "metadata": {},
   "outputs": [],
   "source": [
    "# save the model to disk\n",
    "filename = 'cnnCifarModel.sav'\n",
    "pickle.dump(model, open(filename, 'wb'))\n",
    " \n",
    "# some time later...\n",
    " \n",
    "# load the model from disk\n",
    "loaded_model = pickle.load(open(filename, 'rb'))"
   ]
  },
  {
   "cell_type": "code",
   "execution_count": null,
   "metadata": {},
   "outputs": [],
   "source": [
    "# calculate training accuracy\n",
    "from sklearn.metrics import accuracy_score\n",
    "with torch.no_grad():\n",
    "    y_pred = model(X_train.float())\n",
    "    \n",
    "softmax = torch.exp(y_pred).cpu()\n",
    "prob = list(softmax.numpy())\n",
    "y_pred = np.argmax(prob, axis=1)\n",
    "\n",
    "accuracy = accuracy_score(y_train, y_pred) * 100\n",
    "# accuracy on training set\n",
    "print('Training accuracy is '+str(accuracy)"
   ]
  },
  {
   "cell_type": "code",
   "execution_count": null,
   "metadata": {},
   "outputs": [],
   "source": [
    "# calculate test accuracy\n",
    "with torch.no_grad():\n",
    "    y_test_pred = model(X_test.float())\n",
    "    \n",
    "softmax = torch.exp(y_test_pred).cpu()\n",
    "prob = list(softmax.numpy())\n",
    "y_test_pred = np.argmax(prob, axis=1)\n",
    "\n",
    "# accuracy on training set\n",
    "accuracy = accuracy_score(y_test, y_test_pred) * 100\n",
    "print('Testing accuracy is '+str(accuracy))"
   ]
  },
  {
   "cell_type": "code",
   "execution_count": 18,
   "metadata": {},
   "outputs": [],
   "source": [
    "#Reference : Lab 9 of COMP6321 by Prof Andrew Delong\n",
    "def plot_matrix_grid(V, cmap='bwr'):\n",
    "    \"\"\"\n",
    "    Given an array V containing stacked matrices, plots them in a grid layout.\n",
    "    V should have shape (K,M,N) where V[k] is a matrix of shape (M,N).\n",
    "    The default cmap is \"bwr\" (blue-white-red) but can also be \"gray\".\n",
    "    \"\"\"\n",
    "    if isinstance(V, torch.Tensor):\n",
    "        V = V.detach().numpy()\n",
    "    assert V.ndim == 3, \"Expected V to have 3 dimensions, not %d\" % V.ndim\n",
    "    k, m, n = V.shape\n",
    "    ncol = 8                                     # At most 8 columns\n",
    "    nrow = min(4, (k + ncol - 1) // ncol)        # At most 4 rows\n",
    "    V = V[:nrow*ncol]                            # Focus on just the matrices we'll actually plot\n",
    "    figsize = (2*ncol, max(1, 2*nrow*(m/n)))     # Guess a good figure shape based on ncol, nrow\n",
    "    fig, axes = plt.subplots(nrow, ncol, sharex=True, sharey=True, figsize=figsize)\n",
    "    vmax = np.percentile(np.abs(V), [99.9])      # Show the main range of values, between 0.1%-99.9%\n",
    "    for v, ax in zip(V, axes.flat):\n",
    "        img = ax.matshow(v, vmin=-vmax, vmax=vmax, cmap=plt.get_cmap(cmap))\n",
    "        ax.set_xticks([])\n",
    "        ax.set_yticks([])\n",
    "    for ax in axes.flat[len(V):]:\n",
    "        ax.set_axis_off()\n",
    "    fig.colorbar(img, cax=fig.add_axes([0.92, 0.25, 0.01, .5]))   # Add a colorbar on the right "
   ]
  },
  {
   "cell_type": "code",
   "execution_count": 22,
   "metadata": {},
   "outputs": [
    {
     "data": {
      "image/png": "[encoded data removed]",
      "text/plain": [
       "<Figure size 1152x288 with 17 Axes>"
      ]
     },
     "metadata": {
      "needs_background": "light"
     },
     "output_type": "display_data"
    }
   ],
   "source": [
    "# Your code here. Aim for 2-3 lines.\n",
    "W1, b1, W2, b2,W3,b3 = model.parameters()\n",
    "plot_matrix_grid(W1.reshape(-1, filter_size_1, filter_size_1))"
   ]
  },
  {
   "cell_type": "code",
   "execution_count": 35,
   "metadata": {},
   "outputs": [
    {
     "name": "stdout",
     "output_type": "stream",
     "text": [
      "Fitting 3 folds for each of 10 candidates, totalling 30 fits\n"
     ]
    },
    {
     "name": "stderr",
     "output_type": "stream",
     "text": [
      "[Parallel(n_jobs=4)]: Using backend LokyBackend with 4 concurrent workers.\n",
      "[Parallel(n_jobs=4)]: Done  30 out of  30 | elapsed: 16.5min finished\n"
     ]
    },
    {
     "name": "stdout",
     "output_type": "stream",
     "text": [
      "Accuracy : 30.459999999999997\n"
     ]
    }
   ],
   "source": [
    "# decision tree classifier\n",
    "from sklearn.tree import DecisionTreeClassifier\n",
    "from sklearn.model_selection import GridSearchCV\n",
    "\n",
    "model = DecisionTreeClassifier()\n",
    "param_distribution = {'criterion':['gini','entropy'], 'max_depth': range(1,10,2)}\n",
    "\n",
    "gridcv = GridSearchCV(model, param_distribution, verbose=1, n_jobs=4, cv=3)\n",
    "gridcv.fit(X_train, y_train)\n",
    "grid_accuracy_test  = sklearn.metrics.accuracy_score(y_test,  gridcv.best_estimator_.predict(X_test))\n",
    "accuracy = grid_accuracy_test*100\n",
    "print(\"Accuracy : \"+str(accuracy))"
   ]
  },
  {
   "cell_type": "code",
   "execution_count": 37,
   "metadata": {},
   "outputs": [],
   "source": [
    "# save the model to disk\n",
    "filename = 'decision_tree.sav'\n",
    "pickle.dump(gridcv.best_estimator_, open(filename, 'wb'))\n",
    " \n",
    "# some time later...\n",
    " \n",
    "# load the model from disk\n",
    "loaded_model = pickle.load(open(filename, 'rb'))"
   ]
  },
  {
   "cell_type": "code",
   "execution_count": 7,
   "metadata": {},
   "outputs": [
    {
     "name": "stderr",
     "output_type": "stream",
     "text": [
      "c:\\users\\emnsrjm\\appdata\\local\\programs\\python\\python37\\lib\\site-packages\\sklearn\\utils\\deprecation.py:144: FutureWarning: The sklearn.tree.tree module is  deprecated in version 0.22 and will be removed in version 0.24. The corresponding classes / functions should instead be imported from sklearn.tree. Anything that cannot be imported from sklearn.tree is now part of the private API.\n",
      "  warnings.warn(message, FutureWarning)\n",
      "c:\\users\\emnsrjm\\appdata\\local\\programs\\python\\python37\\lib\\site-packages\\sklearn\\base.py:318: UserWarning: Trying to unpickle estimator DecisionTreeClassifier from version 0.21.3 when using version 0.22. This might lead to breaking code or invalid results. Use at your own risk.\n",
      "  UserWarning)\n"
     ]
    },
    {
     "ename": "ImportError",
     "evalue": "cannot import name 'export_graphiz' from 'sklearn.tree' (c:\\users\\emnsrjm\\appdata\\local\\programs\\python\\python37\\lib\\site-packages\\sklearn\\tree\\__init__.py)",
     "output_type": "error",
     "traceback": [
      "\u001b[1;31m---------------------------------------------------------------------------\u001b[0m",
      "\u001b[1;31mImportError\u001b[0m                               Traceback (most recent call last)",
      "\u001b[1;32m<ipython-input-7-e6191dca34b3>\u001b[0m in \u001b[0;36m<module>\u001b[1;34m\u001b[0m\n\u001b[0;32m      3\u001b[0m \u001b[0mlist_\u001b[0m \u001b[1;33m=\u001b[0m \u001b[1;33m[\u001b[0m\u001b[1;34m'airplane'\u001b[0m\u001b[1;33m,\u001b[0m\u001b[1;34m'sfs'\u001b[0m\u001b[1;33m,\u001b[0m\u001b[1;34m'asa'\u001b[0m\u001b[1;33m,\u001b[0m\u001b[1;34m'sdfasdf'\u001b[0m\u001b[1;33m,\u001b[0m\u001b[1;34m'sdfsdf'\u001b[0m\u001b[1;33m,\u001b[0m\u001b[1;34m'sdfsd'\u001b[0m\u001b[1;33m]\u001b[0m\u001b[1;33m\u001b[0m\u001b[0m\n\u001b[0;32m      4\u001b[0m \u001b[1;31m#sklearn.tree.plot_tree(loaded_model, max_depth=2,feature_names=['x1', 'x2']);\u001b[0m\u001b[1;33m\u001b[0m\u001b[1;33m\u001b[0m\u001b[0m\n\u001b[1;32m----> 5\u001b[1;33m \u001b[1;32mfrom\u001b[0m \u001b[0msklearn\u001b[0m\u001b[1;33m.\u001b[0m\u001b[0mtree\u001b[0m \u001b[1;32mimport\u001b[0m \u001b[0mexport_graphiz\u001b[0m\u001b[1;33m\u001b[0m\u001b[0m\n\u001b[0m\u001b[0;32m      6\u001b[0m \u001b[1;32mimport\u001b[0m \u001b[0mgraphiz\u001b[0m\u001b[1;33m\u001b[0m\u001b[0m\n\u001b[0;32m      7\u001b[0m \u001b[0mexport_graphiz\u001b[0m\u001b[1;33m(\u001b[0m\u001b[0mgridcv\u001b[0m\u001b[1;33m.\u001b[0m\u001b[0mbest_estimator_\u001b[0m\u001b[1;33m,\u001b[0m\u001b[0mout_file\u001b[0m\u001b[1;33m=\u001b[0m\u001b[1;34m'dtc.dot'\u001b[0m\u001b[1;33m,\u001b[0m\u001b[0mclass_names\u001b[0m\u001b[1;33m=\u001b[0m\u001b[0mlist_\u001b[0m\u001b[1;33m)\u001b[0m\u001b[1;33m\u001b[0m\u001b[0m\n",
      "\u001b[1;31mImportError\u001b[0m: cannot import name 'export_graphiz' from 'sklearn.tree' (c:\\users\\emnsrjm\\appdata\\local\\programs\\python\\python37\\lib\\site-packages\\sklearn\\tree\\__init__.py)"
     ]
    }
   ],
   "source": [
    "import pickle\n",
    "loaded_model = pickle.load(open('decision_tree.sav', 'rb'))\n",
    "list_ = ['airplane','sfs','asa','sdfasdf','sdfsdf','sdfsd']\n",
    "#sklearn.tree.plot_tree(loaded_model, max_depth=2,feature_names=['x1', 'x2']);\n",
    "from sklearn.tree import export_graphiz\n",
    "import graphiz\n",
    "export_graphiz(gridcv.best_estimator_,out_file='dtc.dot',class_names=list_)\n",
    "with open('dtc.dot') as f:\n",
    "    graph = f.read()\n",
    "graphiz.Source(graph)"
   ]
  },
  {
   "cell_type": "code",
   "execution_count": null,
   "metadata": {},
   "outputs": [],
   "source": []
  }
 ],
 "metadata": {
  "kernelspec": {
   "display_name": "Python 3",
   "language": "python",
   "name": "python3"
  },
  "language_info": {
   "codemirror_mode": {
    "name": "ipython",
    "version": 3
   },
   "file_extension": ".py",
   "mimetype": "text/x-python",
   "name": "python",
   "nbconvert_exporter": "python",
   "pygments_lexer": "ipython3",
   "version": "3.7.0"
  }
 },
 "nbformat": 4,
 "nbformat_minor": 2
}
